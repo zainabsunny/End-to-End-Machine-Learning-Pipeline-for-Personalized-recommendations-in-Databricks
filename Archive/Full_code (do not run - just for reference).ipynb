{
 "cells": [
  {
   "cell_type": "markdown",
   "metadata": {
    "application/vnd.databricks.v1+cell": {
     "cellMetadata": {},
     "inputWidgets": {},
     "nuid": "4877de4d-886a-41f9-975f-5a9fdc56e059",
     "showTitle": false,
     "tableResultSettingsMap": {},
     "title": ""
    }
   },
   "source": [
    "# DO NOT RUN THIS NOTEBOOK, IT HAS FULL CODE FR REFERENCE "
   ]
  },
  {
   "cell_type": "markdown",
   "metadata": {
    "application/vnd.databricks.v1+cell": {
     "cellMetadata": {},
     "inputWidgets": {},
     "nuid": "bfb046b3-c3b2-4590-9352-9a777e64cdab",
     "showTitle": false,
     "tableResultSettingsMap": {},
     "title": ""
    }
   },
   "source": [
    "## Load Dataset"
   ]
  },
  {
   "cell_type": "code",
   "execution_count": 0,
   "metadata": {
    "application/vnd.databricks.v1+cell": {
     "cellMetadata": {
      "byteLimit": 2048000,
      "rowLimit": 10000
     },
     "inputWidgets": {},
     "nuid": "ed682441-c7e6-4c25-9533-eedb89afb21f",
     "showTitle": false,
     "tableResultSettingsMap": {},
     "title": ""
    }
   },
   "outputs": [],
   "source": [
    "# Load Dataset from S3 Bucket\n",
    "cosmetic_store_data_path = \"s3://e-commerce-pipeline-dataset/Cosmetic Store Website Data.csv\"\n",
    "reviews_data_path = \"s3://e-commerce-pipeline-dataset/nyka_top_brands_cosmetics_product_reviews.csv\"\n",
    "product_mapping_path = \"s3://e-commerce-pipeline-dataset/unique_product_id_pairings.csv\"\n",
    "\n",
    "cosmetic_df = spark.read.csv(cosmetic_store_data_path, header=True, inferSchema=True)\n",
    "reviews_df = spark.read.csv(reviews_data_path, header=True, inferSchema=True)\n",
    "mapping_df = spark.read.csv(product_mapping_path, header=True, inferSchema=True)"
   ]
  },
  {
   "cell_type": "code",
   "execution_count": 0,
   "metadata": {
    "application/vnd.databricks.v1+cell": {
     "cellMetadata": {
      "byteLimit": 2048000,
      "rowLimit": 10000
     },
     "inputWidgets": {},
     "nuid": "f971cc38-9231-4661-907c-4f7437e4a25a",
     "showTitle": false,
     "tableResultSettingsMap": {},
     "title": ""
    }
   },
   "outputs": [],
   "source": [
    "cosmetic_df.show(5)"
   ]
  },
  {
   "cell_type": "code",
   "execution_count": 0,
   "metadata": {
    "application/vnd.databricks.v1+cell": {
     "cellMetadata": {
      "byteLimit": 2048000,
      "rowLimit": 10000
     },
     "inputWidgets": {},
     "nuid": "a594749a-9e89-4402-8f34-55f56c361f8c",
     "showTitle": false,
     "tableResultSettingsMap": {},
     "title": ""
    }
   },
   "outputs": [],
   "source": [
    "reviews_df.show(5)"
   ]
  },
  {
   "cell_type": "code",
   "execution_count": 0,
   "metadata": {
    "application/vnd.databricks.v1+cell": {
     "cellMetadata": {
      "byteLimit": 2048000,
      "rowLimit": 10000
     },
     "inputWidgets": {},
     "nuid": "d698ced0-0928-4031-b288-6cc39e8a5623",
     "showTitle": false,
     "tableResultSettingsMap": {},
     "title": ""
    }
   },
   "outputs": [],
   "source": [
    "mapping_df.show(5)"
   ]
  },
  {
   "cell_type": "markdown",
   "metadata": {
    "application/vnd.databricks.v1+cell": {
     "cellMetadata": {},
     "inputWidgets": {},
     "nuid": "fbcdf1c9-7002-4d0c-a457-a63988acc1a7",
     "showTitle": false,
     "tableResultSettingsMap": {},
     "title": ""
    }
   },
   "source": [
    "%md\n",
    "## Initial Data Cleaning"
   ]
  },
  {
   "cell_type": "code",
   "execution_count": 0,
   "metadata": {
    "application/vnd.databricks.v1+cell": {
     "cellMetadata": {
      "byteLimit": 2048000,
      "rowLimit": 10000
     },
     "inputWidgets": {},
     "nuid": "6393ad56-0b90-4952-a7e7-e9fa6270725e",
     "showTitle": false,
     "tableResultSettingsMap": {},
     "title": ""
    }
   },
   "outputs": [],
   "source": [
    "# Drop Duplicates\n",
    "cosmetic_df = cosmetic_df.dropDuplicates()\n",
    "reviews_df = reviews_df.dropDuplicates()\n",
    "mapping_df = mapping_df.dropDuplicates()"
   ]
  },
  {
   "cell_type": "code",
   "execution_count": 0,
   "metadata": {
    "application/vnd.databricks.v1+cell": {
     "cellMetadata": {
      "byteLimit": 2048000,
      "rowLimit": 10000
     },
     "inputWidgets": {},
     "nuid": "a2fb34e1-06cb-44ad-882e-a7bbe35c821d",
     "showTitle": false,
     "tableResultSettingsMap": {},
     "title": ""
    }
   },
   "outputs": [],
   "source": [
    "# Standardizing column names\n",
    "cosmetic_df = cosmetic_df.withColumnRenamed(\"product_id\", \"cosmeticProductId\") \\\n",
    "                         .withColumnRenamed(\"price\", \"cosmetic_price\") \n",
    "\n",
    "reviews_df = reviews_df.withColumnRenamed(\"product_id\", \"reviewProductId\") \\\n",
    "                       .withColumnRenamed(\"price\", \"review_price\")\n",
    "\n",
    "mapping_df = mapping_df.withColumnRenamed(\"product_id_events\", \"cosmeticProductId\") \\\n",
    "                       .withColumnRenamed(\"product_id_reviews\", \"reviewProductId\")"
   ]
  },
  {
   "cell_type": "code",
   "execution_count": 0,
   "metadata": {
    "application/vnd.databricks.v1+cell": {
     "cellMetadata": {
      "byteLimit": 2048000,
      "rowLimit": 10000
     },
     "inputWidgets": {},
     "nuid": "18657a06-e573-44a3-b8f3-0b1a02a82fbb",
     "showTitle": false,
     "tableResultSettingsMap": {},
     "title": ""
    }
   },
   "outputs": [],
   "source": [
    "# Drop unnecessary columns and fill missing values\n",
    "cosmetic_df = cosmetic_df.filter(cosmetic_df['cosmetic_price'] > 0)\n",
    "\n",
    "mapping_df = mapping_df.na.drop()"
   ]
  },
  {
   "cell_type": "code",
   "execution_count": 0,
   "metadata": {
    "application/vnd.databricks.v1+cell": {
     "cellMetadata": {
      "byteLimit": 2048000,
      "rowLimit": 10000
     },
     "inputWidgets": {},
     "nuid": "4012894b-6d01-4c9d-b167-381e31d2523f",
     "showTitle": false,
     "tableResultSettingsMap": {},
     "title": ""
    }
   },
   "outputs": [],
   "source": [
    "from pyspark.sql.functions import udf\n",
    "from pyspark.sql.types import StringType\n",
    "import pandas as pd\n",
    "import re\n",
    "import nltk\n",
    "from nltk.corpus import stopwords"
   ]
  },
  {
   "cell_type": "code",
   "execution_count": 0,
   "metadata": {
    "application/vnd.databricks.v1+cell": {
     "cellMetadata": {
      "byteLimit": 2048000,
      "rowLimit": 10000
     },
     "inputWidgets": {},
     "nuid": "13270b75-5526-47a1-a2bc-277d0523e572",
     "showTitle": false,
     "tableResultSettingsMap": {},
     "title": ""
    }
   },
   "outputs": [],
   "source": [
    "nltk.download('stopwords')\n",
    "stop_words = set(stopwords.words('english'))\n",
    "\n",
    "def clean_text(text):\n",
    "    if isinstance(text, str):\n",
    "        text = text.lower()\n",
    "        text = text.replace('\\n', ' ')  # Remove new lines\n",
    "        text = text.replace('\\t', ' ')  # Remove tabs\n",
    "        text = text.replace('\\r', ' ')  # Remove returns\n",
    "        text = re.sub(r'[^a-z\\s]', '', text)  # Remove non-alphanumeric characters except spaces\n",
    "        words = text.split()  # Tokenize the text\n",
    "        words = [word for word in words if word not in stop_words]  # Remove stopwords\n",
    "        text = ' '.join(words)  # Combine words back into text\n",
    "        return text.strip()\n",
    "    return text  # Return original value if not a string (e.g., NaN)\n",
    "\n",
    "# Register the clean_text function as a UDF\n",
    "clean_text_udf = udf(clean_text, StringType())\n",
    "\n",
    "# Drop unnecessary columns and handle missing values\n",
    "reviews_df = reviews_df.drop(\"product_tags\")\n",
    "reviews_df = reviews_df.fillna({\n",
    "    'review_text': 'No review', \n",
    "    'brand_name': 'Unknown', \n",
    "    'review_label': 'No Label',\n",
    "    'product_title': 'Unknown Title'\n",
    "})\n",
    "\n",
    "# Apply the UDF to clean the review_title and review_text columns\n",
    "reviews_df = reviews_df.withColumn(\"review_title_clean\", clean_text_udf(reviews_df[\"review_title\"]))\n",
    "reviews_df = reviews_df.withColumn(\"review_text_clean\", clean_text_udf(reviews_df[\"review_text\"]))\n",
    "\n",
    "# Show the results\n",
    "reviews_df.select(\"review_title\", \"review_title_clean\", \"review_text\", \"review_text_clean\").show(5)"
   ]
  },
  {
   "cell_type": "code",
   "execution_count": 0,
   "metadata": {
    "application/vnd.databricks.v1+cell": {
     "cellMetadata": {
      "byteLimit": 2048000,
      "rowLimit": 10000
     },
     "inputWidgets": {},
     "nuid": "a696e1fa-17eb-4fc4-b762-20273538e2b9",
     "showTitle": false,
     "tableResultSettingsMap": {},
     "title": ""
    }
   },
   "outputs": [],
   "source": [
    "# Filtering our multi classificaiton \n",
    "valid_events = [\"view\", \"cart\", \"remove_from_cart\", \"purchase\"]\n",
    "cosmetic_df = cosmetic_df.filter(cosmetic_df.event_type.isin(valid_events))\n",
    "\n",
    "cosmetic_df.groupBy(\"event_type\").count().show()"
   ]
  },
  {
   "cell_type": "code",
   "execution_count": 0,
   "metadata": {
    "application/vnd.databricks.v1+cell": {
     "cellMetadata": {
      "byteLimit": 2048000,
      "rowLimit": 10000
     },
     "inputWidgets": {},
     "nuid": "c98559f4-3cb0-4970-a7f2-c6cae9e26d07",
     "showTitle": false,
     "tableResultSettingsMap": {},
     "title": ""
    }
   },
   "outputs": [],
   "source": [
    "cosmetic_df.show(5)"
   ]
  },
  {
   "cell_type": "code",
   "execution_count": 0,
   "metadata": {
    "application/vnd.databricks.v1+cell": {
     "cellMetadata": {
      "byteLimit": 2048000,
      "rowLimit": 10000
     },
     "inputWidgets": {},
     "nuid": "b3ef2641-fb77-420d-b755-7491fd838777",
     "showTitle": false,
     "tableResultSettingsMap": {},
     "title": ""
    }
   },
   "outputs": [],
   "source": [
    "reviews_df.show(5)"
   ]
  },
  {
   "cell_type": "code",
   "execution_count": 0,
   "metadata": {
    "application/vnd.databricks.v1+cell": {
     "cellMetadata": {
      "byteLimit": 2048000,
      "rowLimit": 10000
     },
     "inputWidgets": {},
     "nuid": "c419e841-8950-4076-be05-5ed8c39ddfe5",
     "showTitle": false,
     "tableResultSettingsMap": {},
     "title": ""
    }
   },
   "outputs": [],
   "source": [
    "mapping_df.show(5)"
   ]
  },
  {
   "cell_type": "markdown",
   "metadata": {
    "application/vnd.databricks.v1+cell": {
     "cellMetadata": {},
     "inputWidgets": {},
     "nuid": "5476b78b-c254-43ad-9c8a-3cb5b053e3a6",
     "showTitle": false,
     "tableResultSettingsMap": {},
     "title": ""
    }
   },
   "source": [
    "## Unity Catalog Paths"
   ]
  },
  {
   "cell_type": "code",
   "execution_count": 0,
   "metadata": {
    "application/vnd.databricks.v1+cell": {
     "cellMetadata": {
      "byteLimit": 2048000,
      "rowLimit": 10000
     },
     "inputWidgets": {},
     "nuid": "ae7fda3c-3e09-4b0e-af90-3fd36646d4eb",
     "showTitle": false,
     "tableResultSettingsMap": {},
     "title": ""
    }
   },
   "outputs": [],
   "source": [
    "# # Example: Deleting the directory in DBFS\n",
    "# dbutils.fs.rm(\"dbfs:/mnt/delta/combined_cleaned_data\", True)  # True for recursive delete\n",
    "\n",
    "# dbutils.fs.rm(\"dbfs:/mnt/delta/cosmetic_store_data\", True)  # True for recursive delete\n",
    "# dbutils.fs.rm(\"dbfs:/mnt/delta/product_reviews\", True)  # True for recursive delete\n",
    "# dbutils.fs.rm(\"dbfs:/mnt/delta/product_mapping\", True)  # True for recursive delete"
   ]
  },
  {
   "cell_type": "code",
   "execution_count": 0,
   "metadata": {
    "application/vnd.databricks.v1+cell": {
     "cellMetadata": {},
     "inputWidgets": {},
     "nuid": "a6b166e7-3b8a-4e39-bf1d-672bbdd89d9e",
     "showTitle": false,
     "tableResultSettingsMap": {},
     "title": ""
    }
   },
   "outputs": [],
   "source": [
    "%sql\n",
    "-- CREATE CATALOG ecommerces_catalog;\n",
    "-- CREATE SCHEMA ecommerces_catalog.recommendation_schema;"
   ]
  },
  {
   "cell_type": "code",
   "execution_count": 0,
   "metadata": {
    "application/vnd.databricks.v1+cell": {
     "cellMetadata": {
      "byteLimit": 2048000,
      "rowLimit": 10000
     },
     "inputWidgets": {},
     "nuid": "07248ca7-cc12-4c5e-8396-04f9a588c3ad",
     "showTitle": false,
     "tableResultSettingsMap": {},
     "title": ""
    }
   },
   "outputs": [],
   "source": [
    "# Unity Catalog table names\n",
    "cosmetic_store_table = \"ecommerces_catalog.recommendation_schema.cosmetic_store_data\"\n",
    "reviews_table = \"ecommerces_catalog.recommendation_schema.product_reviews\"\n",
    "mapping_table = \"ecommerces_catalog.recommendation_schema.product_mapping\"\n"
   ]
  },
  {
   "cell_type": "code",
   "execution_count": 0,
   "metadata": {
    "application/vnd.databricks.v1+cell": {
     "cellMetadata": {
      "byteLimit": 2048000,
      "rowLimit": 10000
     },
     "inputWidgets": {},
     "nuid": "53826c47-db77-49f2-823a-e2d513940525",
     "showTitle": false,
     "tableResultSettingsMap": {},
     "title": ""
    }
   },
   "outputs": [],
   "source": [
    "# Load Data into Unity Catalog\n",
    "cosmetic_df.write.format(\"delta\").mode(\"overwrite\").saveAsTable(cosmetic_store_table)\n",
    "reviews_df.write.format(\"delta\").mode(\"overwrite\").saveAsTable(reviews_table)\n",
    "mapping_df.write.format(\"delta\").mode(\"overwrite\").saveAsTable(mapping_table)\n"
   ]
  },
  {
   "cell_type": "code",
   "execution_count": 0,
   "metadata": {
    "application/vnd.databricks.v1+cell": {
     "cellMetadata": {
      "byteLimit": 2048000,
      "rowLimit": 10000
     },
     "inputWidgets": {},
     "nuid": "823b873f-05c2-4f54-9872-5cfc6938cf4c",
     "showTitle": false,
     "tableResultSettingsMap": {},
     "title": ""
    }
   },
   "outputs": [],
   "source": [
    "# Load data from Unity Catalog\n",
    "cosmetic_df = spark.read.table(cosmetic_store_table)\n",
    "reviews_df = spark.read.table(reviews_table)\n",
    "mapping_df = spark.read.table(mapping_table)\n"
   ]
  },
  {
   "cell_type": "markdown",
   "metadata": {
    "application/vnd.databricks.v1+cell": {
     "cellMetadata": {},
     "inputWidgets": {},
     "nuid": "9739984e-a1e7-4b01-9658-464335d00525",
     "showTitle": false,
     "tableResultSettingsMap": {},
     "title": ""
    }
   },
   "source": [
    "## Feature Engineering"
   ]
  },
  {
   "cell_type": "markdown",
   "metadata": {
    "application/vnd.databricks.v1+cell": {
     "cellMetadata": {},
     "inputWidgets": {},
     "nuid": "e105371e-da6f-41d4-a707-3faa8b0e4f44",
     "showTitle": false,
     "tableResultSettingsMap": {},
     "title": ""
    }
   },
   "source": [
    "### Unstructed Data"
   ]
  },
  {
   "cell_type": "code",
   "execution_count": 0,
   "metadata": {
    "application/vnd.databricks.v1+cell": {
     "cellMetadata": {
      "byteLimit": 2048000,
      "rowLimit": 10000
     },
     "inputWidgets": {},
     "nuid": "ef3f4066-7579-40bb-9126-dbf93b03dda5",
     "showTitle": false,
     "tableResultSettingsMap": {},
     "title": ""
    }
   },
   "outputs": [],
   "source": [
    "from pyspark.sql.functions import udf\n",
    "from pyspark.sql.types import StringType\n",
    "from nltk.stem import PorterStemmer, WordNetLemmatizer\n",
    "from nltk.corpus import wordnet\n",
    "from nltk import pos_tag, word_tokenize\n",
    "import nltk\n",
    "from pyspark.sql.functions import col"
   ]
  },
  {
   "cell_type": "code",
   "execution_count": 0,
   "metadata": {
    "application/vnd.databricks.v1+cell": {
     "cellMetadata": {
      "byteLimit": 2048000,
      "rowLimit": 10000
     },
     "inputWidgets": {},
     "nuid": "51b3284b-28c9-45a1-b263-70daf8597666",
     "showTitle": false,
     "tableResultSettingsMap": {},
     "title": ""
    }
   },
   "outputs": [],
   "source": [
    "\n",
    "reviews_df = reviews_df.withColumn(\"review_title_clean\", col(\"review_title_clean\").cast(StringType()))\n",
    "reviews_df = reviews_df.withColumn(\"review_text_clean\", col(\"review_text_clean\").cast(StringType()))\n",
    "\n",
    "reviews_df = reviews_df.fillna({'review_title_clean': 'No title', 'review_text_clean': 'No review'})"
   ]
  },
  {
   "cell_type": "code",
   "execution_count": 0,
   "metadata": {
    "application/vnd.databricks.v1+cell": {
     "cellMetadata": {
      "byteLimit": 2048000,
      "rowLimit": 10000
     },
     "inputWidgets": {},
     "nuid": "5c76d778-b685-43c7-8b31-0daf126d23bf",
     "showTitle": false,
     "tableResultSettingsMap": {},
     "title": ""
    }
   },
   "outputs": [],
   "source": [
    "!pip install spacy\n",
    "!python -m spacy download en_core_web_sm\n",
    "import spacy\n",
    "from pyspark.sql.functions import udf\n",
    "from pyspark.sql.types import StringType"
   ]
  },
  {
   "cell_type": "code",
   "execution_count": 0,
   "metadata": {
    "application/vnd.databricks.v1+cell": {
     "cellMetadata": {
      "byteLimit": 2048000,
      "rowLimit": 10000
     },
     "inputWidgets": {},
     "nuid": "0069fa0f-79b6-4bd0-9be5-2ce5b1bc8d5b",
     "showTitle": false,
     "tableResultSettingsMap": {},
     "title": ""
    }
   },
   "outputs": [],
   "source": [
    "nlp = spacy.load(\"en_core_web_sm\")\n",
    "\n",
    "# Define the stemming and lemmatization functions\n",
    "def process_text_spacy(text):\n",
    "    try:\n",
    "        if isinstance(text, str) and text:\n",
    "            doc = nlp(text)\n",
    "            lemmatized = \" \".join([token.lemma_ for token in doc])  # Lemmatization using SpaCy\n",
    "            stemmed = \" \".join([token.text[:3] for token in doc])   # Simulated \"stemming\" by truncating words (example)\n",
    "            return stemmed, lemmatized\n",
    "        else:\n",
    "            return \"\", \"\"  # Handle invalid input gracefully\n",
    "    except Exception as e:\n",
    "        print(f\"Error processing text: {text} | Error: {e}\")\n",
    "        return \"\", \"\"\n",
    "\n",
    "# Register UDFs for stemming and lemmatization\n",
    "stem_udf = udf(lambda text: process_text_spacy(text)[0], StringType())\n",
    "lemmatize_udf = udf(lambda text: process_text_spacy(text)[1], StringType())\n",
    "\n",
    "# Fill missing values for relevant columns\n",
    "reviews_df = reviews_df.fillna({\n",
    "    \"review_title_clean\": \"No title\",\n",
    "    \"review_text_clean\": \"No review\"\n",
    "})\n",
    "\n",
    "# Apply UDFs to DataFrame columns\n",
    "reviews_df = reviews_df.withColumn(\"stemmed_title\", stem_udf(reviews_df[\"review_title_clean\"]))\n",
    "reviews_df = reviews_df.withColumn(\"lemmatized_title\", lemmatize_udf(reviews_df[\"review_title_clean\"]))\n",
    "reviews_df = reviews_df.withColumn(\"stemmed_text\", stem_udf(reviews_df[\"review_text_clean\"]))\n",
    "reviews_df = reviews_df.withColumn(\"lemmatized_text\", lemmatize_udf(reviews_df[\"review_text_clean\"]))\n",
    "\n",
    "# Show results for titles\n",
    "reviews_df.select(\"review_title_clean\", \"stemmed_title\", \"lemmatized_title\").show(5)\n",
    "\n",
    "# Show results for text\n",
    "reviews_df.select(\"review_text_clean\", \"stemmed_text\", \"lemmatized_text\").show(5)"
   ]
  },
  {
   "cell_type": "markdown",
   "metadata": {
    "application/vnd.databricks.v1+cell": {
     "cellMetadata": {},
     "inputWidgets": {},
     "nuid": "c04cd8e2-7df5-4013-a5ec-2ebd87f365af",
     "showTitle": false,
     "tableResultSettingsMap": {},
     "title": ""
    }
   },
   "source": [
    "### Structured Data"
   ]
  },
  {
   "cell_type": "markdown",
   "metadata": {
    "application/vnd.databricks.v1+cell": {
     "cellMetadata": {},
     "inputWidgets": {},
     "nuid": "bffc8053-e364-4ade-8849-237ede68183d",
     "showTitle": false,
     "tableResultSettingsMap": {},
     "title": ""
    }
   },
   "source": [
    "#### Outcome Variable (Y): Customer Engagement Level"
   ]
  },
  {
   "cell_type": "code",
   "execution_count": 0,
   "metadata": {
    "application/vnd.databricks.v1+cell": {
     "cellMetadata": {
      "byteLimit": 2048000,
      "rowLimit": 10000
     },
     "inputWidgets": {},
     "nuid": "5544fa73-5a54-43a5-94f7-d264c32eb0fd",
     "showTitle": false,
     "tableResultSettingsMap": {},
     "title": ""
    }
   },
   "outputs": [],
   "source": [
    "from pyspark.sql.functions import datediff, current_date\n",
    "from pyspark.sql.functions import min, max\n",
    "from pyspark.sql.functions import countDistinct\n",
    "from pyspark.ml.feature import StringIndexer"
   ]
  },
  {
   "cell_type": "code",
   "execution_count": 0,
   "metadata": {
    "application/vnd.databricks.v1+cell": {
     "cellMetadata": {
      "byteLimit": 2048000,
      "rowLimit": 10000
     },
     "inputWidgets": {},
     "nuid": "95d54699-19b7-410b-8105-c26be5ba2df5",
     "showTitle": false,
     "tableResultSettingsMap": {},
     "title": ""
    }
   },
   "outputs": [],
   "source": [
    "#Encode event_type to map engagement levels\n",
    "cosmetic_df = cosmetic_df.drop(\"event_type_index\")\n",
    "\n",
    "indexer = StringIndexer(inputCol=\"event_type\", outputCol=\"event_type_index\")\n",
    "cosmetic_df = indexer.fit(cosmetic_df).transform(cosmetic_df)\n",
    "\n",
    "cosmetic_df.select(\"event_type\", \"event_type_index\").distinct().show()"
   ]
  },
  {
   "cell_type": "code",
   "execution_count": 0,
   "metadata": {
    "application/vnd.databricks.v1+cell": {
     "cellMetadata": {
      "byteLimit": 2048000,
      "rowLimit": 10000
     },
     "inputWidgets": {},
     "nuid": "bb82e781-df06-4519-ac0f-9e11ebb3d6cc",
     "showTitle": false,
     "tableResultSettingsMap": {},
     "title": ""
    }
   },
   "outputs": [],
   "source": [
    "# Distribution of classes\n",
    "cosmetic_df.groupBy(\"event_type_index\").count().show()"
   ]
  },
  {
   "cell_type": "markdown",
   "metadata": {
    "application/vnd.databricks.v1+cell": {
     "cellMetadata": {},
     "inputWidgets": {},
     "nuid": "1ded1457-b238-4ad6-8a71-3ff713b88105",
     "showTitle": false,
     "tableResultSettingsMap": {},
     "title": ""
    }
   },
   "source": [
    "#### Predictor Variables (X): Structured Features"
   ]
  },
  {
   "cell_type": "code",
   "execution_count": 0,
   "metadata": {
    "application/vnd.databricks.v1+cell": {
     "cellMetadata": {
      "byteLimit": 2048000,
      "rowLimit": 10000
     },
     "inputWidgets": {},
     "nuid": "6247c1ba-53ce-4ecb-a556-9f0c38052fed",
     "showTitle": false,
     "tableResultSettingsMap": {},
     "title": ""
    }
   },
   "outputs": [],
   "source": [
    "from pyspark.sql.functions import datediff, current_date\n",
    "from pyspark.sql.functions import min, max\n",
    "from pyspark.sql.functions import countDistinct"
   ]
  },
  {
   "cell_type": "code",
   "execution_count": 0,
   "metadata": {
    "application/vnd.databricks.v1+cell": {
     "cellMetadata": {
      "byteLimit": 2048000,
      "rowLimit": 10000
     },
     "inputWidgets": {},
     "nuid": "232598d2-ff14-4504-9deb-ea43634a15b2",
     "showTitle": false,
     "tableResultSettingsMap": {},
     "title": ""
    }
   },
   "outputs": [],
   "source": [
    "#Recency: Days since the last interaction\n",
    "\n",
    "cosmetic_df = cosmetic_df.withColumn(\"recency\", datediff(current_date(), col(\"event_time\")))"
   ]
  },
  {
   "cell_type": "code",
   "execution_count": 0,
   "metadata": {
    "application/vnd.databricks.v1+cell": {
     "cellMetadata": {
      "byteLimit": 2048000,
      "rowLimit": 10000
     },
     "inputWidgets": {},
     "nuid": "3fa9a563-724e-48e4-9061-f28f482071e2",
     "showTitle": false,
     "tableResultSettingsMap": {},
     "title": ""
    }
   },
   "outputs": [],
   "source": [
    "# Frequency: Total interactions per user session\n",
    "\n",
    "frequency_df = cosmetic_df.groupBy(\"user_session\").count().withColumnRenamed(\"count\", \"frequency\")\n",
    "cosmetic_df = cosmetic_df.join(frequency_df, on=\"user_session\", how=\"left\")"
   ]
  },
  {
   "cell_type": "code",
   "execution_count": 0,
   "metadata": {
    "application/vnd.databricks.v1+cell": {
     "cellMetadata": {
      "byteLimit": 2048000,
      "rowLimit": 10000
     },
     "inputWidgets": {},
     "nuid": "36d9ccb7-63d2-4034-96d3-6c29b7bd830f",
     "showTitle": false,
     "tableResultSettingsMap": {},
     "title": ""
    }
   },
   "outputs": [],
   "source": [
    "# Product Popularity: Number of purchases per product\n",
    "\n",
    "product_popularity = cosmetic_df.filter(col(\"event_type\") == \"purchase\").groupBy(\"cosmeticProductId\").count().withColumnRenamed(\"count\", \"popularity\")\n",
    "cosmetic_df = cosmetic_df.join(product_popularity, on=\"cosmeticProductId\", how=\"left\")"
   ]
  },
  {
   "cell_type": "code",
   "execution_count": 0,
   "metadata": {
    "application/vnd.databricks.v1+cell": {
     "cellMetadata": {
      "byteLimit": 2048000,
      "rowLimit": 10000
     },
     "inputWidgets": {},
     "nuid": "7f3a6054-634d-4ca4-b9c2-482e0eda8d4f",
     "showTitle": false,
     "tableResultSettingsMap": {},
     "title": ""
    }
   },
   "outputs": [],
   "source": [
    "#Session Diversity: Number of unique product categories viewed in a session\n",
    "\n",
    "session_diversity = cosmetic_df.groupBy(\"user_session\").agg(countDistinct(\"category_code\").alias(\"session_diversity\"))\n",
    "cosmetic_df = cosmetic_df.join(session_diversity, on=\"user_session\", how=\"left\")"
   ]
  },
  {
   "cell_type": "markdown",
   "metadata": {
    "application/vnd.databricks.v1+cell": {
     "cellMetadata": {},
     "inputWidgets": {},
     "nuid": "db9947e7-da94-462a-b73a-3c5d734bbf63",
     "showTitle": false,
     "tableResultSettingsMap": {},
     "title": ""
    }
   },
   "source": [
    "## Data Transformation"
   ]
  },
  {
   "cell_type": "code",
   "execution_count": 0,
   "metadata": {
    "application/vnd.databricks.v1+cell": {
     "cellMetadata": {
      "byteLimit": 2048000,
      "rowLimit": 10000
     },
     "inputWidgets": {},
     "nuid": "c0e95b48-eca3-45df-902d-fccd92390d87",
     "showTitle": false,
     "tableResultSettingsMap": {},
     "title": ""
    }
   },
   "outputs": [],
   "source": [
    "from pyspark.ml.feature import StringIndexer, VectorAssembler, StandardScaler\n",
    "from pyspark.sql.functions import mean, stddev, col\n",
    "from pyspark.sql.types import DoubleType, IntegerType"
   ]
  },
  {
   "cell_type": "markdown",
   "metadata": {
    "application/vnd.databricks.v1+cell": {
     "cellMetadata": {},
     "inputWidgets": {},
     "nuid": "b77e286f-a2bf-4f9f-b1d3-1883873ef247",
     "showTitle": false,
     "tableResultSettingsMap": {},
     "title": ""
    }
   },
   "source": [
    "### Transform Cosmetic Data (Structured Interaction Data)"
   ]
  },
  {
   "cell_type": "code",
   "execution_count": 0,
   "metadata": {
    "application/vnd.databricks.v1+cell": {
     "cellMetadata": {
      "byteLimit": 2048000,
      "rowLimit": 10000
     },
     "inputWidgets": {},
     "nuid": "e4c4226e-d9d5-42f3-abf6-8f754bf79461",
     "showTitle": false,
     "tableResultSettingsMap": {},
     "title": ""
    }
   },
   "outputs": [],
   "source": [
    "# Scale `cosmetic_price` column\n",
    "assembler = VectorAssembler(inputCols=[\"cosmetic_price\"], outputCol=\"price_vec\")\n",
    "cosmetic_df = assembler.transform(cosmetic_df)\n",
    "\n",
    "scaler = StandardScaler(inputCol=\"price_vec\", outputCol=\"price_scaled\")\n",
    "cosmetic_df = scaler.fit(cosmetic_df).transform(cosmetic_df)"
   ]
  },
  {
   "cell_type": "markdown",
   "metadata": {
    "application/vnd.databricks.v1+cell": {
     "cellMetadata": {},
     "inputWidgets": {},
     "nuid": "1f52ce0f-819f-45ab-93d7-55d7d42ed4e9",
     "showTitle": false,
     "tableResultSettingsMap": {},
     "title": ""
    }
   },
   "source": [
    "### Transform Reviews Data with GPT Tokenizer (Unstructured Sentiment Data)"
   ]
  },
  {
   "cell_type": "code",
   "execution_count": 0,
   "metadata": {
    "application/vnd.databricks.v1+cell": {
     "cellMetadata": {
      "byteLimit": 2048000,
      "rowLimit": 10000
     },
     "inputWidgets": {},
     "nuid": "1c1b062d-f29d-4bc7-a772-147b1256e4ea",
     "showTitle": false,
     "tableResultSettingsMap": {},
     "title": ""
    }
   },
   "outputs": [],
   "source": [
    "from transformers import AutoTokenizer, AutoModel\n",
    "\n",
    "# Load a pre-trained GPT-like model\n",
    "tokenizer = AutoTokenizer.from_pretrained(\"EleutherAI/gpt-neo-1.3B\")\n",
    "model = AutoModel.from_pretrained(\"EleutherAI/gpt-neo-1.3B\")\n",
    "\n",
    "# Encode text to embeddings\n",
    "text = \"This moisturizer is amazing for dry skin!\"\n",
    "inputs = tokenizer(text, return_tensors=\"pt\")\n",
    "outputs = model(**inputs)\n",
    "embeddings = outputs.last_hidden_state.mean(dim=1).detach().numpy()\n",
    "print(embeddings)"
   ]
  },
  {
   "cell_type": "code",
   "execution_count": 0,
   "metadata": {
    "application/vnd.databricks.v1+cell": {
     "cellMetadata": {
      "byteLimit": 2048000,
      "rowLimit": 10000
     },
     "inputWidgets": {},
     "nuid": "432832f0-9a59-4bba-a187-a0cc13e6b2af",
     "showTitle": false,
     "tableResultSettingsMap": {},
     "title": ""
    }
   },
   "outputs": [],
   "source": [
    "# Cast numerical columns to appropriate types\n",
    "reviews_df = reviews_df.withColumn(\"mrp\", reviews_df[\"mrp\"].cast(DoubleType())) \\\n",
    "    .withColumn(\"review_price\", reviews_df[\"review_price\"].cast(DoubleType())) \\\n",
    "    .withColumn(\"product_rating\", reviews_df[\"product_rating\"].cast(DoubleType())) \\\n",
    "    .withColumn(\"product_rating_count\", reviews_df[\"product_rating_count\"].cast(IntegerType()))"
   ]
  },
  {
   "cell_type": "markdown",
   "metadata": {
    "application/vnd.databricks.v1+cell": {
     "cellMetadata": {},
     "inputWidgets": {},
     "nuid": "54e175b4-4869-42a3-aa63-e558c5b90d3d",
     "showTitle": false,
     "tableResultSettingsMap": {},
     "title": ""
    }
   },
   "source": [
    "### Transform Mapping Data"
   ]
  },
  {
   "cell_type": "code",
   "execution_count": 0,
   "metadata": {
    "application/vnd.databricks.v1+cell": {
     "cellMetadata": {
      "byteLimit": 2048000,
      "rowLimit": 10000
     },
     "inputWidgets": {},
     "nuid": "56d9e78f-cee0-4128-8042-9a55d46ada13",
     "showTitle": false,
     "tableResultSettingsMap": {},
     "title": ""
    }
   },
   "outputs": [],
   "source": [
    "# Cast columns to IntegerType in `mapping_df`\n",
    "mapping_df = mapping_df.withColumn(\"cosmeticProductId\", mapping_df[\"cosmeticProductId\"].cast(IntegerType()))\n",
    "mapping_df = mapping_df.withColumn(\"reviewProductId\", mapping_df[\"reviewProductId\"].cast(IntegerType()))\n",
    "\n",
    "# Calculate mean and standard deviation for filtering outliers\n",
    "stats = mapping_df.select(\n",
    "    mean(\"reviewProductId\").alias(\"mean_reviews\"),\n",
    "    stddev(\"reviewProductId\").alias(\"stddev_reviews\")\n",
    ").collect()[0]\n",
    "\n",
    "mean_reviews = stats[\"mean_reviews\"]\n",
    "stddev_reviews = stats[\"stddev_reviews\"]\n",
    "\n",
    "# Filter out outliers beyond 3 standard deviations\n",
    "mapping_df = mapping_df.filter(\n",
    "    (col(\"reviewProductId\") > mean_reviews - 3 * stddev_reviews) &\n",
    "    (col(\"reviewProductId\") < mean_reviews + 3 * stddev_reviews)\n",
    ")\n",
    "\n",
    "# Scale `cosmeticProductId` and `reviewProductId` in `mapping_df`\n",
    "assembler = VectorAssembler(inputCols=[\"cosmeticProductId\", \"reviewProductId\"], outputCol=\"mapping_features_vec\")\n",
    "mapping_df = assembler.transform(mapping_df)\n",
    "\n",
    "scaler = StandardScaler(inputCol=\"mapping_features_vec\", outputCol=\"mapping_scaled_features\")\n",
    "mapping_df = scaler.fit(mapping_df).transform(mapping_df)"
   ]
  },
  {
   "cell_type": "markdown",
   "metadata": {
    "application/vnd.databricks.v1+cell": {
     "cellMetadata": {},
     "inputWidgets": {},
     "nuid": "2fe567e6-7ece-4954-9bad-dc2f16695772",
     "showTitle": false,
     "tableResultSettingsMap": {},
     "title": ""
    }
   },
   "source": [
    "## Combine the Transformed Data"
   ]
  },
  {
   "cell_type": "code",
   "execution_count": 0,
   "metadata": {
    "application/vnd.databricks.v1+cell": {
     "cellMetadata": {
      "byteLimit": 2048000,
      "rowLimit": 10000
     },
     "inputWidgets": {},
     "nuid": "adbfbb83-4f3d-4460-a881-1284b61faf6f",
     "showTitle": false,
     "tableResultSettingsMap": {},
     "title": ""
    }
   },
   "outputs": [],
   "source": [
    "# Join `cosmetic_df` and `mapping_df` on `cosmeticProductId`\n",
    "cosmetic_mapped_df = cosmetic_df.join(mapping_df, cosmetic_df[\"cosmeticProductId\"] == mapping_df[\"cosmeticProductId\"], \"inner\")\n",
    "\n",
    "# Join the result with `reviews_df` on `reviewProductId`\n",
    "combined_df = cosmetic_mapped_df.join(reviews_df, cosmetic_mapped_df[\"reviewProductId\"] == reviews_df[\"reviewProductId\"], \"inner\")\n",
    "\n",
    "# Drop the duplicate one\n",
    "combined_df = combined_df.drop(\"cosmeticProductId\", \"reviewProductId\", \"event_type\", \"brand_name\", \"stemmed_title\", \"lemmatized_title\", \n",
    "\"stemmed_text\", \"lemmatized_text\", \"review_text_clean\",  \"review_title_clean\")"
   ]
  },
  {
   "cell_type": "code",
   "execution_count": 0,
   "metadata": {
    "application/vnd.databricks.v1+cell": {
     "cellMetadata": {
      "byteLimit": 2048000,
      "rowLimit": 10000
     },
     "inputWidgets": {},
     "nuid": "9ee40f92-7eb2-4e66-a1c9-97b6e430f32e",
     "showTitle": false,
     "tableResultSettingsMap": {},
     "title": ""
    }
   },
   "outputs": [],
   "source": [
    "# Save combined_df to Delta table\n",
    "combined_data_path = \"ecommerces_catalog.recommendation_schema.combined_data_path\"\n",
    "combined_df.write.format(\"delta\").mode(\"overwrite\").option(\"overwriteSchema\", \"true\").save(combined_data_path)"
   ]
  },
  {
   "cell_type": "code",
   "execution_count": 0,
   "metadata": {
    "application/vnd.databricks.v1+cell": {
     "cellMetadata": {
      "byteLimit": 2048000,
      "rowLimit": 10000
     },
     "inputWidgets": {},
     "nuid": "352a374d-708f-4ee9-a9a1-db4d8f417839",
     "showTitle": false,
     "tableResultSettingsMap": {},
     "title": ""
    }
   },
   "outputs": [],
   "source": [
    "combined_df.printSchema()"
   ]
  },
  {
   "cell_type": "code",
   "execution_count": 0,
   "metadata": {
    "application/vnd.databricks.v1+cell": {
     "cellMetadata": {
      "byteLimit": 2048000,
      "rowLimit": 10000
     },
     "inputWidgets": {},
     "nuid": "89de7b29-9e53-44da-b4f6-98cf3731a9b0",
     "showTitle": false,
     "tableResultSettingsMap": {},
     "title": ""
    }
   },
   "outputs": [],
   "source": [
    "combined_df.show(5)"
   ]
  },
  {
   "cell_type": "markdown",
   "metadata": {
    "application/vnd.databricks.v1+cell": {
     "cellMetadata": {},
     "inputWidgets": {},
     "nuid": "dbd4b189-db45-44f5-9cf8-112db1cb114e",
     "showTitle": false,
     "tableResultSettingsMap": {},
     "title": ""
    }
   },
   "source": [
    "## Exploratory Data Analysis"
   ]
  },
  {
   "cell_type": "code",
   "execution_count": 0,
   "metadata": {
    "application/vnd.databricks.v1+cell": {
     "cellMetadata": {
      "byteLimit": 2048000,
      "rowLimit": 10000
     },
     "inputWidgets": {},
     "nuid": "45e9cd7a-eb0b-43f2-bb37-41618a782900",
     "showTitle": false,
     "tableResultSettingsMap": {},
     "title": ""
    }
   },
   "outputs": [],
   "source": [
    "import matplotlib.pyplot as plt\n",
    "import seaborn as sns\n",
    "import numpy as np\n",
    "import pandas as pd\n",
    "from pyspark.ml.feature import VectorAssembler\n",
    "from pyspark.ml.stat import Correlation\n"
   ]
  },
  {
   "cell_type": "code",
   "execution_count": 0,
   "metadata": {
    "application/vnd.databricks.v1+cell": {
     "cellMetadata": {
      "byteLimit": 2048000,
      "rowLimit": 10000
     },
     "inputWidgets": {},
     "nuid": "293fff27-8a3f-489d-b49c-37809a875971",
     "showTitle": false,
     "tableResultSettingsMap": {},
     "title": ""
    }
   },
   "outputs": [],
   "source": [
    "# Summary statistics for numeric columns\n",
    "combined_df.describe().show()"
   ]
  },
  {
   "cell_type": "code",
   "execution_count": 0,
   "metadata": {
    "application/vnd.databricks.v1+cell": {
     "cellMetadata": {
      "byteLimit": 2048000,
      "rowLimit": 10000
     },
     "inputWidgets": {},
     "nuid": "723425f9-519b-427c-bb18-c87d53cfdb60",
     "showTitle": false,
     "tableResultSettingsMap": {},
     "title": ""
    }
   },
   "outputs": [],
   "source": [
    "# Calculate specific statistics\n",
    "combined_df.select(\"cosmetic_price\", \"review_price\", \"product_rating\", \"product_rating_count\").describe().show()\n"
   ]
  },
  {
   "cell_type": "code",
   "execution_count": 0,
   "metadata": {
    "application/vnd.databricks.v1+cell": {
     "cellMetadata": {
      "byteLimit": 2048000,
      "rowLimit": 10000
     },
     "inputWidgets": {},
     "nuid": "fddd9347-be4e-4118-a17e-c2c5ada1e4b7",
     "showTitle": false,
     "tableResultSettingsMap": {},
     "title": ""
    }
   },
   "outputs": [],
   "source": [
    "# Average product rating by brand\n",
    "combined_df.groupBy(\"brand\").agg({\"product_rating\": \"avg\"}).withColumnRenamed(\"avg(product_rating)\", \"average_rating\").show()"
   ]
  },
  {
   "cell_type": "markdown",
   "metadata": {
    "application/vnd.databricks.v1+cell": {
     "cellMetadata": {},
     "inputWidgets": {},
     "nuid": "ebdea7e9-4a6e-4832-904a-5e0880ef4384",
     "showTitle": false,
     "tableResultSettingsMap": {},
     "title": ""
    }
   },
   "source": [
    "### Distribution of Price"
   ]
  },
  {
   "cell_type": "code",
   "execution_count": 0,
   "metadata": {
    "application/vnd.databricks.v1+cell": {
     "cellMetadata": {
      "byteLimit": 2048000,
      "rowLimit": 10000
     },
     "inputWidgets": {},
     "nuid": "8079d06a-d79f-4382-ad15-265893443da4",
     "showTitle": false,
     "tableResultSettingsMap": {},
     "title": ""
    }
   },
   "outputs": [],
   "source": [
    "# Distribution of cosmetic_price and review_price to understand pricing across products\n",
    "\n",
    "cosmetic_price_data = combined_df.select(\"cosmetic_price\").rdd.flatMap(lambda x: x).collect()\n",
    "review_price_data = combined_df.select(\"review_price\").rdd.flatMap(lambda x: x).filter(lambda x: x is not None).collect()\n",
    "\n",
    "plt.figure(figsize=(12, 6))\n",
    "\n",
    "# Histogram for cosmetic_price\n",
    "plt.subplot(1, 2, 1)\n",
    "plt.hist(cosmetic_price_data, bins=50, color=\"blue\", alpha=0.7)\n",
    "plt.title(\"Distribution of Cosmetic Prices\")\n",
    "plt.xlabel(\"Price\")\n",
    "plt.ylabel(\"Frequency\")\n",
    "\n",
    "# Histogram for review_price\n",
    "plt.subplot(1, 2, 2)\n",
    "plt.hist(review_price_data, bins=50, color=\"purple\", alpha=0.7)\n",
    "plt.title(\"Distribution of Review Prices\")\n",
    "plt.xlabel(\"Price\")\n",
    "plt.ylabel(\"Frequency\")\n",
    "\n",
    "plt.tight_layout()\n",
    "plt.show()\n"
   ]
  },
  {
   "cell_type": "markdown",
   "metadata": {
    "application/vnd.databricks.v1+cell": {
     "cellMetadata": {},
     "inputWidgets": {},
     "nuid": "3b345d07-1865-4f7a-842d-95d870f5dc25",
     "showTitle": false,
     "tableResultSettingsMap": {},
     "title": ""
    }
   },
   "source": [
    "### Product Rating Distribution"
   ]
  },
  {
   "cell_type": "code",
   "execution_count": 0,
   "metadata": {
    "application/vnd.databricks.v1+cell": {
     "cellMetadata": {
      "byteLimit": 2048000,
      "rowLimit": 10000
     },
     "inputWidgets": {},
     "nuid": "6864fc7a-a61c-4947-b74f-5cc1fa2c47a9",
     "showTitle": false,
     "tableResultSettingsMap": {},
     "title": ""
    }
   },
   "outputs": [],
   "source": [
    "# Collect rating data and filter out None values\n",
    "rating_data = combined_df.select(\"product_rating\").rdd.flatMap(lambda x: x).filter(lambda x: x is not None).collect()\n",
    "\n",
    "plt.figure(figsize=(10, 6))\n",
    "sns.histplot(rating_data, bins=10, kde=True, color=\"green\", alpha=0.6)\n",
    "\n",
    "# Mean rating calculation\n",
    "mean_rating = np.mean(rating_data)\n",
    "plt.axvline(mean_rating, color=\"red\", linestyle=\"--\", label=f\"Mean Rating = {mean_rating:.2f}\")\n",
    "\n",
    "plt.title(\"Detailed Distribution of Product Ratings\", fontsize=16)\n",
    "plt.xlabel(\"Product Rating\", fontsize=14)\n",
    "plt.ylabel(\"Frequency\", fontsize=14)\n",
    "plt.legend(fontsize=12)\n",
    "plt.grid(axis=\"y\", linestyle=\"--\", alpha=0.7)\n",
    "plt.show()"
   ]
  },
  {
   "cell_type": "markdown",
   "metadata": {
    "application/vnd.databricks.v1+cell": {
     "cellMetadata": {},
     "inputWidgets": {},
     "nuid": "f51025f5-e2a7-47a6-bb8e-5726f6513a67",
     "showTitle": false,
     "tableResultSettingsMap": {},
     "title": ""
    }
   },
   "source": [
    "### Customer Engagement Patterns Over Time"
   ]
  },
  {
   "cell_type": "code",
   "execution_count": 0,
   "metadata": {
    "application/vnd.databricks.v1+cell": {
     "cellMetadata": {
      "byteLimit": 2048000,
      "rowLimit": 10000
     },
     "inputWidgets": {},
     "nuid": "87ef52eb-30ea-4bfe-9a32-96f9fb8cccf2",
     "showTitle": false,
     "tableResultSettingsMap": {},
     "title": ""
    }
   },
   "outputs": [],
   "source": [
    "combined_df = combined_df.withColumn(\"event_date\", col(\"event_time\").cast(\"date\"))\n",
    "\n",
    "# Count engagement events per day\n",
    "daily_engagement = combined_df.groupBy(\"event_date\").count().orderBy(\"event_date\")\n",
    "daily_engagement.show()\n",
    "\n",
    "date_data = daily_engagement.select(\"event_date\").rdd.flatMap(lambda x: x).collect()\n",
    "engagement_data = daily_engagement.select(\"count\").rdd.flatMap(lambda x: x).collect()\n",
    "\n",
    "plt.figure(figsize=(12, 6))\n",
    "plt.plot(date_data, engagement_data, color=\"blue\", marker=\"o\")\n",
    "plt.title(\"Daily Customer Engagement Events\")\n",
    "plt.xlabel(\"Date\")\n",
    "plt.ylabel(\"Event Count\")\n",
    "plt.show()\n"
   ]
  },
  {
   "cell_type": "markdown",
   "metadata": {
    "application/vnd.databricks.v1+cell": {
     "cellMetadata": {},
     "inputWidgets": {},
     "nuid": "f863020c-a2cb-4031-8a79-f1bc5ffdac09",
     "showTitle": false,
     "tableResultSettingsMap": {},
     "title": ""
    }
   },
   "source": [
    "### Distribution of Customer Engagement Levels (Event Types)"
   ]
  },
  {
   "cell_type": "code",
   "execution_count": 0,
   "metadata": {
    "application/vnd.databricks.v1+cell": {
     "cellMetadata": {
      "byteLimit": 2048000,
      "rowLimit": 10000
     },
     "inputWidgets": {},
     "nuid": "cc18d9eb-3b36-46ce-a27c-b4cd7fb714dd",
     "showTitle": false,
     "tableResultSettingsMap": {},
     "title": ""
    }
   },
   "outputs": [],
   "source": [
    "# Count occurrences of each class\n",
    "event_counts = cosmetic_df.groupBy(\"event_type_index\").count().toPandas()\n",
    "\n",
    "# Plot\n",
    "plt.figure(figsize=(8, 5))\n",
    "plt.bar(event_counts[\"event_type_index\"], event_counts[\"count\"], color=\"skyblue\")\n",
    "plt.title(\"Distribution of Event Types (Customer Engagement Levels)\", fontsize=14)\n",
    "plt.xlabel(\"Event Type (0=View, 1=Add-to-Cart, 2=Remove-from-Cart, 3=Purchase)\", fontsize=12)\n",
    "plt.ylabel(\"Count\", fontsize=12)\n",
    "plt.show()"
   ]
  },
  {
   "cell_type": "markdown",
   "metadata": {
    "application/vnd.databricks.v1+cell": {
     "cellMetadata": {},
     "inputWidgets": {},
     "nuid": "8bfcafbe-668b-4aa4-80ce-26859f73d825",
     "showTitle": false,
     "tableResultSettingsMap": {},
     "title": ""
    }
   },
   "source": [
    "### Sentimental Analysis"
   ]
  },
  {
   "cell_type": "code",
   "execution_count": 0,
   "metadata": {
    "application/vnd.databricks.v1+cell": {
     "cellMetadata": {
      "byteLimit": 2048000,
      "rowLimit": 10000
     },
     "inputWidgets": {},
     "nuid": "3a1a7878-4735-4a3e-8415-c14fd9bb9c7b",
     "showTitle": false,
     "tableResultSettingsMap": {},
     "title": ""
    }
   },
   "outputs": [],
   "source": [
    "sentiment_counts = reviews_df.groupBy(\"review_label\").count().toPandas()\n",
    "\n",
    "plt.figure(figsize=(8, 5))\n",
    "plt.bar(sentiment_counts[\"review_label\"], sentiment_counts[\"count\"], color=\"skyblue\")\n",
    "plt.title(\"Sentiment Distribution\", fontsize=16)\n",
    "plt.xlabel(\"Sentiment\")\n",
    "plt.ylabel(\"Count\")\n",
    "plt.show()\n"
   ]
  },
  {
   "cell_type": "code",
   "execution_count": 0,
   "metadata": {
    "application/vnd.databricks.v1+cell": {
     "cellMetadata": {
      "byteLimit": 2048000,
      "rowLimit": 10000
     },
     "inputWidgets": {},
     "nuid": "7dd92b49-65c8-4a29-91ae-554828781758",
     "showTitle": false,
     "tableResultSettingsMap": {},
     "title": ""
    }
   },
   "outputs": [],
   "source": [
    "# Sentiment by Product Rating\n",
    "sentiment_rating = reviews_df.groupBy(\"review_label\", \"product_rating\").count().toPandas()\n",
    "pivot_data = sentiment_rating.pivot(index=\"review_label\", columns=\"product_rating\", values=\"count\")\n",
    "\n",
    "plt.figure(figsize=(12, 6))\n",
    "sns.heatmap(pivot_data, annot=True, fmt=\".0f\", cmap=\"Blues\", cbar=True)\n",
    "plt.title(\"Sentiment vs. Product Rating\", fontsize=16)\n",
    "plt.xlabel(\"Product Rating\")\n",
    "plt.ylabel(\"Sentiment\")\n",
    "plt.show()"
   ]
  },
  {
   "cell_type": "code",
   "execution_count": 0,
   "metadata": {
    "application/vnd.databricks.v1+cell": {
     "cellMetadata": {
      "byteLimit": 2048000,
      "rowLimit": 10000
     },
     "inputWidgets": {},
     "nuid": "bc82d17d-c0c6-457a-9572-a6319c33e01f",
     "showTitle": false,
     "tableResultSettingsMap": {},
     "title": ""
    }
   },
   "outputs": [],
   "source": [
    "from collections import Counter\n",
    "\n",
    "# Collect lemmatized text into a single string\n",
    "lemmatized_texts = reviews_df.select(\"lemmatized_text\").rdd.flatMap(lambda x: x).collect()\n",
    "all_words = \" \".join([text for text in lemmatized_texts if text]).split()\n",
    "\n",
    "# Calculate word frequencies\n",
    "word_freq = Counter(all_words).most_common(20)\n",
    "\n",
    "# Separate words and counts for plotting\n",
    "words, counts = zip(*word_freq)\n",
    "\n",
    "# Plot most common words\n",
    "import matplotlib.pyplot as plt\n",
    "import seaborn as sns\n",
    "\n",
    "plt.figure(figsize=(12, 6))\n",
    "sns.barplot(x=list(counts), y=list(words), palette=\"magma\")\n",
    "plt.title(\"Top 20 Most Frequent Words in Lemmatized Review Text\", fontsize=16)\n",
    "plt.xlabel(\"Frequency\")\n",
    "plt.ylabel(\"Words\")\n",
    "plt.show()\n",
    "\n"
   ]
  },
  {
   "cell_type": "code",
   "execution_count": 0,
   "metadata": {
    "application/vnd.databricks.v1+cell": {
     "cellMetadata": {
      "byteLimit": 2048000,
      "rowLimit": 10000
     },
     "inputWidgets": {},
     "nuid": "497c7d51-c0bf-4495-a172-2d07cd0a119d",
     "showTitle": false,
     "tableResultSettingsMap": {},
     "title": ""
    }
   },
   "outputs": [],
   "source": [
    "top_products = reviews_df.groupBy(\"product_title\").count().orderBy(\"count\", ascending=False).limit(10).toPandas()\n",
    "\n",
    "plt.figure(figsize=(12, 6))\n",
    "sns.barplot(x=\"count\", y=\"product_title\", data=top_products, palette=\"cool\")\n",
    "plt.title(\"Top 10 Most Reviewed Products\", fontsize=16)\n",
    "plt.xlabel(\"Review Count\")\n",
    "plt.ylabel(\"Product Title\")\n",
    "plt.show()"
   ]
  },
  {
   "cell_type": "markdown",
   "metadata": {
    "application/vnd.databricks.v1+cell": {
     "cellMetadata": {},
     "inputWidgets": {},
     "nuid": "960cbbbb-16a5-4ff6-a647-470a25d922dd",
     "showTitle": false,
     "tableResultSettingsMap": {},
     "title": ""
    }
   },
   "source": [
    "#### Time Series Analysis of Ratings"
   ]
  },
  {
   "cell_type": "code",
   "execution_count": 0,
   "metadata": {
    "application/vnd.databricks.v1+cell": {
     "cellMetadata": {
      "byteLimit": 2048000,
      "rowLimit": 10000
     },
     "inputWidgets": {},
     "nuid": "9308e203-589a-4660-ac1e-0ccb261c3e2f",
     "showTitle": false,
     "tableResultSettingsMap": {},
     "title": ""
    }
   },
   "outputs": [],
   "source": [
    "from pyspark.sql import functions as F\n",
    "\n",
    "# Extract date from review_date\n",
    "combined_df = combined_df.withColumn(\n",
    "    \"review_date_parsed\",\n",
    "    F.to_timestamp(\"review_date\", \"yyyy-MM-dd HH:mm:ss\").cast(\"date\")\n",
    ")\n",
    "\n",
    "# Proceed with grouping and aggregation\n",
    "daily_ratings = combined_df.groupBy(\"review_date_parsed\").agg(\n",
    "    F.avg(\"product_rating\").alias(\"avg_rating\")\n",
    ").orderBy(\"review_date_parsed\")\n",
    "\n",
    "daily_ratings.show()\n",
    "\n",
    "# Plot time series\n",
    "date_data = [row['review_date_parsed'] for row in daily_ratings.collect()]\n",
    "rating_data = [row['avg_rating'] for row in daily_ratings.collect()]\n",
    "\n",
    "plt.figure(figsize=(14, 7))\n",
    "plt.plot(date_data, rating_data, marker='o', linestyle='-')\n",
    "plt.title('Average Product Rating Over Time')\n",
    "plt.xlabel('Date')\n",
    "plt.ylabel('Average Rating')\n",
    "plt.xticks(rotation=45)\n",
    "plt.tight_layout()\n",
    "plt.show()"
   ]
  },
  {
   "cell_type": "markdown",
   "metadata": {
    "application/vnd.databricks.v1+cell": {
     "cellMetadata": {},
     "inputWidgets": {},
     "nuid": "0f375f66-ff67-487d-a254-8e872c963bf0",
     "showTitle": false,
     "tableResultSettingsMap": {},
     "title": ""
    }
   },
   "source": [
    "#### User Behavior Analysis"
   ]
  },
  {
   "cell_type": "code",
   "execution_count": 0,
   "metadata": {
    "application/vnd.databricks.v1+cell": {
     "cellMetadata": {
      "byteLimit": 2048000,
      "rowLimit": 10000
     },
     "inputWidgets": {},
     "nuid": "4b3688e6-db7b-481d-84cf-b02035962dd0",
     "showTitle": false,
     "tableResultSettingsMap": {},
     "title": ""
    }
   },
   "outputs": [],
   "source": [
    "# Number of events per user\n",
    "user_events = combined_df.groupBy(\"user_id\").count().orderBy(F.desc(\"count\"))\n",
    "user_events.show(10)\n",
    "\n",
    "# Plot distribution of events per user\n",
    "event_counts = user_events.select(\"count\").rdd.flatMap(lambda x: x).collect()\n",
    "\n",
    "plt.figure(figsize=(12, 6))\n",
    "plt.hist(event_counts, bins=50, color=\"coral\", alpha=0.7)\n",
    "plt.title('Distribution of Events per User')\n",
    "plt.xlabel('Number of Events')\n",
    "plt.ylabel('Number of Users')\n",
    "plt.show()"
   ]
  },
  {
   "cell_type": "markdown",
   "metadata": {
    "application/vnd.databricks.v1+cell": {
     "cellMetadata": {},
     "inputWidgets": {},
     "nuid": "5bc6deeb-02de-4534-a7e7-bb0ebc57137b",
     "showTitle": false,
     "tableResultSettingsMap": {},
     "title": ""
    }
   },
   "source": [
    "#### Distribution of Product Ratings by Brand"
   ]
  },
  {
   "cell_type": "code",
   "execution_count": 0,
   "metadata": {
    "application/vnd.databricks.v1+cell": {
     "cellMetadata": {
      "byteLimit": 2048000,
      "rowLimit": 10000
     },
     "inputWidgets": {},
     "nuid": "85ae9d53-db2b-408d-9cb1-1a3d04ac87f0",
     "showTitle": false,
     "tableResultSettingsMap": {},
     "title": ""
    }
   },
   "outputs": [],
   "source": [
    "# Average rating per brand\n",
    "brand_ratings = combined_df.groupBy(\"brand\").agg(\n",
    "    F.avg(\"product_rating\").alias(\"avg_rating\"),\n",
    "    F.count(\"product_rating\").alias(\"rating_count\")\n",
    ")\n",
    "\n",
    "top_brands_ratings = brand_ratings.orderBy(F.desc(\"rating_count\")).limit(10)\n",
    "top_brands_pd = top_brands_ratings.toPandas()\n",
    "\n",
    "# Bar plot\n",
    "plt.figure(figsize=(12, 6))\n",
    "sns.barplot(x='brand', y='avg_rating', data=top_brands_pd)\n",
    "plt.xticks(rotation=45)\n",
    "plt.title('Average Product Rating by Top 10 Brands')\n",
    "plt.xlabel('Brand')\n",
    "plt.ylabel('Average Rating')\n",
    "plt.show()"
   ]
  },
  {
   "cell_type": "markdown",
   "metadata": {
    "application/vnd.databricks.v1+cell": {
     "cellMetadata": {},
     "inputWidgets": {},
     "nuid": "20691ecb-ca28-4732-9277-1b7301d093cf",
     "showTitle": false,
     "tableResultSettingsMap": {},
     "title": ""
    }
   },
   "source": [
    "#### Convert Review Ratings to Numeric and Analyze"
   ]
  },
  {
   "cell_type": "code",
   "execution_count": 0,
   "metadata": {
    "application/vnd.databricks.v1+cell": {
     "cellMetadata": {
      "byteLimit": 2048000,
      "rowLimit": 10000
     },
     "inputWidgets": {},
     "nuid": "9a37b54b-3abd-40e9-8546-c7ce1bff601b",
     "showTitle": false,
     "tableResultSettingsMap": {},
     "title": ""
    }
   },
   "outputs": [],
   "source": [
    "# Convert review_rating to numeric\n",
    "combined_df = combined_df.withColumn(\"review_rating_num\", F.col(\"review_rating\").cast(\"double\"))\n",
    "\n",
    "# Drop rows where conversion failed\n",
    "combined_df = combined_df.na.drop(subset=[\"review_rating_num\"])\n",
    "\n",
    "# Histogram of review ratings\n",
    "review_rating_data = combined_df.select(\"review_rating_num\").rdd.flatMap(lambda x: x).collect()\n",
    "\n",
    "plt.figure(figsize=(12, 6))\n",
    "sns.histplot(review_rating_data, bins=5, kde=False, color=\"skyblue\")\n",
    "plt.title('Distribution of Review Ratings')\n",
    "plt.xlabel('Review Rating')\n",
    "plt.ylabel('Frequency')\n",
    "plt.show()"
   ]
  },
  {
   "cell_type": "markdown",
   "metadata": {
    "application/vnd.databricks.v1+cell": {
     "cellMetadata": {},
     "inputWidgets": {},
     "nuid": "d0f7ce62-fdc8-4529-829c-0b0a28f0e8f5",
     "showTitle": false,
     "tableResultSettingsMap": {},
     "title": ""
    }
   },
   "source": [
    "#### Session-Level Analysis"
   ]
  },
  {
   "cell_type": "code",
   "execution_count": 0,
   "metadata": {
    "application/vnd.databricks.v1+cell": {
     "cellMetadata": {
      "byteLimit": 2048000,
      "rowLimit": 10000
     },
     "inputWidgets": {},
     "nuid": "ef2eb97f-76c2-47d4-937f-bc6340bae4fb",
     "showTitle": false,
     "tableResultSettingsMap": {},
     "title": ""
    }
   },
   "outputs": [],
   "source": [
    "# Number of events per session\n",
    "session_events = combined_df.groupBy(\"user_session\").count().orderBy(F.desc(\"count\"))\n",
    "session_events.show(10)\n",
    "\n",
    "# Distribution plot\n",
    "session_counts = session_events.select(\"count\").rdd.flatMap(lambda x: x).collect()\n",
    "\n",
    "plt.figure(figsize=(12, 6))\n",
    "plt.hist(session_counts, bins=50, color=\"limegreen\", alpha=0.7)\n",
    "plt.title('Distribution of Events per Session')\n",
    "plt.xlabel('Number of Events')\n",
    "plt.ylabel('Number of Sessions')\n",
    "plt.show()"
   ]
  },
  {
   "cell_type": "markdown",
   "metadata": {
    "application/vnd.databricks.v1+cell": {
     "cellMetadata": {},
     "inputWidgets": {},
     "nuid": "9656aa62-2c1f-49ae-8cd7-db0b2443a8f7",
     "showTitle": false,
     "tableResultSettingsMap": {},
     "title": ""
    }
   },
   "source": [
    "## Baseline Model"
   ]
  },
  {
   "cell_type": "code",
   "execution_count": 0,
   "metadata": {
    "application/vnd.databricks.v1+cell": {
     "cellMetadata": {},
     "inputWidgets": {},
     "nuid": "29fb69c7-8268-44aa-81cf-57725beb7183",
     "showTitle": false,
     "tableResultSettingsMap": {},
     "title": ""
    }
   },
   "outputs": [],
   "source": [
    "import pandas as pd\n",
    "import numpy as np\n",
    "import time\n",
    "import scipy.sparse as sparse\n",
    "from scipy.sparse import csr_matrix\n",
    "from sklearn.metrics.pairwise import cosine_similarity\n",
    "from mlxtend.frequent_patterns import apriori, association_rules\n",
    "import mlflow\n",
    "from pyspark.ml.fpm import FPGrowth\n",
    "from pyspark.sql.functions import collect_set, lit\n",
    "import datetime\n",
    "import warnings\n",
    "\n",
    "warnings.filterwarnings(\"ignore\", category=DeprecationWarning)"
   ]
  },
  {
   "cell_type": "code",
   "execution_count": 0,
   "metadata": {
    "application/vnd.databricks.v1+cell": {
     "cellMetadata": {},
     "inputWidgets": {},
     "nuid": "c37f0d33-5e1e-453f-845d-cf53ca1a9515",
     "showTitle": false,
     "tableResultSettingsMap": {},
     "title": ""
    }
   },
   "outputs": [],
   "source": [
    "# Start MLflow tracking\n",
    "mlflow.start_run(run_name=\"Recommendations and FP-Growth\")"
   ]
  },
  {
   "cell_type": "code",
   "execution_count": 0,
   "metadata": {
    "application/vnd.databricks.v1+cell": {
     "cellMetadata": {},
     "inputWidgets": {},
     "nuid": "e3a7490f-a971-4ff7-b217-b1f373d7d5e4",
     "showTitle": false,
     "tableResultSettingsMap": {},
     "title": ""
    }
   },
   "outputs": [],
   "source": [
    "try:\n",
    "    # Prepare purchase data for recommendations\n",
    "    purchase_df = cosmetic_df.filter(cosmetic_df['event_type'] == 'purchase')\n",
    "    purchase_df = purchase_df.withColumn(\"product_quantity\", lit(1))\n",
    "\n",
    "    # Convert PySpark DataFrame to pandas DataFrame\n",
    "    purchase_df_pandas = purchase_df.toPandas()\n",
    "\n",
    "    # Cosine Similarity Recommendations\n",
    "    start_time = time.time()\n",
    "\n",
    "    # Prepare data for sparse matrix\n",
    "    orders = list(sorted(set(purchase_df_pandas['user_session'])))\n",
    "    products = list(sorted(set(purchase_df_pandas['cosmeticProductId'])))\n",
    "    quantities = list(purchase_df_pandas['product_quantity'])\n",
    "\n",
    "    rs = pd.Categorical(purchase_df_pandas['user_session'], categories=orders).codes\n",
    "    cs = pd.Categorical(purchase_df_pandas['cosmeticProductId'], categories=products).codes\n",
    "\n",
    "    # Create sparse matrix\n",
    "    sparse_matrix = sparse.csr_matrix((quantities, (rs, cs)), shape=(len(orders), len(products)))\n",
    "\n",
    "    # Log sparsity\n",
    "    matrix_size = sparse_matrix.shape[0] * sparse_matrix.shape[1]\n",
    "    num_purchases = len(sparse_matrix.nonzero()[0])\n",
    "    sparsity = round(100 * (1 - (float(num_purchases) / matrix_size)), 2)\n",
    "    mlflow.log_metric(\"sparsity\", sparsity)\n",
    "\n",
    "    # Compute cosine similarity\n",
    "    similarities = cosine_similarity(sparse_matrix.T)\n",
    "    df_sim = pd.DataFrame(similarities, index=products, columns=products)\n",
    "    mlflow.log_metric(\"cosine_similarity_calculation_time\", round(time.time() - start_time, 2))\n",
    "\n",
    "    # Generate recommendations\n",
    "    start_time = time.time()\n",
    "    top = 11\n",
    "    df_match = pd.DataFrame(index=products, columns=[f'Rec {i}' for i in range(1, top)])\n",
    "    df_score = pd.DataFrame(index=products, columns=[f'Score {i}' for i in range(1, top)])\n",
    "\n",
    "    for i in range(len(products)):\n",
    "        top_recs = df_sim.iloc[:, i].sort_values(ascending=False)\n",
    "        top_recs = top_recs[top_recs.index != df_sim.index[i]]\n",
    "        num_recs = min(top - 1, len(top_recs), df_match.shape[1])\n",
    "\n",
    "        df_match.iloc[i, :num_recs] = top_recs.iloc[:num_recs].index\n",
    "        df_score.iloc[i, :num_recs] = top_recs.iloc[:num_recs].values\n",
    "\n",
    "    # Combine recommendations and scores\n",
    "    df_new = df_match.merge(df_score, how=\"inner\", left_index=True, right_index=True)\n",
    "    df_new.index.names = ['product_id']\n",
    "\n",
    "    # Save recommendations to file\n",
    "    filename = \"product_recs_cosine_similarity.csv\"\n",
    "    df_new.to_csv(filename)\n",
    "    mlflow.log_artifact(filename)\n",
    "    mlflow.log_metric(\"recommendation_generation_time\", round(time.time() - start_time, 2))\n",
    "\n",
    "    print(\"Cosine similarity recommendations generated.\")\n",
    "    print(df_new.head())\n",
    "\n",
    "    # FP-Growth\n",
    "    fp_data = purchase_df.groupBy(\"user_session\").agg(collect_set(\"cosmeticProductId\").alias(\"items\"))\n",
    "\n",
    "    # Train FP-Growth model\n",
    "    min_support = 0.001\n",
    "    min_confidence = 0.1\n",
    "    fp_growth = FPGrowth(itemsCol=\"items\", minSupport=min_support, minConfidence=min_confidence)\n",
    "    model = fp_growth.fit(fp_data)\n",
    "\n",
    "    # Get frequent itemsets\n",
    "    frequent_itemsets = model.freqItemsets.toPandas()\n",
    "    timestamp = datetime.datetime.now().strftime(\"%Y%m%d_%H%M%S\")\n",
    "    frequent_itemsets_filename = f\"frequent_itemsets.csv\"\n",
    "    frequent_itemsets.to_csv(frequent_itemsets_filename, index=False)\n",
    "    mlflow.log_artifact(frequent_itemsets_filename)\n",
    "    mlflow.log_metric(\"frequent_itemsets_count\", len(frequent_itemsets))\n",
    "\n",
    "    # Get association rules\n",
    "    association_rules = model.associationRules.toPandas()\n",
    "    association_rules_filename = f\"association_rules.csv\"\n",
    "    association_rules.to_csv(association_rules_filename, index=False)\n",
    "    mlflow.log_artifact(association_rules_filename)\n",
    "    mlflow.log_metric(\"association_rules_count\", len(association_rules))\n",
    "\n",
    "    print(\"FP-Growth completed successfully.\")\n",
    "    print(frequent_itemsets.head())\n",
    "    print(association_rules.head())\n",
    "\n",
    "except Exception as e:\n",
    "    mlflow.log_param(\"error\", str(e))\n",
    "    raise e\n",
    "finally:\n",
    "    mlflow.end_run()"
   ]
  },
  {
   "cell_type": "code",
   "execution_count": 0,
   "metadata": {
    "application/vnd.databricks.v1+cell": {
     "cellMetadata": {},
     "inputWidgets": {},
     "nuid": "c5fb4d00-c4dc-45bf-8ef4-317a8b615f20",
     "showTitle": false,
     "tableResultSettingsMap": {},
     "title": ""
    }
   },
   "outputs": [],
   "source": [
    "\n",
    "# Save Recommendations to Unity Catalog\n",
    "prod_recs_spark = spark.createDataFrame(df_new)\n",
    "prod_recs_spark = prod_recs_spark.select(\n",
    "    *[col(c).alias(c.replace(\" \", \"_\").replace(\".\", \"_\")) for c in prod_recs_spark.columns]\n",
    ")\n",
    "\n",
    "prod_recs_spark.write.format(\"delta\").mode(\"overwrite\").saveAsTable(\"ecommerces_catalog.recommendation_schema.product_recommendations\")"
   ]
  },
  {
   "cell_type": "code",
   "execution_count": 0,
   "metadata": {
    "application/vnd.databricks.v1+cell": {
     "cellMetadata": {},
     "inputWidgets": {},
     "nuid": "b92e5886-3dfd-408c-861b-bee2d4a64016",
     "showTitle": false,
     "tableResultSettingsMap": {},
     "title": ""
    }
   },
   "outputs": [],
   "source": [
    "\t\n",
    "\n",
    "# Save Frequent Itemsets to Unity Catalog\n",
    "frequent_itemsets_spark = spark.createDataFrame(frequent_itemsets)\n",
    "frequent_itemsets_spark.write.format(\"delta\").mode(\"overwrite\").saveAsTable(\"ecommerces_catalog.recommendation_schema.frequent_itemsets\")\n",
    "\n",
    "# Save Association Rules to Unity Catalog\n",
    "association_rules_spark = spark.createDataFrame(association_rules)\n",
    "association_rules_spark.write.format(\"delta\").mode(\"overwrite\").saveAsTable(\"ecommerces_catalog.recommendation_schema.association_rules\")"
   ]
  },
  {
   "cell_type": "markdown",
   "metadata": {
    "application/vnd.databricks.v1+cell": {
     "cellMetadata": {},
     "inputWidgets": {},
     "nuid": "b0f9e71d-cccf-4173-8e1c-d4ee298ce165",
     "showTitle": false,
     "tableResultSettingsMap": {},
     "title": ""
    }
   },
   "source": []
  }
 ],
 "metadata": {
  "application/vnd.databricks.v1+notebook": {
   "computePreferences": null,
   "dashboards": [],
   "environmentMetadata": {
    "base_environment": "",
    "client": "1"
   },
   "language": "python",
   "notebookMetadata": {
    "mostRecentlyExecutedCommandWithImplicitDF": {
     "commandId": 429976835068099,
     "dataframes": [
      "_sqldf"
     ]
    },
    "pythonIndentUnit": 4
   },
   "notebookName": "Full_code (do not run - just for reference)",
   "widgets": {}
  },
  "language_info": {
   "name": "python"
  }
 },
 "nbformat": 4,
 "nbformat_minor": 0
}

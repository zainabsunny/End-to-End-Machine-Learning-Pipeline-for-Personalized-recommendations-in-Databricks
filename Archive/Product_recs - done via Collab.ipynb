{
 "cells": [
  {
   "cell_type": "code",
   "execution_count": 0,
   "metadata": {
    "application/vnd.databricks.v1+cell": {
     "cellMetadata": {},
     "inputWidgets": {},
     "nuid": "b06b577d-3daa-4758-8755-34fda20d90a4",
     "showTitle": false,
     "tableResultSettingsMap": {},
     "title": ""
    },
    "tags": []
   },
   "outputs": [],
   "source": [
    "!pip install mlxtend"
   ]
  },
  {
   "cell_type": "code",
   "execution_count": 0,
   "metadata": {
    "application/vnd.databricks.v1+cell": {
     "cellMetadata": {},
     "inputWidgets": {},
     "nuid": "d7efe3d9-0545-4a3e-b8fa-e823a5c5141e",
     "showTitle": false,
     "tableResultSettingsMap": {},
     "title": ""
    }
   },
   "outputs": [],
   "source": [
    "import pandas as pd\n",
    "import numpy as np\n",
    "import time\n",
    "import scipy.sparse as sparse\n",
    "from sklearn.metrics.pairwise import cosine_similarity\n",
    "import os\n",
    "from mlxtend.frequent_patterns import apriori\n",
    "from mlxtend.frequent_patterns import association_rules\n",
    "\n",
    "import warnings\n",
    "warnings.filterwarnings(\"ignore\", category=DeprecationWarning)\n"
   ]
  },
  {
   "cell_type": "code",
   "execution_count": 0,
   "metadata": {
    "application/vnd.databricks.v1+cell": {
     "cellMetadata": {},
     "inputWidgets": {},
     "nuid": "fdd76897-7b92-4bef-9b02-01c5320e52e0",
     "showTitle": false,
     "tableResultSettingsMap": {},
     "title": ""
    },
    "tags": []
   },
   "outputs": [],
   "source": [
    "df = pd.read_csv('/Users/Kate/Downloads/2020-Jan.csv')\n",
    "df.head()"
   ]
  },
  {
   "cell_type": "code",
   "execution_count": 0,
   "metadata": {
    "application/vnd.databricks.v1+cell": {
     "cellMetadata": {},
     "inputWidgets": {},
     "nuid": "f6749533-63f8-4e8a-ac57-76f0abcf01bf",
     "showTitle": false,
     "tableResultSettingsMap": {},
     "title": ""
    },
    "tags": []
   },
   "outputs": [],
   "source": [
    "df.columns"
   ]
  },
  {
   "cell_type": "code",
   "execution_count": 0,
   "metadata": {
    "application/vnd.databricks.v1+cell": {
     "cellMetadata": {},
     "inputWidgets": {},
     "nuid": "01694e56-cd6c-4df3-ba0f-0f4fbdd5adae",
     "showTitle": false,
     "tableResultSettingsMap": {},
     "title": ""
    },
    "tags": []
   },
   "outputs": [],
   "source": [
    "purchase_df = df[df['event_type'] == 'purchase']\n",
    "purchase_df.head()"
   ]
  },
  {
   "cell_type": "markdown",
   "metadata": {
    "application/vnd.databricks.v1+cell": {
     "cellMetadata": {},
     "inputWidgets": {},
     "nuid": "985561cc-6085-4ca8-8b48-0d6ab6f224d6",
     "showTitle": false,
     "tableResultSettingsMap": {},
     "title": ""
    }
   },
   "source": [
    "# COSINE SIMILARITY"
   ]
  },
  {
   "cell_type": "code",
   "execution_count": 0,
   "metadata": {
    "application/vnd.databricks.v1+cell": {
     "cellMetadata": {},
     "inputWidgets": {},
     "nuid": "aeaf6c43-04ce-4967-b790-94c5f1897c93",
     "showTitle": false,
     "tableResultSettingsMap": {},
     "title": ""
    },
    "tags": []
   },
   "outputs": [],
   "source": [
    "orders = purchase_df[['user_session', 'product_id']]\n",
    "orders['product_quantity'] = 1\n",
    "orders.head()"
   ]
  },
  {
   "cell_type": "code",
   "execution_count": 0,
   "metadata": {
    "application/vnd.databricks.v1+cell": {
     "cellMetadata": {},
     "inputWidgets": {},
     "nuid": "b5af733f-2645-4e48-970f-970f68b5f3d2",
     "showTitle": false,
     "tableResultSettingsMap": {},
     "title": ""
    },
    "tags": []
   },
   "outputs": [],
   "source": [
    "def recommendations(df,filename,rows='user_session',cols='product_id',quantity='product_quantity',top=11):\n",
    "\n",
    "    #Creating the sparse matrix to see the frequency products occur together\n",
    "    start_time = time.time()\n",
    "    orders = list(sorted(set(df[rows])))\n",
    "    products = list(sorted(set(df[cols])))\n",
    "    quantity = list(df[quantity])\n",
    "\n",
    "    rs = pd.Categorical(df[rows], categories=orders).codes\n",
    "    cs = pd.Categorical(df[cols], categories=products).codes\n",
    "\n",
    "    sparse_matrix = sparse.csr_matrix((quantity, (rs,cs)), shape=(len(orders),len(products)))\n",
    "\n",
    "    matrix_size = sparse_matrix.shape[0]*sparse_matrix.shape[1] # Number of possible interactions in the matrix\n",
    "    num_purchases = len(sparse_matrix.nonzero()[0]) # Number of items interacted with\n",
    "    sparsity = round(100*(1 - (float(num_purchases)/matrix_size)),2) #Calculating sparsity\n",
    "\n",
    "    print('Sparse matrix creation time: {} seconds.\\nSparsity: {}'.format(round(time.time() - start_time,2), sparsity))\n",
    "\n",
    "    #Calculating the cosine similarity of all products with each other\n",
    "    start_time = time.time()\n",
    "    similarities = cosine_similarity(sparse_matrix.T)\n",
    "    df_sim = pd.DataFrame(similarities, index=products, columns=products)\n",
    "    end_time = time.time()\n",
    "    print(\"Cosine calculation time: {} seconds.\".format(round(end_time - start_time,2)))\n",
    "\n",
    "\n",
    "    #Creating the table of top 10 recommendations for every product\n",
    "    start_time = time.time()\n",
    "    df_match = pd.DataFrame(index=products, columns=[f'Rec {i}' for i in range(1, top)])\n",
    "    df_score = pd.DataFrame(index=products, columns=[f'Score {i}' for i in range(1, top)])\n",
    "\n",
    "   # df_match = pd.DataFrame(index=products,columns =  #place for the recommendations\n",
    "   # ['Rec 0','Rec 1','Rec 2','Rec 3','Rec 4','Rec 5','Rec 6','Rec 7','Rec 8','Rec 9','Rec 10'])\n",
    "   # df_score = pd.DataFrame(index=products,columns =  #place for the scores\n",
    "   # ['Score 0','Score 1','Score 2','Score 3','Score 4','Score 5','Score 6','Score 7','Score 8','Score 9','Score 10'])\n",
    "\n",
    "    for i in range(len(products)): #inserting into tables\n",
    "        # Get the top recommendations and scores, limited by the available data\n",
    "        top_recs = df_sim.iloc[:, i].sort_values(ascending=False)\n",
    "        # Filter out the product itself\n",
    "        top_recs = top_recs[top_recs.index != df_sim.index[i]]\n",
    "        # Ensuring num_recs is within the bounds of top_recs and df_match\n",
    "        num_recs = min(top -1 , len(top_recs) -1, df_match.shape[1])\n",
    "\n",
    "        df_match.iloc[i, :num_recs] = top_recs.iloc[:num_recs].index # Using iloc to select from top_recs\n",
    "        df_score.iloc[i, :num_recs] = top_recs.iloc[:num_recs].values # Using iloc to select from top_recs\n",
    "\n",
    "    for i in range(top-1): #remove recs with similarities of 0 # Adjusting loop range\n",
    "        try:\n",
    "            df_match.iloc[np.where(df_score.iloc[:,i] == 0),i] = None\n",
    "            df_score.iloc[np.where(df_score.iloc[:,i] == 0),i] = None\n",
    "        except:\n",
    "            continue\n",
    "\n",
    "    mismatch_loc = np.where(df_match.iloc[:,0] != df_match.index)[0] #Correcting sorting errors\n",
    "    df_match.iloc[mismatch_loc,1] = df_match.iloc[mismatch_loc,0]\n",
    "\n",
    "    df_new = df_match.merge(df_score, how='inner', left_index=True, right_index=True)\n",
    "    # Removed the drop command as 'Rec 0' and 'Score 0' are no longer created\n",
    "    # df_new.drop(['Rec 0','Score 0'],axis = 1,inplace=True)\n",
    "    df_new.index.names = ['product_id']\n",
    "    print('Table creation time: {} seconds'.format(round(time.time() - start_time,2)))\n",
    "\n",
    "    #df_new.to_csv(filename)\n",
    "\n",
    "\n",
    "    print('Process completed')\n",
    "    return df_new"
   ]
  },
  {
   "cell_type": "code",
   "execution_count": 0,
   "metadata": {
    "application/vnd.databricks.v1+cell": {
     "cellMetadata": {},
     "inputWidgets": {},
     "nuid": "1b2e2513-cc50-4e90-9acc-97c29cb1d6ca",
     "showTitle": false,
     "tableResultSettingsMap": {},
     "title": ""
    },
    "tags": []
   },
   "outputs": [],
   "source": [
    "prod_recs = recommendations(orders, 'product_recs_cosine_similarity.csv')\n",
    "prod_recs.head()"
   ]
  },
  {
   "cell_type": "markdown",
   "metadata": {
    "application/vnd.databricks.v1+cell": {
     "cellMetadata": {},
     "inputWidgets": {},
     "nuid": "3deefd6f-8ca0-4585-a89d-3f46e55fe716",
     "showTitle": false,
     "tableResultSettingsMap": {},
     "title": ""
    }
   },
   "source": [
    "# APRIORI"
   ]
  },
  {
   "cell_type": "code",
   "execution_count": 0,
   "metadata": {
    "application/vnd.databricks.v1+cell": {
     "cellMetadata": {},
     "inputWidgets": {},
     "nuid": "8824b82f-b386-4c6c-9655-c1bfb2f29b22",
     "showTitle": false,
     "tableResultSettingsMap": {},
     "title": ""
    },
    "tags": []
   },
   "outputs": [],
   "source": [
    "# Can still use the orders dataframe created a bove\n",
    "basket = (orders\n",
    "          .groupby(['user_session', 'product_id'])['product_quantity']\n",
    "          .sum().unstack().reset_index().fillna(0)\n",
    "          .set_index('user_session'))  # Resets the index to keep 'user_session' as a column\n",
    "\n",
    "basket.head()"
   ]
  },
  {
   "cell_type": "code",
   "execution_count": 0,
   "metadata": {
    "application/vnd.databricks.v1+cell": {
     "cellMetadata": {},
     "inputWidgets": {},
     "nuid": "4571da79-5133-4616-b76a-1b2180493df1",
     "showTitle": false,
     "tableResultSettingsMap": {},
     "title": ""
    },
    "tags": []
   },
   "outputs": [],
   "source": [
    "def encode_units(x):\n",
    "    if x <= 0:\n",
    "        return 0\n",
    "    if x >= 1:\n",
    "        return 1\n",
    "basket_sets = basket.applymap(encode_units)\n",
    "basket_sets = basket_sets.astype(bool)"
   ]
  },
  {
   "cell_type": "code",
   "execution_count": 0,
   "metadata": {
    "application/vnd.databricks.v1+cell": {
     "cellMetadata": {},
     "inputWidgets": {},
     "nuid": "c7c19708-021f-4d39-b9d4-c41c90a8a06b",
     "showTitle": false,
     "tableResultSettingsMap": {},
     "title": ""
    },
    "tags": []
   },
   "outputs": [],
   "source": [
    "# Generate frequent itemsets\n",
    "frequent_itemsets = apriori(basket_sets, min_support=0.001, use_colnames=True)\n",
    "\n",
    "# Generate association rules\n",
    "rules = association_rules(frequent_itemsets, metric=\"lift\", min_threshold=1, num_itemsets=len(frequent_itemsets))\n",
    "rules"
   ]
  },
  {
   "cell_type": "code",
   "execution_count": 0,
   "metadata": {
    "application/vnd.databricks.v1+cell": {
     "cellMetadata": {},
     "inputWidgets": {},
     "nuid": "c6ef397d-dd65-4c00-9dd2-f060126affbb",
     "showTitle": false,
     "tableResultSettingsMap": {},
     "title": ""
    }
   },
   "outputs": [],
   "source": [
    "frequent_itemsets['length'] = frequent_itemsets['itemsets'].apply(lambda x: len(x))\n",
    "frequent_itemsets = frequent_itemsets[frequent_itemsets['length'] >=2]\n",
    "\n",
    "# Sort the frequent itemsets by their support (descending) to get the most frequent ones\n",
    "frequent_itemsets.sort_values(by='support', ascending=False)"
   ]
  }
 ],
 "metadata": {
  "application/vnd.databricks.v1+notebook": {
   "dashboards": [],
   "environmentMetadata": null,
   "language": "python",
   "notebookMetadata": {
    "pythonIndentUnit": 4
   },
   "notebookName": "Product_recs - done via Collab",
   "widgets": {}
  },
  "kernelspec": {
   "display_name": "Python 3 (ipykernel)",
   "language": "python",
   "name": "python3"
  },
  "language_info": {
   "name": "python"
  }
 },
 "nbformat": 4,
 "nbformat_minor": 0
}

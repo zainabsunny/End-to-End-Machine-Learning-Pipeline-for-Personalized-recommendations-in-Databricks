{
 "cells": [
  {
   "cell_type": "markdown",
   "metadata": {
    "application/vnd.databricks.v1+cell": {
     "cellMetadata": {
      "byteLimit": 2048000,
      "rowLimit": 10000
     },
     "inputWidgets": {},
     "nuid": "4877de4d-886a-41f9-975f-5a9fdc56e059",
     "showTitle": false,
     "tableResultSettingsMap": {},
     "title": ""
    }
   },
   "source": [
    "# Exploratory Data Analysis (EDA)"
   ]
  },
  {
   "cell_type": "markdown",
   "metadata": {
    "application/vnd.databricks.v1+cell": {
     "cellMetadata": {},
     "inputWidgets": {},
     "nuid": "5d17c1f0-56bb-46a5-b758-0215a590e3a8",
     "showTitle": false,
     "tableResultSettingsMap": {},
     "title": ""
    }
   },
   "source": [
    "## This notebook includes full code with EDA. Only run if you need to see EDA"
   ]
  },
  {
   "cell_type": "markdown",
   "metadata": {
    "application/vnd.databricks.v1+cell": {
     "cellMetadata": {
      "byteLimit": 2048000,
      "rowLimit": 10000
     },
     "inputWidgets": {},
     "nuid": "b124e61f-cb94-424c-8b1b-8cfd306e09f4",
     "showTitle": false,
     "tableResultSettingsMap": {},
     "title": ""
    }
   },
   "source": [
    "## Clean and Transform Data"
   ]
  },
  {
   "cell_type": "code",
   "execution_count": 0,
   "metadata": {
    "application/vnd.databricks.v1+cell": {
     "cellMetadata": {
      "byteLimit": 2048000,
      "rowLimit": 10000
     },
     "inputWidgets": {},
     "nuid": "9533193b-00a0-457b-ae0b-3a1d936e806e",
     "showTitle": false,
     "tableResultSettingsMap": {},
     "title": ""
    }
   },
   "outputs": [],
   "source": [
    "import importlib\n",
    "from pyspark.sql import SparkSession\n",
    "from scripts.data_cleaning import clean_cosmetic_df, clean_mapping_df, clean_reviews_df\n",
    "!pip install spacy\n",
    "!python -m spacy download en_core_web_sm\n",
    "from scripts.feature_engineering import process_reviews_df, add_customer_engagement, add_predictor_features\n",
    "from scripts.data_transformation import transform_cosmetic_data, transform_reviews_data, transform_mapping_data"
   ]
  },
  {
   "cell_type": "code",
   "execution_count": 0,
   "metadata": {
    "application/vnd.databricks.v1+cell": {
     "cellMetadata": {
      "byteLimit": 2048000,
      "rowLimit": 10000
     },
     "inputWidgets": {},
     "nuid": "61c9856e-6a70-436d-931c-1fae236fa731",
     "showTitle": false,
     "tableResultSettingsMap": {},
     "title": ""
    }
   },
   "outputs": [],
   "source": [
    "# Load Dataset from S3 Bucket\n",
    "spark = SparkSession.builder.appName(\"E-Commerce Pipeline\").getOrCreate()\n",
    "\n",
    "cosmetic_store_data_path = \"s3://e-commerce-pipeline-dataset/Cosmetic Store Website Data.csv\"\n",
    "reviews_data_path = \"s3://e-commerce-pipeline-dataset/nyka_top_brands_cosmetics_product_reviews.csv\"\n",
    "product_mapping_path = \"s3://e-commerce-pipeline-dataset/unique_product_id_pairings.csv\""
   ]
  },
  {
   "cell_type": "code",
   "execution_count": 0,
   "metadata": {
    "application/vnd.databricks.v1+cell": {
     "cellMetadata": {
      "byteLimit": 2048000,
      "rowLimit": 10000
     },
     "inputWidgets": {},
     "nuid": "7ef39748-2b4f-46aa-bc59-2834849d3325",
     "showTitle": false,
     "tableResultSettingsMap": {},
     "title": ""
    }
   },
   "outputs": [],
   "source": [
    "cosmetic_df = spark.read.csv(cosmetic_store_data_path, header=True, inferSchema=True)\n",
    "reviews_df = spark.read.csv(reviews_data_path, header=True, inferSchema=True)\n",
    "mapping_df = spark.read.csv(product_mapping_path, header=True, inferSchema=True)"
   ]
  },
  {
   "cell_type": "code",
   "execution_count": 0,
   "metadata": {
    "application/vnd.databricks.v1+cell": {
     "cellMetadata": {
      "byteLimit": 2048000,
      "rowLimit": 10000
     },
     "inputWidgets": {},
     "nuid": "f0c2f51e-2511-4a93-bacb-369cb5e4bd23",
     "showTitle": false,
     "tableResultSettingsMap": {},
     "title": ""
    }
   },
   "outputs": [],
   "source": [
    "cosmetic_df = clean_cosmetic_df(cosmetic_df)\n",
    "mapping_df = clean_mapping_df(mapping_df)\n",
    "reviews_df = clean_reviews_df(reviews_df)"
   ]
  },
  {
   "cell_type": "code",
   "execution_count": 0,
   "metadata": {
    "application/vnd.databricks.v1+cell": {
     "cellMetadata": {
      "byteLimit": 2048000,
      "rowLimit": 10000
     },
     "inputWidgets": {},
     "nuid": "f11d7136-4e2a-4b75-bf24-141db32b4f25",
     "showTitle": false,
     "tableResultSettingsMap": {},
     "title": ""
    }
   },
   "outputs": [],
   "source": [
    "reviews_df = process_reviews_df(reviews_df)"
   ]
  },
  {
   "cell_type": "code",
   "execution_count": 0,
   "metadata": {
    "application/vnd.databricks.v1+cell": {
     "cellMetadata": {
      "byteLimit": 2048000,
      "rowLimit": 10000
     },
     "inputWidgets": {},
     "nuid": "8551aa1d-3f03-429c-ac2c-e3a03c579490",
     "showTitle": false,
     "tableResultSettingsMap": {},
     "title": ""
    }
   },
   "outputs": [],
   "source": [
    "cosmetic_df = add_customer_engagement(cosmetic_df)"
   ]
  },
  {
   "cell_type": "code",
   "execution_count": 0,
   "metadata": {
    "application/vnd.databricks.v1+cell": {
     "cellMetadata": {
      "byteLimit": 2048000,
      "rowLimit": 10000
     },
     "inputWidgets": {},
     "nuid": "257d01f5-8f58-4071-8866-c81d9bfd0114",
     "showTitle": false,
     "tableResultSettingsMap": {},
     "title": ""
    }
   },
   "outputs": [],
   "source": [
    "cosmetic_df = add_predictor_features(cosmetic_df)"
   ]
  },
  {
   "cell_type": "code",
   "execution_count": 0,
   "metadata": {
    "application/vnd.databricks.v1+cell": {
     "cellMetadata": {
      "byteLimit": 2048000,
      "rowLimit": 10000
     },
     "inputWidgets": {},
     "nuid": "ae7157d5-c528-4b40-baaa-1d0c43fe26d4",
     "showTitle": false,
     "tableResultSettingsMap": {},
     "title": ""
    }
   },
   "outputs": [],
   "source": [
    "cosmetic_df = transform_cosmetic_data(cosmetic_df)\n",
    "reviews_df = transform_reviews_data(reviews_df)\n",
    "mapping_df = transform_mapping_data(mapping_df)"
   ]
  },
  {
   "cell_type": "code",
   "execution_count": 0,
   "metadata": {
    "application/vnd.databricks.v1+cell": {
     "cellMetadata": {
      "byteLimit": 2048000,
      "rowLimit": 10000
     },
     "inputWidgets": {},
     "nuid": "a7da47f4-9f38-44ab-bf0c-3719ca080bd2",
     "showTitle": false,
     "tableResultSettingsMap": {},
     "title": ""
    }
   },
   "outputs": [],
   "source": [
    "# Sometimes the scripts dont get updated here, so this should do it\n",
    "import importlib\n",
    "from scripts import EDA\n",
    "\n",
    "# Reload the module\n",
    "importlib.reload(EDA)\n",
    "from scripts.EDA import perform_eda"
   ]
  },
  {
   "cell_type": "code",
   "execution_count": 0,
   "metadata": {
    "application/vnd.databricks.v1+cell": {
     "cellMetadata": {
      "byteLimit": 2048000,
      "rowLimit": 10000
     },
     "inputWidgets": {},
     "nuid": "7beaf6cd-c4b2-4392-8301-08d458b5c8a9",
     "showTitle": false,
     "tableResultSettingsMap": {},
     "title": ""
    }
   },
   "outputs": [],
   "source": [
    "# Combine datasets for EDA\n",
    "cosmetic_mapped_df = cosmetic_df.join(mapping_df, cosmetic_df[\"cosmeticProductId\"] == mapping_df[\"cosmeticProductId\"], \"inner\")\n",
    "combined_df = cosmetic_mapped_df.join(reviews_df, cosmetic_mapped_df[\"reviewProductId\"] == reviews_df[\"reviewProductId\"], \"inner\")\n",
    "\n",
    "# Drop unnecessary columns\n",
    "combined_df = combined_df.drop(\n",
    "    \"cosmeticProductId\", \"reviewProductId\", \"event_type\", \"brand_name\", \"stemmed_title\", \"lemmatized_title\",\n",
    "    \"stemmed_text\", \"lemmatized_text\", \"review_text_clean\", \"review_title_clean\"\n",
    ")\n",
    "\n",
    "# Save combined data to Delta table\n",
    "combined_data_path = \"/mnt/delta/combined_cleaned_data\"\n",
    "combined_df.write.format(\"delta\").mode(\"overwrite\").option(\"overwriteSchema\", \"true\").save(combined_data_path)\n",
    "\n",
    "# Reload combined Delta table for EDA\n",
    "combined_df = spark.read.format(\"delta\").load(combined_data_path)"
   ]
  },
  {
   "cell_type": "markdown",
   "metadata": {
    "application/vnd.databricks.v1+cell": {
     "cellMetadata": {
      "byteLimit": 2048000,
      "rowLimit": 10000
     },
     "inputWidgets": {},
     "nuid": "623ae5a2-a18d-4e73-9fbd-b8190241a543",
     "showTitle": false,
     "tableResultSettingsMap": {},
     "title": ""
    }
   },
   "source": [
    "## EDA"
   ]
  },
  {
   "cell_type": "code",
   "execution_count": 0,
   "metadata": {
    "application/vnd.databricks.v1+cell": {
     "cellMetadata": {
      "byteLimit": 2048000,
      "rowLimit": 10000
     },
     "inputWidgets": {},
     "nuid": "45e9cd7a-eb0b-43f2-bb37-41618a782900",
     "showTitle": false,
     "tableResultSettingsMap": {},
     "title": ""
    }
   },
   "outputs": [],
   "source": [
    "import matplotlib.pyplot as plt\n",
    "import seaborn as sns\n",
    "import numpy as np\n",
    "from pyspark.sql.functions import col\n",
    "from pyspark.ml.feature import VectorAssembler\n",
    "from pyspark.ml.stat import Correlation\n",
    "from collections import Counter\n"
   ]
  },
  {
   "cell_type": "code",
   "execution_count": 0,
   "metadata": {
    "application/vnd.databricks.v1+cell": {
     "cellMetadata": {
      "byteLimit": 2048000,
      "rowLimit": 10000
     },
     "inputWidgets": {},
     "nuid": "293fff27-8a3f-489d-b49c-37809a875971",
     "showTitle": false,
     "tableResultSettingsMap": {},
     "title": ""
    }
   },
   "outputs": [],
   "source": [
    "# Summary statistics for numeric columns\n",
    "combined_df.describe().show()"
   ]
  },
  {
   "cell_type": "code",
   "execution_count": 0,
   "metadata": {
    "application/vnd.databricks.v1+cell": {
     "cellMetadata": {
      "byteLimit": 2048000,
      "rowLimit": 10000
     },
     "inputWidgets": {},
     "nuid": "723425f9-519b-427c-bb18-c87d53cfdb60",
     "showTitle": false,
     "tableResultSettingsMap": {},
     "title": ""
    }
   },
   "outputs": [],
   "source": [
    "# Calculate specific statistics\n",
    "combined_df.select(\"cosmetic_price\", \"review_price\", \"product_rating\", \"product_rating_count\").describe().show()\n"
   ]
  },
  {
   "cell_type": "code",
   "execution_count": 0,
   "metadata": {
    "application/vnd.databricks.v1+cell": {
     "cellMetadata": {
      "byteLimit": 2048000,
      "rowLimit": 10000
     },
     "inputWidgets": {},
     "nuid": "fddd9347-be4e-4118-a17e-c2c5ada1e4b7",
     "showTitle": false,
     "tableResultSettingsMap": {},
     "title": ""
    }
   },
   "outputs": [],
   "source": [
    "# Average product rating by brand\n",
    "combined_df.groupBy(\"brand\").agg({\"product_rating\": \"avg\"}).withColumnRenamed(\"avg(product_rating)\", \"average_rating\").show()"
   ]
  },
  {
   "cell_type": "markdown",
   "metadata": {
    "application/vnd.databricks.v1+cell": {
     "cellMetadata": {
      "byteLimit": 2048000,
      "rowLimit": 10000
     },
     "inputWidgets": {},
     "nuid": "ebdea7e9-4a6e-4832-904a-5e0880ef4384",
     "showTitle": false,
     "tableResultSettingsMap": {},
     "title": ""
    }
   },
   "source": [
    "### Distribution of Price"
   ]
  },
  {
   "cell_type": "code",
   "execution_count": 0,
   "metadata": {
    "application/vnd.databricks.v1+cell": {
     "cellMetadata": {
      "byteLimit": 2048000,
      "rowLimit": 10000
     },
     "inputWidgets": {},
     "nuid": "8079d06a-d79f-4382-ad15-265893443da4",
     "showTitle": false,
     "tableResultSettingsMap": {},
     "title": ""
    }
   },
   "outputs": [],
   "source": [
    "# Distribution of cosmetic_price and review_price to understand pricing across products\n",
    "\n",
    "cosmetic_price_data = combined_df.select(\"cosmetic_price\").rdd.flatMap(lambda x: x).collect()\n",
    "review_price_data = combined_df.select(\"review_price\").rdd.flatMap(lambda x: x).filter(lambda x: x is not None).collect()\n",
    "\n",
    "plt.figure(figsize=(12, 6))\n",
    "\n",
    "# Histogram for cosmetic_price\n",
    "plt.subplot(1, 2, 1)\n",
    "plt.hist(cosmetic_price_data, bins=50, color=\"blue\", alpha=0.7)\n",
    "plt.title(\"Distribution of Cosmetic Prices\")\n",
    "plt.xlabel(\"Price\")\n",
    "plt.ylabel(\"Frequency\")\n",
    "\n",
    "# Histogram for review_price\n",
    "plt.subplot(1, 2, 2)\n",
    "plt.hist(review_price_data, bins=50, color=\"purple\", alpha=0.7)\n",
    "plt.title(\"Distribution of Review Prices\")\n",
    "plt.xlabel(\"Price\")\n",
    "plt.ylabel(\"Frequency\")\n",
    "\n",
    "plt.tight_layout()\n",
    "plt.show()\n"
   ]
  },
  {
   "cell_type": "markdown",
   "metadata": {
    "application/vnd.databricks.v1+cell": {
     "cellMetadata": {
      "byteLimit": 2048000,
      "rowLimit": 10000
     },
     "inputWidgets": {},
     "nuid": "3b345d07-1865-4f7a-842d-95d870f5dc25",
     "showTitle": false,
     "tableResultSettingsMap": {},
     "title": ""
    }
   },
   "source": [
    "### Product Rating Distribution"
   ]
  },
  {
   "cell_type": "code",
   "execution_count": 0,
   "metadata": {
    "application/vnd.databricks.v1+cell": {
     "cellMetadata": {
      "byteLimit": 2048000,
      "rowLimit": 10000
     },
     "inputWidgets": {},
     "nuid": "6864fc7a-a61c-4947-b74f-5cc1fa2c47a9",
     "showTitle": false,
     "tableResultSettingsMap": {},
     "title": ""
    }
   },
   "outputs": [],
   "source": [
    "# Collect rating data and filter out None values\n",
    "rating_data = combined_df.select(\"product_rating\").rdd.flatMap(lambda x: x).filter(lambda x: x is not None).collect()\n",
    "\n",
    "plt.figure(figsize=(10, 6))\n",
    "sns.histplot(rating_data, bins=10, kde=True, color=\"green\", alpha=0.6)\n",
    "\n",
    "# Mean rating calculation\n",
    "mean_rating = np.mean(rating_data)\n",
    "plt.axvline(mean_rating, color=\"red\", linestyle=\"--\", label=f\"Mean Rating = {mean_rating:.2f}\")\n",
    "\n",
    "plt.title(\"Detailed Distribution of Product Ratings\", fontsize=16)\n",
    "plt.xlabel(\"Product Rating\", fontsize=14)\n",
    "plt.ylabel(\"Frequency\", fontsize=14)\n",
    "plt.legend(fontsize=12)\n",
    "plt.grid(axis=\"y\", linestyle=\"--\", alpha=0.7)\n",
    "plt.show()"
   ]
  },
  {
   "cell_type": "markdown",
   "metadata": {
    "application/vnd.databricks.v1+cell": {
     "cellMetadata": {
      "byteLimit": 2048000,
      "rowLimit": 10000
     },
     "inputWidgets": {},
     "nuid": "f51025f5-e2a7-47a6-bb8e-5726f6513a67",
     "showTitle": false,
     "tableResultSettingsMap": {},
     "title": ""
    }
   },
   "source": [
    "### Customer Engagement Patterns Over Time"
   ]
  },
  {
   "cell_type": "code",
   "execution_count": 0,
   "metadata": {
    "application/vnd.databricks.v1+cell": {
     "cellMetadata": {
      "byteLimit": 2048000,
      "rowLimit": 10000
     },
     "inputWidgets": {},
     "nuid": "87ef52eb-30ea-4bfe-9a32-96f9fb8cccf2",
     "showTitle": false,
     "tableResultSettingsMap": {},
     "title": ""
    }
   },
   "outputs": [],
   "source": [
    "combined_df = combined_df.withColumn(\"event_date\", col(\"event_time\").cast(\"date\"))\n",
    "\n",
    "# Count engagement events per day\n",
    "daily_engagement = combined_df.groupBy(\"event_date\").count().orderBy(\"event_date\")\n",
    "daily_engagement.show()\n",
    "\n",
    "date_data = daily_engagement.select(\"event_date\").rdd.flatMap(lambda x: x).collect()\n",
    "engagement_data = daily_engagement.select(\"count\").rdd.flatMap(lambda x: x).collect()\n",
    "\n",
    "plt.figure(figsize=(12, 6))\n",
    "plt.plot(date_data, engagement_data, color=\"blue\", marker=\"o\")\n",
    "plt.title(\"Daily Customer Engagement Events\")\n",
    "plt.xlabel(\"Date\")\n",
    "plt.ylabel(\"Event Count\")\n",
    "plt.show()\n"
   ]
  },
  {
   "cell_type": "markdown",
   "metadata": {
    "application/vnd.databricks.v1+cell": {
     "cellMetadata": {
      "byteLimit": 2048000,
      "rowLimit": 10000
     },
     "inputWidgets": {},
     "nuid": "f863020c-a2cb-4031-8a79-f1bc5ffdac09",
     "showTitle": false,
     "tableResultSettingsMap": {},
     "title": ""
    }
   },
   "source": [
    "### Distribution of Customer Engagement Levels (Event Types)"
   ]
  },
  {
   "cell_type": "code",
   "execution_count": 0,
   "metadata": {
    "application/vnd.databricks.v1+cell": {
     "cellMetadata": {
      "byteLimit": 2048000,
      "rowLimit": 10000
     },
     "inputWidgets": {},
     "nuid": "cc18d9eb-3b36-46ce-a27c-b4cd7fb714dd",
     "showTitle": false,
     "tableResultSettingsMap": {},
     "title": ""
    }
   },
   "outputs": [],
   "source": [
    "# Count occurrences of each class\n",
    "event_counts = cosmetic_df.groupBy(\"event_type_index\").count().toPandas()\n",
    "\n",
    "# Plot\n",
    "plt.figure(figsize=(8, 5))\n",
    "plt.bar(event_counts[\"event_type_index\"], event_counts[\"count\"], color=\"skyblue\")\n",
    "plt.title(\"Distribution of Event Types (Customer Engagement Levels)\", fontsize=14)\n",
    "plt.xlabel(\"Event Type (0=View, 1=Add-to-Cart, 2=Remove-from-Cart, 3=Purchase)\", fontsize=12)\n",
    "plt.ylabel(\"Count\", fontsize=12)\n",
    "plt.show()"
   ]
  },
  {
   "cell_type": "markdown",
   "metadata": {
    "application/vnd.databricks.v1+cell": {
     "cellMetadata": {
      "byteLimit": 2048000,
      "rowLimit": 10000
     },
     "inputWidgets": {},
     "nuid": "8bfcafbe-668b-4aa4-80ce-26859f73d825",
     "showTitle": false,
     "tableResultSettingsMap": {},
     "title": ""
    }
   },
   "source": [
    "### Sentimental Analysis"
   ]
  },
  {
   "cell_type": "code",
   "execution_count": 0,
   "metadata": {
    "application/vnd.databricks.v1+cell": {
     "cellMetadata": {
      "byteLimit": 2048000,
      "rowLimit": 10000
     },
     "inputWidgets": {},
     "nuid": "3a1a7878-4735-4a3e-8415-c14fd9bb9c7b",
     "showTitle": false,
     "tableResultSettingsMap": {},
     "title": ""
    }
   },
   "outputs": [],
   "source": [
    "sentiment_counts = reviews_df.groupBy(\"review_label\").count().toPandas()\n",
    "\n",
    "plt.figure(figsize=(8, 5))\n",
    "plt.bar(sentiment_counts[\"review_label\"], sentiment_counts[\"count\"], color=\"skyblue\")\n",
    "plt.title(\"Sentiment Distribution\", fontsize=16)\n",
    "plt.xlabel(\"Sentiment\")\n",
    "plt.ylabel(\"Count\")\n",
    "plt.show()\n"
   ]
  },
  {
   "cell_type": "code",
   "execution_count": 0,
   "metadata": {
    "application/vnd.databricks.v1+cell": {
     "cellMetadata": {
      "byteLimit": 2048000,
      "rowLimit": 10000
     },
     "inputWidgets": {},
     "nuid": "7dd92b49-65c8-4a29-91ae-554828781758",
     "showTitle": false,
     "tableResultSettingsMap": {},
     "title": ""
    }
   },
   "outputs": [],
   "source": [
    "# Sentiment by Product Rating\n",
    "sentiment_rating = reviews_df.groupBy(\"review_label\", \"product_rating\").count().toPandas()\n",
    "pivot_data = sentiment_rating.pivot(index=\"review_label\", columns=\"product_rating\", values=\"count\")\n",
    "\n",
    "plt.figure(figsize=(12, 6))\n",
    "sns.heatmap(pivot_data, annot=True, fmt=\".0f\", cmap=\"Blues\", cbar=True)\n",
    "plt.title(\"Sentiment vs. Product Rating\", fontsize=16)\n",
    "plt.xlabel(\"Product Rating\")\n",
    "plt.ylabel(\"Sentiment\")\n",
    "plt.show()"
   ]
  },
  {
   "cell_type": "code",
   "execution_count": 0,
   "metadata": {
    "application/vnd.databricks.v1+cell": {
     "cellMetadata": {
      "byteLimit": 2048000,
      "rowLimit": 10000
     },
     "inputWidgets": {},
     "nuid": "bc82d17d-c0c6-457a-9572-a6319c33e01f",
     "showTitle": false,
     "tableResultSettingsMap": {},
     "title": ""
    }
   },
   "outputs": [],
   "source": [
    "from collections import Counter\n",
    "\n",
    "# Collect lemmatized text into a single string\n",
    "lemmatized_texts = reviews_df.select(\"lemmatized_text\").rdd.flatMap(lambda x: x).collect()\n",
    "all_words = \" \".join([text for text in lemmatized_texts if text]).split()\n",
    "\n",
    "# Calculate word frequencies\n",
    "word_freq = Counter(all_words).most_common(20)\n",
    "\n",
    "# Separate words and counts for plotting\n",
    "words, counts = zip(*word_freq)\n",
    "\n",
    "# Plot most common words\n",
    "import matplotlib.pyplot as plt\n",
    "import seaborn as sns\n",
    "\n",
    "plt.figure(figsize=(12, 6))\n",
    "sns.barplot(x=list(counts), y=list(words), palette=\"magma\")\n",
    "plt.title(\"Top 20 Most Frequent Words in Lemmatized Review Text\", fontsize=16)\n",
    "plt.xlabel(\"Frequency\")\n",
    "plt.ylabel(\"Words\")\n",
    "plt.show()\n",
    "\n"
   ]
  },
  {
   "cell_type": "code",
   "execution_count": 0,
   "metadata": {
    "application/vnd.databricks.v1+cell": {
     "cellMetadata": {
      "byteLimit": 2048000,
      "rowLimit": 10000
     },
     "inputWidgets": {},
     "nuid": "497c7d51-c0bf-4495-a172-2d07cd0a119d",
     "showTitle": false,
     "tableResultSettingsMap": {},
     "title": ""
    }
   },
   "outputs": [],
   "source": [
    "top_products = reviews_df.groupBy(\"product_title\").count().orderBy(\"count\", ascending=False).limit(10).toPandas()\n",
    "\n",
    "plt.figure(figsize=(12, 6))\n",
    "sns.barplot(x=\"count\", y=\"product_title\", data=top_products, palette=\"cool\")\n",
    "plt.title(\"Top 10 Most Reviewed Products\", fontsize=16)\n",
    "plt.xlabel(\"Review Count\")\n",
    "plt.ylabel(\"Product Title\")\n",
    "plt.show()"
   ]
  },
  {
   "cell_type": "markdown",
   "metadata": {
    "application/vnd.databricks.v1+cell": {
     "cellMetadata": {
      "byteLimit": 2048000,
      "rowLimit": 10000
     },
     "inputWidgets": {},
     "nuid": "960cbbbb-16a5-4ff6-a647-470a25d922dd",
     "showTitle": false,
     "tableResultSettingsMap": {},
     "title": ""
    }
   },
   "source": [
    "#### Time Series Analysis of Ratings"
   ]
  },
  {
   "cell_type": "code",
   "execution_count": 0,
   "metadata": {
    "application/vnd.databricks.v1+cell": {
     "cellMetadata": {
      "byteLimit": 2048000,
      "rowLimit": 10000
     },
     "inputWidgets": {},
     "nuid": "9308e203-589a-4660-ac1e-0ccb261c3e2f",
     "showTitle": false,
     "tableResultSettingsMap": {},
     "title": ""
    }
   },
   "outputs": [],
   "source": [
    "from pyspark.sql import functions as F\n",
    "\n",
    "# Extract date from review_date\n",
    "combined_df = combined_df.withColumn(\n",
    "    \"review_date_parsed\",\n",
    "    F.to_timestamp(\"review_date\", \"yyyy-MM-dd HH:mm:ss\").cast(\"date\")\n",
    ")\n",
    "\n",
    "# Proceed with grouping and aggregation\n",
    "daily_ratings = combined_df.groupBy(\"review_date_parsed\").agg(\n",
    "    F.avg(\"product_rating\").alias(\"avg_rating\")\n",
    ").orderBy(\"review_date_parsed\")\n",
    "\n",
    "daily_ratings.show()\n",
    "\n",
    "# Plot time series\n",
    "date_data = [row['review_date_parsed'] for row in daily_ratings.collect()]\n",
    "rating_data = [row['avg_rating'] for row in daily_ratings.collect()]\n",
    "\n",
    "plt.figure(figsize=(14, 7))\n",
    "plt.plot(date_data, rating_data, marker='o', linestyle='-')\n",
    "plt.title('Average Product Rating Over Time')\n",
    "plt.xlabel('Date')\n",
    "plt.ylabel('Average Rating')\n",
    "plt.xticks(rotation=45)\n",
    "plt.tight_layout()\n",
    "plt.show()"
   ]
  },
  {
   "cell_type": "markdown",
   "metadata": {
    "application/vnd.databricks.v1+cell": {
     "cellMetadata": {
      "byteLimit": 2048000,
      "rowLimit": 10000
     },
     "inputWidgets": {},
     "nuid": "0f375f66-ff67-487d-a254-8e872c963bf0",
     "showTitle": false,
     "tableResultSettingsMap": {},
     "title": ""
    }
   },
   "source": [
    "#### User Behavior Analysis"
   ]
  },
  {
   "cell_type": "code",
   "execution_count": 0,
   "metadata": {
    "application/vnd.databricks.v1+cell": {
     "cellMetadata": {
      "byteLimit": 2048000,
      "rowLimit": 10000
     },
     "inputWidgets": {},
     "nuid": "4b3688e6-db7b-481d-84cf-b02035962dd0",
     "showTitle": false,
     "tableResultSettingsMap": {},
     "title": ""
    }
   },
   "outputs": [],
   "source": [
    "# Number of events per user\n",
    "user_events = combined_df.groupBy(\"user_id\").count().orderBy(F.desc(\"count\"))\n",
    "user_events.show(10)\n",
    "\n",
    "# Plot distribution of events per user\n",
    "event_counts = user_events.select(\"count\").rdd.flatMap(lambda x: x).collect()\n",
    "\n",
    "plt.figure(figsize=(12, 6))\n",
    "plt.hist(event_counts, bins=50, color=\"coral\", alpha=0.7)\n",
    "plt.title('Distribution of Events per User')\n",
    "plt.xlabel('Number of Events')\n",
    "plt.ylabel('Number of Users')\n",
    "plt.show()"
   ]
  },
  {
   "cell_type": "markdown",
   "metadata": {
    "application/vnd.databricks.v1+cell": {
     "cellMetadata": {
      "byteLimit": 2048000,
      "rowLimit": 10000
     },
     "inputWidgets": {},
     "nuid": "5bc6deeb-02de-4534-a7e7-bb0ebc57137b",
     "showTitle": false,
     "tableResultSettingsMap": {},
     "title": ""
    }
   },
   "source": [
    "#### Distribution of Product Ratings by Brand"
   ]
  },
  {
   "cell_type": "code",
   "execution_count": 0,
   "metadata": {
    "application/vnd.databricks.v1+cell": {
     "cellMetadata": {
      "byteLimit": 2048000,
      "rowLimit": 10000
     },
     "inputWidgets": {},
     "nuid": "85ae9d53-db2b-408d-9cb1-1a3d04ac87f0",
     "showTitle": false,
     "tableResultSettingsMap": {},
     "title": ""
    }
   },
   "outputs": [],
   "source": [
    "# Average rating per brand\n",
    "brand_ratings = combined_df.groupBy(\"brand\").agg(\n",
    "    F.avg(\"product_rating\").alias(\"avg_rating\"),\n",
    "    F.count(\"product_rating\").alias(\"rating_count\")\n",
    ")\n",
    "\n",
    "top_brands_ratings = brand_ratings.orderBy(F.desc(\"rating_count\")).limit(10)\n",
    "top_brands_pd = top_brands_ratings.toPandas()\n",
    "\n",
    "# Bar plot\n",
    "plt.figure(figsize=(12, 6))\n",
    "sns.barplot(x='brand', y='avg_rating', data=top_brands_pd)\n",
    "plt.xticks(rotation=45)\n",
    "plt.title('Average Product Rating by Top 10 Brands')\n",
    "plt.xlabel('Brand')\n",
    "plt.ylabel('Average Rating')\n",
    "plt.show()"
   ]
  },
  {
   "cell_type": "markdown",
   "metadata": {
    "application/vnd.databricks.v1+cell": {
     "cellMetadata": {
      "byteLimit": 2048000,
      "rowLimit": 10000
     },
     "inputWidgets": {},
     "nuid": "20691ecb-ca28-4732-9277-1b7301d093cf",
     "showTitle": false,
     "tableResultSettingsMap": {},
     "title": ""
    }
   },
   "source": [
    "#### Convert Review Ratings to Numeric and Analyze"
   ]
  },
  {
   "cell_type": "code",
   "execution_count": 0,
   "metadata": {
    "application/vnd.databricks.v1+cell": {
     "cellMetadata": {
      "byteLimit": 2048000,
      "rowLimit": 10000
     },
     "inputWidgets": {},
     "nuid": "9a37b54b-3abd-40e9-8546-c7ce1bff601b",
     "showTitle": false,
     "tableResultSettingsMap": {},
     "title": ""
    }
   },
   "outputs": [],
   "source": [
    "# Convert review_rating to numeric\n",
    "combined_df = combined_df.withColumn(\"review_rating_num\", F.col(\"review_rating\").cast(\"double\"))\n",
    "\n",
    "# Drop rows where conversion failed\n",
    "combined_df = combined_df.na.drop(subset=[\"review_rating_num\"])\n",
    "\n",
    "# Histogram of review ratings\n",
    "review_rating_data = combined_df.select(\"review_rating_num\").rdd.flatMap(lambda x: x).collect()\n",
    "\n",
    "plt.figure(figsize=(12, 6))\n",
    "sns.histplot(review_rating_data, bins=5, kde=False, color=\"skyblue\")\n",
    "plt.title('Distribution of Review Ratings')\n",
    "plt.xlabel('Review Rating')\n",
    "plt.ylabel('Frequency')\n",
    "plt.show()"
   ]
  },
  {
   "cell_type": "markdown",
   "metadata": {
    "application/vnd.databricks.v1+cell": {
     "cellMetadata": {
      "byteLimit": 2048000,
      "rowLimit": 10000
     },
     "inputWidgets": {},
     "nuid": "d0f7ce62-fdc8-4529-829c-0b0a28f0e8f5",
     "showTitle": false,
     "tableResultSettingsMap": {},
     "title": ""
    }
   },
   "source": [
    "#### Session-Level Analysis"
   ]
  },
  {
   "cell_type": "code",
   "execution_count": 0,
   "metadata": {
    "application/vnd.databricks.v1+cell": {
     "cellMetadata": {
      "byteLimit": 2048000,
      "rowLimit": 10000
     },
     "inputWidgets": {},
     "nuid": "ef2eb97f-76c2-47d4-937f-bc6340bae4fb",
     "showTitle": false,
     "tableResultSettingsMap": {},
     "title": ""
    }
   },
   "outputs": [],
   "source": [
    "# Number of events per session\n",
    "session_events = combined_df.groupBy(\"user_session\").count().orderBy(F.desc(\"count\"))\n",
    "session_events.show(10)\n",
    "\n",
    "# Distribution plot\n",
    "session_counts = session_events.select(\"count\").rdd.flatMap(lambda x: x).collect()\n",
    "\n",
    "plt.figure(figsize=(12, 6))\n",
    "plt.hist(session_counts, bins=50, color=\"limegreen\", alpha=0.7)\n",
    "plt.title('Distribution of Events per Session')\n",
    "plt.xlabel('Number of Events')\n",
    "plt.ylabel('Number of Sessions')\n",
    "plt.show()"
   ]
  },
  {
   "cell_type": "markdown",
   "metadata": {
    "application/vnd.databricks.v1+cell": {
     "cellMetadata": {
      "byteLimit": 2048000,
      "rowLimit": 10000
     },
     "inputWidgets": {},
     "nuid": "b0f9e71d-cccf-4173-8e1c-d4ee298ce165",
     "showTitle": false,
     "tableResultSettingsMap": {},
     "title": ""
    }
   },
   "source": []
  }
 ],
 "metadata": {
  "application/vnd.databricks.v1+notebook": {
   "computePreferences": null,
   "dashboards": [],
   "environmentMetadata": {
    "base_environment": "",
    "client": "1"
   },
   "language": "python",
   "notebookMetadata": {
    "mostRecentlyExecutedCommandWithImplicitDF": {
     "commandId": 429976835068099,
     "dataframes": [
      "_sqldf"
     ]
    },
    "pythonIndentUnit": 4
   },
   "notebookName": "EDA",
   "widgets": {}
  },
  "language_info": {
   "name": "python"
  }
 },
 "nbformat": 4,
 "nbformat_minor": 0
}

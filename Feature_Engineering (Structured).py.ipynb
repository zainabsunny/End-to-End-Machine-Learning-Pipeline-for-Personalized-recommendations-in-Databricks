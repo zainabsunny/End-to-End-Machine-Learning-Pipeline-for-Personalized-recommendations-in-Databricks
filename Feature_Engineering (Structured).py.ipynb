{
 "cells": [
  {
   "cell_type": "markdown",
   "metadata": {
    "application/vnd.databricks.v1+cell": {
     "cellMetadata": {
      "byteLimit": 2048000,
      "rowLimit": 10000
     },
     "inputWidgets": {},
     "nuid": "4877de4d-886a-41f9-975f-5a9fdc56e059",
     "showTitle": false,
     "tableResultSettingsMap": {},
     "title": ""
    }
   },
   "source": [
    "#Royal Cybers: End-to-End Machine Learning Pipeline for Personalized recommendations in Databricks "
   ]
  },
  {
   "cell_type": "markdown",
   "metadata": {
    "application/vnd.databricks.v1+cell": {
     "cellMetadata": {
      "byteLimit": 2048000,
      "rowLimit": 10000
     },
     "inputWidgets": {},
     "nuid": "bfb046b3-c3b2-4590-9352-9a777e64cdab",
     "showTitle": false,
     "tableResultSettingsMap": {},
     "title": ""
    }
   },
   "source": [
    "## Load Dataset"
   ]
  },
  {
   "cell_type": "code",
   "execution_count": 0,
   "metadata": {
    "application/vnd.databricks.v1+cell": {
     "cellMetadata": {
      "byteLimit": 2048000,
      "rowLimit": 10000
     },
     "inputWidgets": {},
     "nuid": "ed682441-c7e6-4c25-9533-eedb89afb21f",
     "showTitle": false,
     "tableResultSettingsMap": {},
     "title": ""
    }
   },
   "outputs": [],
   "source": [
    "# Load Dataset from S3 Bucket\n",
    "cosmetic_store_data_path = \"s3://e-commerce-pipeline-dataset/Cosmetic Store Website Data.csv\"\n",
    "reviews_data_path = \"s3://e-commerce-pipeline-dataset/nyka_top_brands_cosmetics_product_reviews.csv\"\n",
    "product_mapping_path = \"s3://e-commerce-pipeline-dataset/unique_product_id_pairings.csv\"\n",
    "\n",
    "cosmetic_df = spark.read.csv(cosmetic_store_data_path, header=True, inferSchema=True)\n",
    "reviews_df = spark.read.csv(reviews_data_path, header=True, inferSchema=True)\n",
    "mapping_df = spark.read.csv(product_mapping_path, header=True, inferSchema=True)"
   ]
  },
  {
   "cell_type": "code",
   "execution_count": 0,
   "metadata": {
    "application/vnd.databricks.v1+cell": {
     "cellMetadata": {
      "byteLimit": 2048000,
      "rowLimit": 10000
     },
     "inputWidgets": {},
     "nuid": "f971cc38-9231-4661-907c-4f7437e4a25a",
     "showTitle": false,
     "tableResultSettingsMap": {},
     "title": ""
    }
   },
   "outputs": [
    {
     "output_type": "stream",
     "name": "stdout",
     "output_type": "stream",
     "text": [
      "+-------------------+----------+----------+-------------------+-------------+--------+-----+---------+--------------------+\n|         event_time|event_type|product_id|        category_id|category_code|   brand|price|  user_id|        user_session|\n+-------------------+----------+----------+-------------------+-------------+--------+-----+---------+--------------------+\n|2020-01-01 00:00:00|      view|   5809910|1602943681873052386|         NULL| grattol| 5.24|595414620|4adb70bb-edbd-498...|\n|2020-01-01 00:00:09|      view|   5812943|1487580012121948301|         NULL|kinetics| 3.97|595414640|c8c5205d-be43-4f1...|\n|2020-01-01 00:00:19|      view|   5798924|1783999068867920626|         NULL|  zinger| 3.97|595412617|46a5010f-bd69-4fb...|\n|2020-01-01 00:00:24|      view|   5793052|1487580005754995573|         NULL|    NULL| 4.92|420652863|546f6af3-a517-475...|\n|2020-01-01 00:00:25|      view|   5899926|2115334439910245200|         NULL|    NULL| 3.92|484071203|cff70ddf-529e-4b0...|\n+-------------------+----------+----------+-------------------+-------------+--------+-----+---------+--------------------+\nonly showing top 5 rows\n\n"
     ]
    }
   ],
   "source": [
    "cosmetic_df.show(5)"
   ]
  },
  {
   "cell_type": "code",
   "execution_count": 0,
   "metadata": {
    "application/vnd.databricks.v1+cell": {
     "cellMetadata": {
      "byteLimit": 2048000,
      "rowLimit": 10000
     },
     "inputWidgets": {},
     "nuid": "a594749a-9e89-4402-8f34-55f56c361f8c",
     "showTitle": false,
     "tableResultSettingsMap": {},
     "title": ""
    }
   },
   "outputs": [
    {
     "output_type": "stream",
     "name": "stdout",
     "output_type": "stream",
     "text": [
      "+----------+----------+---------+--------------------+--------------------+--------------+-------------------+-------------+----------+--------+--------------+--------------------+----+-----+--------------+--------------------+------------+--------------------+\n|product_id|brand_name|review_id|        review_title|         review_text|        author|        review_date|review_rating|is_a_buyer|pro_user|  review_label|       product_title| mrp|price|product_rating|product_rating_count|product_tags|         product_url|\n+----------+----------+---------+--------------------+--------------------+--------------+-------------------+-------------+----------+--------+--------------+--------------------+----+-----+--------------+--------------------+------------+--------------------+\n|    781070|      Olay| 16752142|Worth buying 50g one|Works as it claim...| Ashton Dsouza|2021-01-23 15:17:18|          5.0|      True|   False|Verified Buyer|Olay Ultra Lightw...|1999| 1599|           4.1|                  43|        NULL|https://www.nykaa...|\n|    781070|      Olay| 14682550|Best cream to sta...|It does what it c...|  Amrit Neelam|2020-09-07 15:30:42|          5.0|      True|   False|Verified Buyer|Olay Ultra Lightw...|1999| 1599|           4.1|                  43|        NULL|https://www.nykaa...|\n|    781070|      Olay| 15618995|perfect for summe...|I have been using...|  Sanchi Gupta|2020-11-13 12:24:14|          4.0|      True|   False|Verified Buyer|Olay Ultra Lightw...|1999| 1599|           4.1|                  43|        NULL|https://www.nykaa...|\n|    781070|      Olay| 13474509|   Not a moisturizer|i have an oily sk...|    Ruchi Shah|2020-06-14 11:56:50|          3.0|      True|   False|Verified Buyer|Olay Ultra Lightw...|1999| 1599|           4.1|                  43|        NULL|https://www.nykaa...|\n|    781070|      Olay| 16338982|             Average|It's not that goo...|Sukanya Sarkar|2020-12-22 15:24:35|          2.0|      True|   False|Verified Buyer|Olay Ultra Lightw...|1999| 1599|           4.1|                  43|        NULL|https://www.nykaa...|\n+----------+----------+---------+--------------------+--------------------+--------------+-------------------+-------------+----------+--------+--------------+--------------------+----+-----+--------------+--------------------+------------+--------------------+\nonly showing top 5 rows\n\n"
     ]
    }
   ],
   "source": [
    "reviews_df.show(5)"
   ]
  },
  {
   "cell_type": "code",
   "execution_count": 0,
   "metadata": {
    "application/vnd.databricks.v1+cell": {
     "cellMetadata": {
      "byteLimit": 2048000,
      "rowLimit": 10000
     },
     "inputWidgets": {},
     "nuid": "d698ced0-0928-4031-b288-6cc39e8a5623",
     "showTitle": false,
     "tableResultSettingsMap": {},
     "title": ""
    }
   },
   "outputs": [
    {
     "output_type": "stream",
     "name": "stdout",
     "output_type": "stream",
     "text": [
      "+-----------------+------------------+\n|product_id_events|product_id_reviews|\n+-----------------+------------------+\n|            11719|            209281|\n|            15161|           2645330|\n|            16686|           3445855|\n|            27658|           4749403|\n|            34768|            995305|\n+-----------------+------------------+\nonly showing top 5 rows\n\n"
     ]
    }
   ],
   "source": [
    "mapping_df.show(5)"
   ]
  },
  {
   "cell_type": "markdown",
   "metadata": {
    "application/vnd.databricks.v1+cell": {
     "cellMetadata": {
      "byteLimit": 2048000,
      "rowLimit": 10000
     },
     "inputWidgets": {},
     "nuid": "fbcdf1c9-7002-4d0c-a457-a63988acc1a7",
     "showTitle": false,
     "tableResultSettingsMap": {},
     "title": ""
    }
   },
   "source": [
    "%md\n",
    "## Initial Data Cleaning"
   ]
  },
  {
   "cell_type": "code",
   "execution_count": 0,
   "metadata": {
    "application/vnd.databricks.v1+cell": {
     "cellMetadata": {
      "byteLimit": 2048000,
      "rowLimit": 10000
     },
     "inputWidgets": {},
     "nuid": "6393ad56-0b90-4952-a7e7-e9fa6270725e",
     "showTitle": false,
     "tableResultSettingsMap": {},
     "title": ""
    }
   },
   "outputs": [],
   "source": [
    "# Drop Duplicates\n",
    "cosmetic_df = cosmetic_df.dropDuplicates()\n",
    "reviews_df = reviews_df.dropDuplicates()\n",
    "mapping_df = mapping_df.dropDuplicates()"
   ]
  },
  {
   "cell_type": "code",
   "execution_count": 0,
   "metadata": {
    "application/vnd.databricks.v1+cell": {
     "cellMetadata": {
      "byteLimit": 2048000,
      "rowLimit": 10000
     },
     "inputWidgets": {},
     "nuid": "a2fb34e1-06cb-44ad-882e-a7bbe35c821d",
     "showTitle": false,
     "tableResultSettingsMap": {},
     "title": ""
    }
   },
   "outputs": [],
   "source": [
    "# Standardizing column names\n",
    "cosmetic_df = cosmetic_df.withColumnRenamed(\"product_id\", \"cosmeticProductId\") \\\n",
    "                         .withColumnRenamed(\"price\", \"cosmetic_price\") \n",
    "\n",
    "reviews_df = reviews_df.withColumnRenamed(\"product_id\", \"reviewProductId\") \\\n",
    "                       .withColumnRenamed(\"price\", \"review_price\")\n",
    "\n",
    "mapping_df = mapping_df.withColumnRenamed(\"product_id_events\", \"cosmeticProductId\") \\\n",
    "                       .withColumnRenamed(\"product_id_reviews\", \"reviewProductId\")"
   ]
  },
  {
   "cell_type": "code",
   "execution_count": 0,
   "metadata": {
    "application/vnd.databricks.v1+cell": {
     "cellMetadata": {
      "byteLimit": 2048000,
      "rowLimit": 10000
     },
     "inputWidgets": {},
     "nuid": "18657a06-e573-44a3-b8f3-0b1a02a82fbb",
     "showTitle": false,
     "tableResultSettingsMap": {},
     "title": ""
    }
   },
   "outputs": [],
   "source": [
    "# Drop unnecessary columns and fill missing values\n",
    "cosmetic_df = cosmetic_df.filter(cosmetic_df['cosmetic_price'] > 0)\n",
    "\n",
    "mapping_df = mapping_df.na.drop()"
   ]
  },
  {
   "cell_type": "code",
   "execution_count": 0,
   "metadata": {
    "application/vnd.databricks.v1+cell": {
     "cellMetadata": {
      "byteLimit": 2048000,
      "rowLimit": 10000
     },
     "inputWidgets": {},
     "nuid": "13270b75-5526-47a1-a2bc-277d0523e572",
     "showTitle": false,
     "tableResultSettingsMap": {},
     "title": ""
    }
   },
   "outputs": [
    {
     "output_type": "stream",
     "name": "stdout",
     "output_type": "stream",
     "text": [
      "+------------------+------------------+--------------------+--------------------+\n|      review_title|review_title_clean|         review_text|   review_text_clean|\n+------------------+------------------+--------------------+--------------------+\n|Invisible & Smooth| invisible  smooth|Wore these when I...|wore these when i...|\n|              Nice|              nice|Works as it claim...|works as it claim...|\n|             Great|             great|It Won't let your...|it wont let your ...|\n|          Easy fix|          easy fix|This is one easy ...|this is one easy ...|\n|        Give a try|        give a try|This is my first ...|this is my first ...|\n+------------------+------------------+--------------------+--------------------+\nonly showing top 5 rows\n\n"
     ]
    }
   ],
   "source": [
    "from pyspark.sql.functions import udf\n",
    "from pyspark.sql.types import StringType\n",
    "import re\n",
    "\n",
    "def clean_text(text):\n",
    "    if text:\n",
    "        text = text.lower()\n",
    "        text = text.replace('\\n', ' ').replace('\\t', ' ').replace('\\r', ' ')\n",
    "        text = re.sub(r'[^a-zA-Z0-9\\s/.]', '', text)  \n",
    "        return text.strip()\n",
    "    return text  \n",
    "\n",
    "# Register UDF\n",
    "clean_text_udf = udf(clean_text, StringType())\n",
    "\n",
    "reviews_df = reviews_df.drop(\"product_tags\")\n",
    "reviews_df = reviews_df.fillna({\n",
    "    'review_text': 'No review', \n",
    "    'brand_name': 'Unknown', \n",
    "    'review_label': 'No Label',\n",
    "    'product_title': 'Unknown Title'\n",
    "})\n",
    "\n",
    "# Clean review_title and review_text\n",
    "reviews_df = reviews_df.withColumn(\"review_title_clean\", clean_text_udf(reviews_df[\"review_title\"]))\n",
    "reviews_df = reviews_df.withColumn(\"review_text_clean\", clean_text_udf(reviews_df[\"review_text\"]))\n",
    "\n",
    "reviews_df.select(\"review_title\", \"review_title_clean\", \"review_text\", \"review_text_clean\").show(5)"
   ]
  },
  {
   "cell_type": "code",
   "execution_count": 0,
   "metadata": {
    "application/vnd.databricks.v1+cell": {
     "cellMetadata": {
      "byteLimit": 2048000,
      "rowLimit": 10000
     },
     "inputWidgets": {},
     "nuid": "a696e1fa-17eb-4fc4-b762-20273538e2b9",
     "showTitle": false,
     "tableResultSettingsMap": {},
     "title": ""
    }
   },
   "outputs": [
    {
     "output_type": "stream",
     "name": "stdout",
     "output_type": "stream",
     "text": [
      "+----------------+-------+\n|      event_type|  count|\n+----------------+-------+\n|        purchase| 263570|\n|            view|2032076|\n|            cart|1126995|\n|remove_from_cart| 609461|\n+----------------+-------+\n\n"
     ]
    }
   ],
   "source": [
    "# Filtering our multi classificaiton \n",
    "valid_events = [\"view\", \"cart\", \"remove_from_cart\", \"purchase\"]\n",
    "cosmetic_df = cosmetic_df.filter(cosmetic_df.event_type.isin(valid_events))\n",
    "\n",
    "cosmetic_df.groupBy(\"event_type\").count().show()"
   ]
  },
  {
   "cell_type": "code",
   "execution_count": 0,
   "metadata": {
    "application/vnd.databricks.v1+cell": {
     "cellMetadata": {
      "byteLimit": 2048000,
      "rowLimit": 10000
     },
     "inputWidgets": {},
     "nuid": "c98559f4-3cb0-4970-a7f2-c6cae9e26d07",
     "showTitle": false,
     "tableResultSettingsMap": {},
     "title": ""
    }
   },
   "outputs": [
    {
     "output_type": "stream",
     "name": "stdout",
     "output_type": "stream",
     "text": [
      "+-------------------+----------+-----------------+-------------------+-------------+--------+--------------+---------+--------------------+\n|         event_time|event_type|cosmeticProductId|        category_id|category_code|   brand|cosmetic_price|  user_id|        user_session|\n+-------------------+----------+-----------------+-------------------+-------------+--------+--------------+---------+--------------------+\n|2020-01-01 00:00:19|      view|          5798924|1783999068867920626|         NULL|  zinger|          3.97|595412617|46a5010f-bd69-4fb...|\n|2020-01-01 00:00:25|      view|          5899926|2115334439910245200|         NULL|    NULL|          3.92|484071203|cff70ddf-529e-4b0...|\n|2020-01-01 00:00:24|      view|          5793052|1487580005754995573|         NULL|    NULL|          4.92|420652863|546f6af3-a517-475...|\n|2020-01-01 00:00:09|      view|          5812943|1487580012121948301|         NULL|kinetics|          3.97|595414640|c8c5205d-be43-4f1...|\n|2020-01-01 00:00:00|      view|          5809910|1602943681873052386|         NULL| grattol|          5.24|595414620|4adb70bb-edbd-498...|\n+-------------------+----------+-----------------+-------------------+-------------+--------+--------------+---------+--------------------+\nonly showing top 5 rows\n\n"
     ]
    }
   ],
   "source": [
    "cosmetic_df.show(5)"
   ]
  },
  {
   "cell_type": "code",
   "execution_count": 0,
   "metadata": {
    "application/vnd.databricks.v1+cell": {
     "cellMetadata": {
      "byteLimit": 2048000,
      "rowLimit": 10000
     },
     "inputWidgets": {},
     "nuid": "b3ef2641-fb77-420d-b755-7491fd838777",
     "showTitle": false,
     "tableResultSettingsMap": {},
     "title": ""
    }
   },
   "outputs": [
    {
     "output_type": "stream",
     "name": "stdout",
     "output_type": "stream",
     "text": [
      "+---------------+--------------+---------+------------------+--------------------+-----------------+-------------------+-------------+----------+--------+--------------+--------------------+---+------------+--------------+--------------------+--------------------+------------------+--------------------+\n|reviewProductId|    brand_name|review_id|      review_title|         review_text|           author|        review_date|review_rating|is_a_buyer|pro_user|  review_label|       product_title|mrp|review_price|product_rating|product_rating_count|         product_url|review_title_clean|   review_text_clean|\n+---------------+--------------+---------+------------------+--------------------+-----------------+-------------------+-------------+----------+--------+--------------+--------------------+---+------------+--------------+--------------------+--------------------+------------------+--------------------+\n|         785729|Nykaa Naturals| 27389259|Invisible & Smooth|Wore these when I...|       zeno hujon|2022-08-04 11:52:27|          5.0|      True|   False|Verified Buyer|Nykaa Skin Secret...|100|          90|           3.8|                8212|https://www.nykaa...| invisible  smooth|wore these when i...|\n|         785729|Nykaa Naturals| 24414214|              Nice|Works as it claim...|Madhura Jayaraman|2022-04-29 01:10:30|          5.0|      True|   False|Verified Buyer|Nykaa Skin Secret...|100|          90|           3.8|                8212|https://www.nykaa...|              nice|works as it claim...|\n|         785729|Nykaa Naturals| 21447918|             Great|It Won't let your...|    sumi susmitha|2021-11-19 23:35:09|          5.0|      True|   False|Verified Buyer|Nykaa Skin Secret...|100|          90|           3.8|                8212|https://www.nykaa...|             great|it wont let your ...|\n|         785729|Nykaa Naturals| 29187593|          Easy fix|This is one easy ...|          Latha P|2022-10-07 22:20:40|          5.0|      True|   False|Verified Buyer|Nykaa Skin Secret...|100|          90|           3.8|                8212|https://www.nykaa...|          easy fix|this is one easy ...|\n|         785729|Nykaa Naturals| 25621869|        Give a try|This is my first ...|   Ramya Jennifer|2022-06-05 22:20:24|          5.0|      True|   False|Verified Buyer|Nykaa Skin Secret...|100|          90|           3.8|                8212|https://www.nykaa...|        give a try|this is my first ...|\n+---------------+--------------+---------+------------------+--------------------+-----------------+-------------------+-------------+----------+--------+--------------+--------------------+---+------------+--------------+--------------------+--------------------+------------------+--------------------+\nonly showing top 5 rows\n\n"
     ]
    }
   ],
   "source": [
    "reviews_df.show(5)"
   ]
  },
  {
   "cell_type": "code",
   "execution_count": 0,
   "metadata": {
    "application/vnd.databricks.v1+cell": {
     "cellMetadata": {
      "byteLimit": 2048000,
      "rowLimit": 10000
     },
     "inputWidgets": {},
     "nuid": "c419e841-8950-4076-be05-5ed8c39ddfe5",
     "showTitle": false,
     "tableResultSettingsMap": {},
     "title": ""
    }
   },
   "outputs": [
    {
     "output_type": "stream",
     "name": "stdout",
     "output_type": "stream",
     "text": [
      "+-----------------+---------------+\n|cosmeticProductId|reviewProductId|\n+-----------------+---------------+\n|            34768|         995305|\n|            15161|        2645330|\n|            16686|        3445855|\n|            19162|        3494214|\n|            11719|         209281|\n+-----------------+---------------+\nonly showing top 5 rows\n\n"
     ]
    }
   ],
   "source": [
    "mapping_df.show(5)"
   ]
  },
  {
   "cell_type": "markdown",
   "metadata": {
    "application/vnd.databricks.v1+cell": {
     "cellMetadata": {
      "byteLimit": 2048000,
      "rowLimit": 10000
     },
     "inputWidgets": {},
     "nuid": "5476b78b-c254-43ad-9c8a-3cb5b053e3a6",
     "showTitle": false,
     "tableResultSettingsMap": {},
     "title": ""
    }
   },
   "source": [
    "## Manage Delta Tables"
   ]
  },
  {
   "cell_type": "code",
   "execution_count": 0,
   "metadata": {
    "application/vnd.databricks.v1+cell": {
     "cellMetadata": {
      "byteLimit": 2048000,
      "rowLimit": 10000
     },
     "inputWidgets": {},
     "nuid": "07248ca7-cc12-4c5e-8396-04f9a588c3ad",
     "showTitle": false,
     "tableResultSettingsMap": {},
     "title": ""
    }
   },
   "outputs": [],
   "source": [
    "cosmetic_delta_path = \"/mnt/delta/cosmetic_store_data\"\n",
    "reviews_delta_path = \"/mnt/delta/product_reviews\"\n",
    "mapping_delta_path = \"/mnt/delta/product_mapping\""
   ]
  },
  {
   "cell_type": "code",
   "execution_count": 0,
   "metadata": {
    "application/vnd.databricks.v1+cell": {
     "cellMetadata": {
      "byteLimit": 2048000,
      "rowLimit": 10000
     },
     "inputWidgets": {},
     "nuid": "53826c47-db77-49f2-823a-e2d513940525",
     "showTitle": false,
     "tableResultSettingsMap": {},
     "title": ""
    }
   },
   "outputs": [],
   "source": [
    "# Convert each cleaned DataFrame to Delta format\n",
    "cosmetic_df.write.format(\"delta\").mode(\"overwrite\").save(cosmetic_delta_path)\n",
    "reviews_df.write.format(\"delta\").mode(\"overwrite\").option(\"overwriteSchema\", \"true\").save(reviews_delta_path)\n",
    "mapping_df.write.format(\"delta\").mode(\"overwrite\").save(mapping_delta_path)\n"
   ]
  },
  {
   "cell_type": "code",
   "execution_count": 0,
   "metadata": {
    "application/vnd.databricks.v1+cell": {
     "cellMetadata": {
      "byteLimit": 2048000,
      "rowLimit": 10000
     },
     "inputWidgets": {},
     "nuid": "823b873f-05c2-4f54-9872-5cfc6938cf4c",
     "showTitle": false,
     "tableResultSettingsMap": {},
     "title": ""
    }
   },
   "outputs": [],
   "source": [
    "# Load Delta tables directly from paths\n",
    "cosmetic_df = spark.read.format(\"delta\").load(cosmetic_delta_path)\n",
    "reviews_df = spark.read.format(\"delta\").load(reviews_delta_path)\n",
    "mapping_df = spark.read.format(\"delta\").load(mapping_delta_path)\n"
   ]
  },
  {
   "cell_type": "markdown",
   "metadata": {
    "application/vnd.databricks.v1+cell": {
     "cellMetadata": {
      "byteLimit": 2048000,
      "rowLimit": 10000
     },
     "inputWidgets": {},
     "nuid": "9739984e-a1e7-4b01-9658-464335d00525",
     "showTitle": false,
     "tableResultSettingsMap": {},
     "title": ""
    }
   },
   "source": [
    "## Data Transformation"
   ]
  },
  {
   "cell_type": "code",
   "execution_count": 0,
   "metadata": {
    "application/vnd.databricks.v1+cell": {
     "cellMetadata": {
      "byteLimit": 2048000,
      "rowLimit": 10000
     },
     "inputWidgets": {},
     "nuid": "51b3284b-28c9-45a1-b263-70daf8597666",
     "showTitle": false,
     "tableResultSettingsMap": {},
     "title": ""
    }
   },
   "outputs": [],
   "source": [
    "from pyspark.ml.feature import StringIndexer, VectorAssembler, StandardScaler\n",
    "from pyspark.sql.functions import mean, stddev, col\n",
    "from pyspark.sql.types import DoubleType, IntegerType"
   ]
  },
  {
   "cell_type": "markdown",
   "metadata": {
    "application/vnd.databricks.v1+cell": {
     "cellMetadata": {
      "byteLimit": 2048000,
      "rowLimit": 10000
     },
     "inputWidgets": {},
     "nuid": "b77e286f-a2bf-4f9f-b1d3-1883873ef247",
     "showTitle": false,
     "tableResultSettingsMap": {},
     "title": ""
    }
   },
   "source": [
    "### Transform Cosmetic Data (Structured Interaction Data)"
   ]
  },
  {
   "cell_type": "code",
   "execution_count": 0,
   "metadata": {
    "application/vnd.databricks.v1+cell": {
     "cellMetadata": {
      "byteLimit": 2048000,
      "rowLimit": 10000
     },
     "inputWidgets": {},
     "nuid": "e4c4226e-d9d5-42f3-abf6-8f754bf79461",
     "showTitle": false,
     "tableResultSettingsMap": {},
     "title": ""
    }
   },
   "outputs": [],
   "source": [
    "# Encode `event_type` column for interactions (structured data)\n",
    "indexer = StringIndexer(inputCol=\"event_type\", outputCol=\"event_type_index\")\n",
    "cosmetic_df = indexer.fit(cosmetic_df).transform(cosmetic_df)\n",
    "\n",
    "# Scale `cosmetic_price` column\n",
    "assembler = VectorAssembler(inputCols=[\"cosmetic_price\"], outputCol=\"price_vec\")\n",
    "cosmetic_df = assembler.transform(cosmetic_df)\n",
    "\n",
    "scaler = StandardScaler(inputCol=\"price_vec\", outputCol=\"price_scaled\")\n",
    "cosmetic_df = scaler.fit(cosmetic_df).transform(cosmetic_df)"
   ]
  },
  {
   "cell_type": "markdown",
   "metadata": {
    "application/vnd.databricks.v1+cell": {
     "cellMetadata": {
      "byteLimit": 2048000,
      "rowLimit": 10000
     },
     "inputWidgets": {},
     "nuid": "1f52ce0f-819f-45ab-93d7-55d7d42ed4e9",
     "showTitle": false,
     "tableResultSettingsMap": {},
     "title": ""
    }
   },
   "source": [
    "### Transform Reviews Data with Bert Tokenizer (Unstructured Sentiment Data)"
   ]
  },
  {
   "cell_type": "code",
   "execution_count": 0,
   "metadata": {
    "application/vnd.databricks.v1+cell": {
     "cellMetadata": {
      "byteLimit": 2048000,
      "rowLimit": 10000
     },
     "inputWidgets": {},
     "nuid": "1c1b062d-f29d-4bc7-a772-147b1256e4ea",
     "showTitle": false,
     "tableResultSettingsMap": {},
     "title": ""
    }
   },
   "outputs": [
    {
     "output_type": "stream",
     "name": "stderr",
     "output_type": "stream",
     "text": [
      "2024-11-20 02:37:14.463128: I external/local_tsl/tsl/cuda/cudart_stub.cc:32] Could not find cuda drivers on your machine, GPU will not be used.\n2024-11-20 02:37:14.466825: I external/local_tsl/tsl/cuda/cudart_stub.cc:32] Could not find cuda drivers on your machine, GPU will not be used.\n2024-11-20 02:37:14.522627: I tensorflow/core/platform/cpu_feature_guard.cc:210] This TensorFlow binary is optimized to use available CPU instructions in performance-critical operations.\nTo enable the following instructions: AVX2 FMA, in other operations, rebuild TensorFlow with the appropriate compiler flags.\n2024-11-20 02:37:15.797807: W tensorflow/compiler/tf2tensorrt/utils/py_utils.cc:38] TF-TRT Warning: Could not find TensorRT\n"
     ]
    }
   ],
   "source": [
    "from transformers import BertTokenizer\n",
    "from transformers import AutoTokenizer, AutoModelForSequenceClassification, pipeline\n",
    "import torch\n",
    "\n",
    "# Load a pre-trained BERT tokenizer\n",
    "tokenizer = BertTokenizer.from_pretrained('bert-base-uncased')"
   ]
  },
  {
   "cell_type": "code",
   "execution_count": 0,
   "metadata": {
    "application/vnd.databricks.v1+cell": {
     "cellMetadata": {
      "byteLimit": 2048000,
      "rowLimit": 10000
     },
     "inputWidgets": {},
     "nuid": "b9f9ffad-b58e-4a16-91a2-b71215fec789",
     "showTitle": false,
     "tableResultSettingsMap": {},
     "title": ""
    }
   },
   "outputs": [
    {
     "output_type": "stream",
     "name": "stdout",
     "output_type": "stream",
     "text": [
      "+--------------------+---------+\n|   review_text_clean|sentiment|\n+--------------------+---------+\n|wore these when i...| Negative|\n|works as it claim...| Negative|\n|it wont let your ...| Negative|\n|this is one easy ...|  Neutral|\n|this is my first ...|  Neutral|\n+--------------------+---------+\nonly showing top 5 rows\n\n"
     ]
    }
   ],
   "source": [
    "from pyspark.sql.functions import udf\n",
    "from pyspark.sql.types import StringType\n",
    "from transformers import AutoTokenizer, AutoModelForSequenceClassification\n",
    "import torch\n",
    "\n",
    "# Load tokenizer and model for sentiment analysis\n",
    "tokenizer = AutoTokenizer.from_pretrained(\"dipawidia/xlnet-base-cased-product-review-sentiment-analysis\")\n",
    "model = AutoModelForSequenceClassification.from_pretrained(\"dipawidia/xlnet-base-cased-product-review-sentiment-analysis\")\n",
    "\n",
    "# Define a function for sentiment prediction\n",
    "def get_sentiment(review):\n",
    "    if not review:\n",
    "        return \"Neutral\"  # Default sentiment for empty reviews\n",
    "    # Tokenize the input text\n",
    "    inputs = tokenizer(review, return_tensors=\"pt\", truncation=True, padding=True, max_length=128)\n",
    "    # Get model outputs\n",
    "    outputs = model(**inputs)\n",
    "    logits = outputs.logits\n",
    "    # Convert logits to probabilities\n",
    "    probabilities = torch.nn.functional.softmax(logits, dim=1)\n",
    "    # Get the predicted label\n",
    "    predicted_class = torch.argmax(probabilities, dim=1).item()\n",
    "    sentiment_map = {0: \"Negative\", 1: \"Neutral\", 2: \"Positive\"}\n",
    "    return sentiment_map[predicted_class]\n",
    "\n",
    "# Register the function as a UDF\n",
    "get_sentiment_udf = udf(get_sentiment, StringType())\n",
    "\n",
    "# Apply the UDF to the DataFrame\n",
    "reviews_df = reviews_df.withColumn(\"sentiment\", get_sentiment_udf(reviews_df[\"review_text_clean\"]))\n",
    "\n",
    "# Display results\n",
    "reviews_df.select(\"review_text_clean\", \"sentiment\").show(5)"
   ]
  },
  {
   "cell_type": "code",
   "execution_count": 0,
   "metadata": {
    "application/vnd.databricks.v1+cell": {
     "cellMetadata": {
      "byteLimit": 2048000,
      "rowLimit": 10000
     },
     "inputWidgets": {},
     "nuid": "432832f0-9a59-4bba-a187-a0cc13e6b2af",
     "showTitle": false,
     "tableResultSettingsMap": {},
     "title": ""
    }
   },
   "outputs": [],
   "source": [
    "# Cast numerical columns to appropriate types\n",
    "reviews_df = reviews_df.withColumn(\"mrp\", reviews_df[\"mrp\"].cast(DoubleType())) \\\n",
    "    .withColumn(\"review_price\", reviews_df[\"review_price\"].cast(DoubleType())) \\\n",
    "    .withColumn(\"product_rating\", reviews_df[\"product_rating\"].cast(DoubleType())) \\\n",
    "    .withColumn(\"product_rating_count\", reviews_df[\"product_rating_count\"].cast(IntegerType()))"
   ]
  },
  {
   "cell_type": "markdown",
   "metadata": {
    "application/vnd.databricks.v1+cell": {
     "cellMetadata": {
      "byteLimit": 2048000,
      "rowLimit": 10000
     },
     "inputWidgets": {},
     "nuid": "54e175b4-4869-42a3-aa63-e558c5b90d3d",
     "showTitle": false,
     "tableResultSettingsMap": {},
     "title": ""
    }
   },
   "source": [
    "### Transform Mapping Data"
   ]
  },
  {
   "cell_type": "code",
   "execution_count": 0,
   "metadata": {
    "application/vnd.databricks.v1+cell": {
     "cellMetadata": {
      "byteLimit": 2048000,
      "rowLimit": 10000
     },
     "inputWidgets": {},
     "nuid": "56d9e78f-cee0-4128-8042-9a55d46ada13",
     "showTitle": false,
     "tableResultSettingsMap": {},
     "title": ""
    }
   },
   "outputs": [],
   "source": [
    "# Cast columns to IntegerType in `mapping_df`\n",
    "mapping_df = mapping_df.withColumn(\"cosmeticProductId\", mapping_df[\"cosmeticProductId\"].cast(IntegerType()))\n",
    "mapping_df = mapping_df.withColumn(\"reviewProductId\", mapping_df[\"reviewProductId\"].cast(IntegerType()))\n",
    "\n",
    "# Calculate mean and standard deviation for filtering outliers\n",
    "stats = mapping_df.select(\n",
    "    mean(\"reviewProductId\").alias(\"mean_reviews\"),\n",
    "    stddev(\"reviewProductId\").alias(\"stddev_reviews\")\n",
    ").collect()[0]\n",
    "\n",
    "mean_reviews = stats[\"mean_reviews\"]\n",
    "stddev_reviews = stats[\"stddev_reviews\"]\n",
    "\n",
    "# Filter out outliers beyond 3 standard deviations\n",
    "mapping_df = mapping_df.filter(\n",
    "    (col(\"reviewProductId\") > mean_reviews - 3 * stddev_reviews) &\n",
    "    (col(\"reviewProductId\") < mean_reviews + 3 * stddev_reviews)\n",
    ")\n",
    "\n",
    "# Scale `cosmeticProductId` and `reviewProductId` in `mapping_df`\n",
    "assembler = VectorAssembler(inputCols=[\"cosmeticProductId\", \"reviewProductId\"], outputCol=\"mapping_features_vec\")\n",
    "mapping_df = assembler.transform(mapping_df)\n",
    "\n",
    "scaler = StandardScaler(inputCol=\"mapping_features_vec\", outputCol=\"mapping_scaled_features\")\n",
    "mapping_df = scaler.fit(mapping_df).transform(mapping_df)"
   ]
  },
  {
   "cell_type": "markdown",
   "metadata": {
    "application/vnd.databricks.v1+cell": {
     "cellMetadata": {
      "byteLimit": 2048000,
      "rowLimit": 10000
     },
     "inputWidgets": {},
     "nuid": "2fe567e6-7ece-4954-9bad-dc2f16695772",
     "showTitle": false,
     "tableResultSettingsMap": {},
     "title": ""
    }
   },
   "source": [
    "## Combine the Transformed Data"
   ]
  },
  {
   "cell_type": "code",
   "execution_count": 0,
   "metadata": {
    "application/vnd.databricks.v1+cell": {
     "cellMetadata": {
      "byteLimit": 2048000,
      "rowLimit": 10000
     },
     "inputWidgets": {},
     "nuid": "adbfbb83-4f3d-4460-a881-1284b61faf6f",
     "showTitle": false,
     "tableResultSettingsMap": {},
     "title": ""
    }
   },
   "outputs": [],
   "source": [
    "# Join `cosmetic_df` and `mapping_df` on `cosmeticProductId`\n",
    "cosmetic_mapped_df = cosmetic_df.join(mapping_df, cosmetic_df[\"cosmeticProductId\"] == mapping_df[\"cosmeticProductId\"], \"inner\")\n",
    "\n",
    "# Join the result with `reviews_df` on `reviewProductId`\n",
    "combined_df = cosmetic_mapped_df.join(reviews_df, cosmetic_mapped_df[\"reviewProductId\"] == reviews_df[\"reviewProductId\"], \"inner\")\n",
    "\n",
    "# Drop the duplicate one\n",
    "combined_df = combined_df.drop(\"cosmeticProductId\", \"reviewProductId\", \"event_type\", \"brand_name\", \"sentiment\")"
   ]
  },
  {
   "cell_type": "code",
   "execution_count": 0,
   "metadata": {
    "application/vnd.databricks.v1+cell": {
     "cellMetadata": {
      "byteLimit": 2048000,
      "rowLimit": 10000
     },
     "inputWidgets": {},
     "nuid": "9ee40f92-7eb2-4e66-a1c9-97b6e430f32e",
     "showTitle": false,
     "tableResultSettingsMap": {},
     "title": ""
    }
   },
   "outputs": [],
   "source": [
    "# Save combined_df to Delta table\n",
    "combined_data_path = \"/mnt/delta/combined_cleaned_data\"\n",
    "combined_df.write.format(\"delta\").mode(\"overwrite\").option(\"overwriteSchema\", \"true\").save(combined_data_path)"
   ]
  },
  {
   "cell_type": "code",
   "execution_count": 0,
   "metadata": {
    "application/vnd.databricks.v1+cell": {
     "cellMetadata": {
      "byteLimit": 2048000,
      "rowLimit": 10000
     },
     "inputWidgets": {},
     "nuid": "352a374d-708f-4ee9-a9a1-db4d8f417839",
     "showTitle": false,
     "tableResultSettingsMap": {},
     "title": ""
    }
   },
   "outputs": [
    {
     "output_type": "stream",
     "name": "stdout",
     "output_type": "stream",
     "text": [
      "root\n |-- event_time: timestamp (nullable = true)\n |-- category_id: long (nullable = true)\n |-- category_code: string (nullable = true)\n |-- brand: string (nullable = true)\n |-- cosmetic_price: double (nullable = true)\n |-- user_id: integer (nullable = true)\n |-- user_session: string (nullable = true)\n |-- event_type_index: double (nullable = false)\n |-- price_vec: vector (nullable = true)\n |-- price_scaled: vector (nullable = true)\n |-- mapping_features_vec: vector (nullable = true)\n |-- mapping_scaled_features: vector (nullable = true)\n |-- review_id: integer (nullable = true)\n |-- review_title: string (nullable = true)\n |-- review_text: string (nullable = true)\n |-- author: string (nullable = true)\n |-- review_date: string (nullable = true)\n |-- review_rating: string (nullable = true)\n |-- is_a_buyer: string (nullable = true)\n |-- pro_user: string (nullable = true)\n |-- review_label: string (nullable = true)\n |-- product_title: string (nullable = true)\n |-- mrp: double (nullable = true)\n |-- review_price: double (nullable = true)\n |-- product_rating: double (nullable = true)\n |-- product_rating_count: integer (nullable = true)\n |-- product_url: string (nullable = true)\n |-- review_title_clean: string (nullable = true)\n |-- review_text_clean: string (nullable = true)\n\n"
     ]
    }
   ],
   "source": [
    "combined_df.printSchema()"
   ]
  },
  {
   "cell_type": "code",
   "execution_count": 0,
   "metadata": {
    "application/vnd.databricks.v1+cell": {
     "cellMetadata": {
      "byteLimit": 2048000,
      "rowLimit": 10000
     },
     "inputWidgets": {},
     "nuid": "89de7b29-9e53-44da-b4f6-98cf3731a9b0",
     "showTitle": false,
     "tableResultSettingsMap": {},
     "title": ""
    }
   },
   "outputs": [
    {
     "output_type": "stream",
     "name": "stdout",
     "output_type": "stream",
     "text": [
      "+-------------------+-------------------+-------------+------+--------------+---------+--------------------+----------------+---------+--------------------+--------------------+-----------------------+---------+--------------------+--------------------+---------------+-------------------+-------------+----------+--------+--------------------+--------------------+------+------------+--------------+--------------------+--------------------+--------------------+--------------------+\n|         event_time|        category_id|category_code| brand|cosmetic_price|  user_id|        user_session|event_type_index|price_vec|        price_scaled|mapping_features_vec|mapping_scaled_features|review_id|        review_title|         review_text|         author|        review_date|review_rating|is_a_buyer|pro_user|        review_label|       product_title|   mrp|review_price|product_rating|product_rating_count|         product_url|  review_title_clean|   review_text_clean|\n+-------------------+-------------------+-------------+------+--------------+---------+--------------------+----------------+---------+--------------------+--------------------+-----------------------+---------+--------------------+--------------------+---------------+-------------------+-------------+----------+--------+--------------------+--------------------+------+------------+--------------+--------------------+--------------------+--------------------+--------------------+\n|2020-01-03 16:02:52|1487580006317032337|         NULL|  NULL|          5.79|561670192|f1d0ba05-9326-42f...|             1.0|   [5.79]|[0.2889872626512394]| [31590.0,6604347.0]|   [4.00558890908890...| 28585692|Smells really del...|This is good comb...|Yogita Vaishnav|2022-09-15 15:02:16|          4.0|     False|   False|            No Label|Herbal Essences S...| 980.0|       667.0|           4.1|                1985|https://www.nykaa...|smells really del...|this is good comb...|\n|2020-01-03 16:02:52|1487580006317032337|         NULL|  NULL|          5.79|561670192|f1d0ba05-9326-42f...|             1.0|   [5.79]|[0.2889872626512394]| [31590.0,6604347.0]|   [4.00558890908890...| 28115711|Not suitable for ...|\"The shampoo and ...|   Sneha Halder|2022-08-29 14:58:26|          3.0|     False|    True|Verified Professi...|Herbal Essences S...| 980.0|       667.0|           4.1|                1985|https://www.nykaa...|not suitable for ...|the shampoo and c...|\n|2020-01-03 17:10:54|1487580011308253293|         NULL|masura|         17.44|492187735|20ecaea0-f5a6-458...|             2.0|  [17.44]| [0.870455589056583]| [27763.0,4996626.0]|   [3.52032810645885...| 25579560|                Best|Best foundation a...|           ss k|2022-06-04 12:06:04|          5.0|     False|   False|            No Label|Nykaa All Day Mat...| 824.0|       742.0|           3.2|                   5|https://www.nykaa...|                best|best foundation a...|\n|2020-01-04 14:31:34|1487580009445982239|         NULL|  NULL|         14.52|596760834|104e964c-01ee-4f9...|             0.0|  [14.52]|[0.7247141716227973]| [15732.0,2809496.0]|   [1.99480610059470...| 21024944|          Nail combo|Red and pink shad...|    Priya Pawar|2021-10-22 11:30:00|          4.0|     False|   False|            No Label|Kay Beauty Nail N...| 450.0|       360.0|           4.0|                   1|https://www.nykaa...|          nail combo|red and pink shad...|\n|2020-01-04 17:53:36|1487580008447738866|         NULL|   cnd|         11.27|373821070|32e54d0b-1ed2-426...|             0.0|  [11.27]|[0.5625019775612208]| [19162.0,3494214.0]|   [2.42972759341442...| 24688952|          Loved them|Have already used...|Shruti Mungekar|2022-05-07 14:54:01|          5.0|      True|   False|      Verified Buyer|Nykaa Naturals 5 ...|1995.0|      1297.0|           4.1|                 973|https://www.nykaa...|          loved them|have already used...|\n+-------------------+-------------------+-------------+------+--------------+---------+--------------------+----------------+---------+--------------------+--------------------+-----------------------+---------+--------------------+--------------------+---------------+-------------------+-------------+----------+--------+--------------------+--------------------+------+------------+--------------+--------------------+--------------------+--------------------+--------------------+\nonly showing top 5 rows\n\n"
     ]
    }
   ],
   "source": [
    "combined_df.show(5)"
   ]
  },
  {
   "cell_type": "markdown",
   "metadata": {
    "application/vnd.databricks.v1+cell": {
     "cellMetadata": {
      "byteLimit": 2048000,
      "rowLimit": 10000
     },
     "inputWidgets": {},
     "nuid": "dbd4b189-db45-44f5-9cf8-112db1cb114e",
     "showTitle": false,
     "tableResultSettingsMap": {},
     "title": ""
    }
   },
   "source": [
    "## Feature engineering for Structured Data"
   ]
  },
  {
   "cell_type": "markdown",
   "metadata": {
    "application/vnd.databricks.v1+cell": {
     "cellMetadata": {
      "byteLimit": 2048000,
      "rowLimit": 10000
     },
     "inputWidgets": {},
     "nuid": "a6ceb762-adc6-4cf0-aa5b-a1b93fa74b01",
     "showTitle": false,
     "tableResultSettingsMap": {},
     "title": ""
    }
   },
   "source": [
    "## Outcome Variable (Y): Customer Engagement Level"
   ]
  },
  {
   "cell_type": "code",
   "execution_count": 0,
   "metadata": {
    "application/vnd.databricks.v1+cell": {
     "cellMetadata": {
      "byteLimit": 2048000,
      "rowLimit": 10000
     },
     "inputWidgets": {},
     "nuid": "e23b6575-ecde-46f1-97d9-cc148d407fe8",
     "showTitle": false,
     "tableResultSettingsMap": {},
     "title": ""
    }
   },
   "outputs": [],
   "source": [
    "from pyspark.ml.feature import StringIndexer\n",
    "import matplotlib.pyplot as plt"
   ]
  },
  {
   "cell_type": "code",
   "execution_count": 0,
   "metadata": {
    "application/vnd.databricks.v1+cell": {
     "cellMetadata": {
      "byteLimit": 2048000,
      "rowLimit": 10000
     },
     "inputWidgets": {},
     "nuid": "c2282109-6803-40c5-a13a-f405093b2a0e",
     "showTitle": false,
     "tableResultSettingsMap": {},
     "title": ""
    }
   },
   "outputs": [
    {
     "output_type": "stream",
     "name": "stdout",
     "output_type": "stream",
     "text": [
      "+----------------+----------------+\n|      event_type|event_type_index|\n+----------------+----------------+\n|        purchase|             3.0|\n|            cart|             1.0|\n|            view|             0.0|\n|remove_from_cart|             2.0|\n+----------------+----------------+\n\n"
     ]
    }
   ],
   "source": [
    "#Encode event_type to map engagement levels\n",
    "cosmetic_df = cosmetic_df.drop(\"event_type_index\")\n",
    "\n",
    "indexer = StringIndexer(inputCol=\"event_type\", outputCol=\"event_type_index\")\n",
    "cosmetic_df = indexer.fit(cosmetic_df).transform(cosmetic_df)\n",
    "\n",
    "cosmetic_df.select(\"event_type\", \"event_type_index\").distinct().show()\n"
   ]
  },
  {
   "cell_type": "code",
   "execution_count": 0,
   "metadata": {
    "application/vnd.databricks.v1+cell": {
     "cellMetadata": {
      "byteLimit": 2048000,
      "rowLimit": 10000
     },
     "inputWidgets": {},
     "nuid": "e608d31c-65c3-4d58-aa0b-09783884f981",
     "showTitle": false,
     "tableResultSettingsMap": {},
     "title": ""
    }
   },
   "outputs": [
    {
     "output_type": "stream",
     "name": "stdout",
     "output_type": "stream",
     "text": [
      "+----------------+-------+\n|event_type_index|  count|\n+----------------+-------+\n|             0.0|2032076|\n|             1.0|1126995|\n|             3.0| 263570|\n|             2.0| 609461|\n+----------------+-------+\n\n"
     ]
    }
   ],
   "source": [
    "# Distribution of classes\n",
    "cosmetic_df.groupBy(\"event_type_index\").count().show()\n"
   ]
  },
  {
   "cell_type": "code",
   "execution_count": 0,
   "metadata": {
    "application/vnd.databricks.v1+cell": {
     "cellMetadata": {
      "byteLimit": 2048000,
      "rowLimit": 10000
     },
     "inputWidgets": {},
     "nuid": "de591f3c-6781-4644-ab22-61b3cb4e3e06",
     "showTitle": false,
     "tableResultSettingsMap": {},
     "title": ""
    }
   },
   "outputs": [
    {
     "output_type": "display_data",
     "data": {
      "image/png": "[encoded data removed]",
      "text/plain": [
       "<Figure size 800x500 with 1 Axes>"
      ]
     },
     "metadata": {},
     "output_type": "display_data"
    }
   ],
   "source": [
    "# Count occurrences of each class\n",
    "event_counts = cosmetic_df.groupBy(\"event_type_index\").count().toPandas()\n",
    "\n",
    "# Plot\n",
    "plt.figure(figsize=(8, 5))\n",
    "plt.bar(event_counts[\"event_type_index\"], event_counts[\"count\"], color=\"skyblue\")\n",
    "plt.title(\"Distribution of Event Types (Customer Engagement Levels)\", fontsize=14)\n",
    "plt.xlabel(\"Event Type (0=View, 1=Add-to-Cart, 2=Remove-from-Cart, 3=Purchase)\", fontsize=12)\n",
    "plt.ylabel(\"Count\", fontsize=12)\n",
    "plt.show()"
   ]
  },
  {
   "cell_type": "markdown",
   "metadata": {
    "application/vnd.databricks.v1+cell": {
     "cellMetadata": {
      "byteLimit": 2048000,
      "rowLimit": 10000
     },
     "inputWidgets": {},
     "nuid": "8134217f-c448-4647-bff0-5ab331a22127",
     "showTitle": false,
     "tableResultSettingsMap": {},
     "title": ""
    }
   },
   "source": [
    "## Predictor Variables (X): Structured Features"
   ]
  },
  {
   "cell_type": "code",
   "execution_count": 0,
   "metadata": {
    "application/vnd.databricks.v1+cell": {
     "cellMetadata": {
      "byteLimit": 2048000,
      "rowLimit": 10000
     },
     "inputWidgets": {},
     "nuid": "1eca3058-d03d-45d9-a1c5-a72ec330e852",
     "showTitle": false,
     "tableResultSettingsMap": {},
     "title": ""
    }
   },
   "outputs": [],
   "source": [
    "from pyspark.sql.functions import datediff, current_date\n",
    "from pyspark.sql.functions import min, max\n",
    "from pyspark.sql.functions import countDistinct"
   ]
  },
  {
   "cell_type": "code",
   "execution_count": 0,
   "metadata": {
    "application/vnd.databricks.v1+cell": {
     "cellMetadata": {
      "byteLimit": 2048000,
      "rowLimit": 10000
     },
     "inputWidgets": {},
     "nuid": "1db5d3c1-9466-41bc-9a06-9142c6375c2e",
     "showTitle": false,
     "tableResultSettingsMap": {},
     "title": ""
    }
   },
   "outputs": [],
   "source": [
    "#Recency: Days since the last interaction\n",
    "\n",
    "cosmetic_df = cosmetic_df.withColumn(\"recency\", datediff(current_date(), col(\"event_time\")))\n"
   ]
  },
  {
   "cell_type": "code",
   "execution_count": 0,
   "metadata": {
    "application/vnd.databricks.v1+cell": {
     "cellMetadata": {
      "byteLimit": 2048000,
      "rowLimit": 10000
     },
     "inputWidgets": {},
     "nuid": "1f4fe0ac-7b1e-4a86-9930-3874d0aa573a",
     "showTitle": false,
     "tableResultSettingsMap": {},
     "title": ""
    }
   },
   "outputs": [
    {
     "output_type": "display_data",
     "data": {
      "image/png": "[encoded data removed]",
      "text/plain": [
       "<Figure size 800x500 with 1 Axes>"
      ]
     },
     "metadata": {},
     "output_type": "display_data"
    }
   ],
   "source": [
    "# Plot Recency Distribution\n",
    "recency_data = cosmetic_df.select(\"recency\").dropna().rdd.flatMap(lambda x: x).collect()\n",
    "\n",
    "plt.figure(figsize=(8, 5))\n",
    "plt.hist(recency_data, bins=30, alpha=0.7, color=\"blue\")\n",
    "plt.title(\"Distribution of Recency (Days Since Last Interaction)\", fontsize=14)\n",
    "plt.xlabel(\"Recency (Days)\", fontsize=12)\n",
    "plt.ylabel(\"Frequency\", fontsize=12)\n",
    "plt.show()"
   ]
  },
  {
   "cell_type": "code",
   "execution_count": 0,
   "metadata": {
    "application/vnd.databricks.v1+cell": {
     "cellMetadata": {
      "byteLimit": 2048000,
      "rowLimit": 10000
     },
     "inputWidgets": {},
     "nuid": "0eeea44a-ac4d-460e-83d6-9bea541e8048",
     "showTitle": false,
     "tableResultSettingsMap": {},
     "title": ""
    }
   },
   "outputs": [],
   "source": [
    "# Frequency: Total interactions per user session\n",
    "\n",
    "frequency_df = cosmetic_df.groupBy(\"user_session\").count().withColumnRenamed(\"count\", \"frequency\")\n",
    "cosmetic_df = cosmetic_df.join(frequency_df, on=\"user_session\", how=\"left\")"
   ]
  },
  {
   "cell_type": "code",
   "execution_count": 0,
   "metadata": {
    "application/vnd.databricks.v1+cell": {
     "cellMetadata": {
      "byteLimit": 2048000,
      "rowLimit": 10000
     },
     "inputWidgets": {},
     "nuid": "8f4016d4-507d-4695-8958-a44b7434c564",
     "showTitle": false,
     "tableResultSettingsMap": {},
     "title": ""
    }
   },
   "outputs": [
    {
     "output_type": "display_data",
     "data": {
      "image/png": "[encoded data removed]",
      "text/plain": [
       "<Figure size 800x500 with 1 Axes>"
      ]
     },
     "metadata": {},
     "output_type": "display_data"
    }
   ],
   "source": [
    "# Plot Frequency Distribution\n",
    "frequency_data = cosmetic_df.select(\"frequency\").dropna().rdd.flatMap(lambda x: x).collect()\n",
    "\n",
    "plt.figure(figsize=(8, 5))\n",
    "plt.hist(frequency_data, bins=30, alpha=0.7, color=\"green\")\n",
    "plt.title(\"Distribution of Frequency (Interactions per Session)\", fontsize=14)\n",
    "plt.xlabel(\"Frequency\", fontsize=12)\n",
    "plt.ylabel(\"Count\", fontsize=12)\n",
    "plt.show()"
   ]
  },
  {
   "cell_type": "code",
   "execution_count": 0,
   "metadata": {
    "application/vnd.databricks.v1+cell": {
     "cellMetadata": {
      "byteLimit": 2048000,
      "rowLimit": 10000
     },
     "inputWidgets": {},
     "nuid": "6da37a10-9579-4343-866b-07ecac4bd7f1",
     "showTitle": false,
     "tableResultSettingsMap": {},
     "title": ""
    }
   },
   "outputs": [],
   "source": [
    "# Product Popularity: Number of purchases per product\n",
    "\n",
    "product_popularity = cosmetic_df.filter(col(\"event_type\") == \"purchase\").groupBy(\"cosmeticProductId\").count().withColumnRenamed(\"count\", \"popularity\")\n",
    "cosmetic_df = cosmetic_df.join(product_popularity, on=\"cosmeticProductId\", how=\"left\")\n"
   ]
  },
  {
   "cell_type": "code",
   "execution_count": 0,
   "metadata": {
    "application/vnd.databricks.v1+cell": {
     "cellMetadata": {
      "byteLimit": 2048000,
      "rowLimit": 10000
     },
     "inputWidgets": {},
     "nuid": "8a224df7-9bf8-4c84-ae4a-57fb61586085",
     "showTitle": false,
     "tableResultSettingsMap": {},
     "title": ""
    }
   },
   "outputs": [
    {
     "output_type": "display_data",
     "data": {
      "image/png": "[encoded data removed]",
      "text/plain": [
       "<Figure size 800x500 with 1 Axes>"
      ]
     },
     "metadata": {},
     "output_type": "display_data"
    }
   ],
   "source": [
    "# Plot Product Popularity\n",
    "product_popularity_data = cosmetic_df.select(\"popularity\").dropna().rdd.flatMap(lambda x: x).collect()\n",
    "\n",
    "plt.figure(figsize=(8, 5))\n",
    "plt.hist(product_popularity_data, bins=30, alpha=0.7, color=\"skyblue\")\n",
    "plt.title(\"Distribution of Product Popularity\", fontsize=14)\n",
    "plt.xlabel(\"Popularity (Number of Purchases)\", fontsize=12)\n",
    "plt.ylabel(\"Count\", fontsize=12)\n",
    "plt.show()"
   ]
  },
  {
   "cell_type": "code",
   "execution_count": 0,
   "metadata": {
    "application/vnd.databricks.v1+cell": {
     "cellMetadata": {
      "byteLimit": 2048000,
      "rowLimit": 10000
     },
     "inputWidgets": {},
     "nuid": "bb071926-230c-4d82-b39d-d123a1683c0a",
     "showTitle": false,
     "tableResultSettingsMap": {},
     "title": ""
    }
   },
   "outputs": [],
   "source": [
    "# Session Duration: Time spent per session\n",
    "\n",
    "session_duration = cosmetic_df.groupBy(\"user_session\").agg((max(\"event_time\") - min(\"event_time\")).alias(\"duration\"))\n",
    "cosmetic_df = cosmetic_df.join(session_duration, on=\"user_session\", how=\"left\")\n"
   ]
  },
  {
   "cell_type": "code",
   "execution_count": 0,
   "metadata": {
    "application/vnd.databricks.v1+cell": {
     "cellMetadata": {
      "byteLimit": 2048000,
      "rowLimit": 10000
     },
     "inputWidgets": {},
     "nuid": "9461d029-a3ca-4271-82a0-47503924e263",
     "showTitle": false,
     "tableResultSettingsMap": {},
     "title": ""
    }
   },
   "outputs": [],
   "source": [
    "#Session Diversity: Number of unique product categories viewed in a session\n",
    "\n",
    "session_diversity = cosmetic_df.groupBy(\"user_session\").agg(countDistinct(\"category_code\").alias(\"session_diversity\"))\n",
    "cosmetic_df = cosmetic_df.join(session_diversity, on=\"user_session\", how=\"left\")"
   ]
  },
  {
   "cell_type": "code",
   "execution_count": 0,
   "metadata": {
    "application/vnd.databricks.v1+cell": {
     "cellMetadata": {
      "byteLimit": 2048000,
      "rowLimit": 10000
     },
     "inputWidgets": {},
     "nuid": "6674727c-ba1e-4ee2-a323-c8e80429c8fd",
     "showTitle": false,
     "tableResultSettingsMap": {},
     "title": ""
    }
   },
   "outputs": [
    {
     "output_type": "display_data",
     "data": {
      "image/png": "[encoded data removed]",
      "text/plain": [
       "<Figure size 800x500 with 1 Axes>"
      ]
     },
     "metadata": {},
     "output_type": "display_data"
    }
   ],
   "source": [
    "# Plot Session Diversity\n",
    "session_diversity_data = cosmetic_df.select(\"session_diversity\").dropna().rdd.flatMap(lambda x: x).collect()\n",
    "\n",
    "plt.figure(figsize=(8, 5))\n",
    "plt.hist(session_diversity_data, bins=30, alpha=0.7, color=\"teal\")\n",
    "plt.title(\"Distribution of Session Diversity (Unique Categories Viewed)\", fontsize=14)\n",
    "plt.xlabel(\"Session Diversity\", fontsize=12)\n",
    "plt.ylabel(\"Count\", fontsize=12)\n",
    "plt.show()"
   ]
  },
  {
   "cell_type": "code",
   "execution_count": 0,
   "metadata": {
    "application/vnd.databricks.v1+cell": {
     "cellMetadata": {
      "byteLimit": 2048000,
      "rowLimit": 10000
     },
     "inputWidgets": {},
     "nuid": "60d63c5c-e523-4a47-b592-ee659e9e6961",
     "showTitle": false,
     "tableResultSettingsMap": {},
     "title": ""
    }
   },
   "outputs": [],
   "source": [
    "# Save it back to Delta tables\n",
    "cosmetic_df = cosmetic_df.drop(\"duration\") #Databricks doens't support Duration type \n",
    "cosmetic_df.write.format(\"delta\").mode(\"overwrite\").option(\"mergeSchema\", \"true\").save(cosmetic_delta_path)\n",
    "cosmetic_df = spark.read.format(\"delta\").load(cosmetic_delta_path)"
   ]
  },
  {
   "cell_type": "markdown",
   "metadata": {
    "application/vnd.databricks.v1+cell": {
     "cellMetadata": {
      "byteLimit": 2048000,
      "rowLimit": 10000
     },
     "inputWidgets": {},
     "nuid": "b0f9e71d-cccf-4173-8e1c-d4ee298ce165",
     "showTitle": false,
     "tableResultSettingsMap": {},
     "title": ""
    }
   },
   "source": []
  }
 ],
 "metadata": {
  "application/vnd.databricks.v1+notebook": {
   "dashboards": [],
   "environmentMetadata": {
    "base_environment": "",
    "client": "1"
   },
   "language": "python",
   "notebookMetadata": {
    "mostRecentlyExecutedCommandWithImplicitDF": {
     "commandId": 429976835068099,
     "dataframes": [
      "_sqldf"
     ]
    },
    "pythonIndentUnit": 2
   },
   "notebookName": "Feature_Engineering.py",
   "widgets": {}
  },
  "language_info": {
   "name": "python"
  }
 },
 "nbformat": 4,
 "nbformat_minor": 0
}
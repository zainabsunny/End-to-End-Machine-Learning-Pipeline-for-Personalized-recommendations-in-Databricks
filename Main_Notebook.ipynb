{
 "cells": [
  {
   "cell_type": "markdown",
   "metadata": {
    "application/vnd.databricks.v1+cell": {
     "cellMetadata": {
      "byteLimit": 2048000,
      "rowLimit": 10000
     },
     "inputWidgets": {},
     "nuid": "180064a6-5c05-4f0b-b28f-ea594b1090bc",
     "showTitle": false,
     "tableResultSettingsMap": {},
     "title": ""
    }
   },
   "source": [
    "# Royal Cybers: End-to-End Machine Learning Pipeline for Personalized recommendations in Databricks "
   ]
  },
  {
   "cell_type": "markdown",
   "metadata": {
    "application/vnd.databricks.v1+cell": {
     "cellMetadata": {
      "byteLimit": 2048000,
      "rowLimit": 10000
     },
     "inputWidgets": {},
     "nuid": "fde9865a-173c-4a20-91c9-543e83fd5427",
     "showTitle": false,
     "tableResultSettingsMap": {},
     "title": ""
    }
   },
   "source": [
    "## THIS IS THE MAIN NOTEBOOK (not including EDA)"
   ]
  },
  {
   "cell_type": "code",
   "execution_count": 0,
   "metadata": {
    "application/vnd.databricks.v1+cell": {
     "cellMetadata": {
      "byteLimit": 2048000,
      "rowLimit": 10000
     },
     "inputWidgets": {},
     "nuid": "a2b5bbdc-bd78-4d24-9de3-d92cfcba4c1a",
     "showTitle": false,
     "tableResultSettingsMap": {},
     "title": ""
    }
   },
   "outputs": [],
   "source": [
    "import importlib\n",
    "from pyspark.sql import SparkSession\n",
    "from scripts.data_cleaning import clean_cosmetic_df, clean_mapping_df, clean_reviews_df\n",
    "!pip install spacy\n",
    "!python -m spacy download en_core_web_sm\n",
    "from scripts.feature_engineering import process_reviews_df, add_customer_engagement, add_predictor_features\n",
    "from scripts.data_transformation import transform_cosmetic_data, transform_reviews_data, transform_mapping_data\n",
    "from pyspark.sql.functions import col\n",
    "from scripts.EDA import perform_eda\n",
    "!pip install mlxtend\n",
    "from scripts.baseline_model import recommendations, run_fp_growth\n",
    "from pyspark.sql.functions import lit\n"
   ]
  },
  {
   "cell_type": "markdown",
   "metadata": {
    "application/vnd.databricks.v1+cell": {
     "cellMetadata": {
      "byteLimit": 2048000,
      "rowLimit": 10000
     },
     "inputWidgets": {},
     "nuid": "a00ee39e-6e56-4424-a2fa-ea7ad661acf5",
     "showTitle": false,
     "tableResultSettingsMap": {},
     "title": ""
    }
   },
   "source": [
    "## Load Dataset"
   ]
  },
  {
   "cell_type": "code",
   "execution_count": 0,
   "metadata": {
    "application/vnd.databricks.v1+cell": {
     "cellMetadata": {
      "byteLimit": 2048000,
      "rowLimit": 10000
     },
     "inputWidgets": {},
     "nuid": "a5eb5f13-0a85-4b43-a7a7-181b605cfbf1",
     "showTitle": false,
     "tableResultSettingsMap": {},
     "title": ""
    }
   },
   "outputs": [],
   "source": [
    "# Load Dataset from S3 Bucket\n",
    "spark = SparkSession.builder.appName(\"E-Commerce Pipeline\").getOrCreate()\n",
    "\n",
    "cosmetic_store_data_path = \"s3://e-commerce-pipeline-dataset/Cosmetic Store Website Data.csv\"\n",
    "reviews_data_path = \"s3://e-commerce-pipeline-dataset/nyka_top_brands_cosmetics_product_reviews.csv\"\n",
    "product_mapping_path = \"s3://e-commerce-pipeline-dataset/unique_product_id_pairings.csv\""
   ]
  },
  {
   "cell_type": "code",
   "execution_count": 0,
   "metadata": {
    "application/vnd.databricks.v1+cell": {
     "cellMetadata": {
      "byteLimit": 2048000,
      "rowLimit": 10000
     },
     "inputWidgets": {},
     "nuid": "d622a617-1377-45ae-ae57-72c858254e86",
     "showTitle": false,
     "tableResultSettingsMap": {},
     "title": ""
    }
   },
   "outputs": [],
   "source": [
    "cosmetic_df = spark.read.csv(cosmetic_store_data_path, header=True, inferSchema=True)\n",
    "reviews_df = spark.read.csv(reviews_data_path, header=True, inferSchema=True)\n",
    "mapping_df = spark.read.csv(product_mapping_path, header=True, inferSchema=True)"
   ]
  },
  {
   "cell_type": "markdown",
   "metadata": {
    "application/vnd.databricks.v1+cell": {
     "cellMetadata": {
      "byteLimit": 2048000,
      "rowLimit": 10000
     },
     "inputWidgets": {},
     "nuid": "db3d1271-965f-4243-b0e8-ed658af0ba98",
     "showTitle": false,
     "tableResultSettingsMap": {},
     "title": ""
    }
   },
   "source": [
    "## Clean Data"
   ]
  },
  {
   "cell_type": "code",
   "execution_count": 0,
   "metadata": {
    "application/vnd.databricks.v1+cell": {
     "cellMetadata": {
      "byteLimit": 2048000,
      "rowLimit": 10000
     },
     "inputWidgets": {},
     "nuid": "8302b898-30e5-412c-9172-bb378712782a",
     "showTitle": false,
     "tableResultSettingsMap": {},
     "title": ""
    }
   },
   "outputs": [],
   "source": [
    "cosmetic_df = clean_cosmetic_df(cosmetic_df)\n",
    "mapping_df = clean_mapping_df(mapping_df)\n",
    "reviews_df = clean_reviews_df(reviews_df)"
   ]
  },
  {
   "cell_type": "code",
   "execution_count": 0,
   "metadata": {
    "application/vnd.databricks.v1+cell": {
     "cellMetadata": {
      "byteLimit": 2048000,
      "rowLimit": 10000
     },
     "inputWidgets": {},
     "nuid": "4dc90146-9080-49f7-8307-82ec0aa2e01f",
     "showTitle": false,
     "tableResultSettingsMap": {},
     "title": ""
    }
   },
   "outputs": [],
   "source": [
    "cosmetic_df.show(5)\n",
    "mapping_df.show(5)\n",
    "reviews_df.show(5)"
   ]
  },
  {
   "cell_type": "markdown",
   "metadata": {
    "application/vnd.databricks.v1+cell": {
     "cellMetadata": {
      "byteLimit": 2048000,
      "rowLimit": 10000
     },
     "inputWidgets": {},
     "nuid": "1b811904-22d3-41fc-9a37-226fb18a2133",
     "showTitle": false,
     "tableResultSettingsMap": {},
     "title": ""
    }
   },
   "source": [
    "## Delta Table Paths"
   ]
  },
  {
   "cell_type": "code",
   "execution_count": 0,
   "metadata": {
    "application/vnd.databricks.v1+cell": {
     "cellMetadata": {
      "byteLimit": 2048000,
      "rowLimit": 10000
     },
     "inputWidgets": {},
     "nuid": "15801217-29c9-417d-939c-7fd22145f08c",
     "showTitle": false,
     "tableResultSettingsMap": {},
     "title": ""
    }
   },
   "outputs": [],
   "source": [
    "cosmetic_delta_path = \"/mnt/delta/cosmetic_store_data\"\n",
    "reviews_delta_path = \"/mnt/delta/product_reviews\"\n",
    "mapping_delta_path = \"/mnt/delta/product_mapping\""
   ]
  },
  {
   "cell_type": "code",
   "execution_count": 0,
   "metadata": {
    "application/vnd.databricks.v1+cell": {
     "cellMetadata": {
      "byteLimit": 2048000,
      "rowLimit": 10000
     },
     "inputWidgets": {},
     "nuid": "5eebd0d5-f0bc-4d8e-acbe-4b53442da81a",
     "showTitle": false,
     "tableResultSettingsMap": {},
     "title": ""
    }
   },
   "outputs": [],
   "source": [
    "# Save cleaned DataFrames to Delta format\n",
    "cosmetic_df.write.format(\"delta\").mode(\"overwrite\").save(cosmetic_delta_path)\n",
    "reviews_df.write.format(\"delta\").mode(\"overwrite\").option(\"overwriteSchema\", \"true\").save(reviews_delta_path)\n",
    "mapping_df.write.format(\"delta\").mode(\"overwrite\").save(mapping_delta_path)"
   ]
  },
  {
   "cell_type": "code",
   "execution_count": 0,
   "metadata": {
    "application/vnd.databricks.v1+cell": {
     "cellMetadata": {
      "byteLimit": 2048000,
      "rowLimit": 10000
     },
     "inputWidgets": {},
     "nuid": "7e87da95-0028-4e41-b3c4-0c7d4fff65e5",
     "showTitle": false,
     "tableResultSettingsMap": {},
     "title": ""
    }
   },
   "outputs": [],
   "source": [
    "# Load Delta tables\n",
    "cosmetic_df = spark.read.format(\"delta\").load(cosmetic_delta_path)\n",
    "reviews_df = spark.read.format(\"delta\").load(reviews_delta_path)\n",
    "mapping_df = spark.read.format(\"delta\").load(mapping_delta_path)"
   ]
  },
  {
   "cell_type": "markdown",
   "metadata": {
    "application/vnd.databricks.v1+cell": {
     "cellMetadata": {
      "byteLimit": 2048000,
      "rowLimit": 10000
     },
     "inputWidgets": {},
     "nuid": "5be90d08-8f7b-44e6-add6-65e62a1de337",
     "showTitle": false,
     "tableResultSettingsMap": {},
     "title": ""
    }
   },
   "source": [
    "## Feature Engineering"
   ]
  },
  {
   "cell_type": "markdown",
   "metadata": {
    "application/vnd.databricks.v1+cell": {
     "cellMetadata": {
      "byteLimit": 2048000,
      "rowLimit": 10000
     },
     "inputWidgets": {},
     "nuid": "a2f35f35-7535-4579-bcc5-1ce0325db970",
     "showTitle": false,
     "tableResultSettingsMap": {},
     "title": ""
    }
   },
   "source": [
    "### Process unstructured data (reviews)"
   ]
  },
  {
   "cell_type": "code",
   "execution_count": 0,
   "metadata": {
    "application/vnd.databricks.v1+cell": {
     "cellMetadata": {
      "byteLimit": 2048000,
      "rowLimit": 10000
     },
     "inputWidgets": {},
     "nuid": "ae0e6e67-01cb-4486-97f0-eee0148f0034",
     "showTitle": false,
     "tableResultSettingsMap": {},
     "title": ""
    }
   },
   "outputs": [],
   "source": [
    "reviews_df = process_reviews_df(reviews_df)"
   ]
  },
  {
   "cell_type": "markdown",
   "metadata": {
    "application/vnd.databricks.v1+cell": {
     "cellMetadata": {
      "byteLimit": 2048000,
      "rowLimit": 10000
     },
     "inputWidgets": {},
     "nuid": "bf3acb0c-924c-4287-8c23-10ae3ca3ff1a",
     "showTitle": false,
     "tableResultSettingsMap": {},
     "title": ""
    }
   },
   "source": [
    "### Add outcome variable (Y)"
   ]
  },
  {
   "cell_type": "code",
   "execution_count": 0,
   "metadata": {
    "application/vnd.databricks.v1+cell": {
     "cellMetadata": {
      "byteLimit": 2048000,
      "rowLimit": 10000
     },
     "inputWidgets": {},
     "nuid": "68610176-cb2f-40c8-8198-9b553199a404",
     "showTitle": false,
     "tableResultSettingsMap": {},
     "title": ""
    }
   },
   "outputs": [],
   "source": [
    "# Sometimes the scripts dont get updated here, so this should do it\n",
    "import importlib\n",
    "from scripts import feature_engineering\n",
    "\n",
    "# Reload the module\n",
    "importlib.reload(feature_engineering)\n",
    "from scripts.feature_engineering import process_reviews_df, add_customer_engagement, add_predictor_features"
   ]
  },
  {
   "cell_type": "code",
   "execution_count": 0,
   "metadata": {
    "application/vnd.databricks.v1+cell": {
     "cellMetadata": {
      "byteLimit": 2048000,
      "rowLimit": 10000
     },
     "inputWidgets": {},
     "nuid": "bb357225-5294-40fb-9e23-b58bc9894497",
     "showTitle": false,
     "tableResultSettingsMap": {},
     "title": ""
    }
   },
   "outputs": [],
   "source": [
    "cosmetic_df = add_customer_engagement(cosmetic_df)"
   ]
  },
  {
   "cell_type": "markdown",
   "metadata": {
    "application/vnd.databricks.v1+cell": {
     "cellMetadata": {
      "byteLimit": 2048000,
      "rowLimit": 10000
     },
     "inputWidgets": {},
     "nuid": "57c334c6-d980-4bf9-96c5-d78eecab702f",
     "showTitle": false,
     "tableResultSettingsMap": {},
     "title": ""
    }
   },
   "source": [
    "### Add predictor variables (X)"
   ]
  },
  {
   "cell_type": "code",
   "execution_count": 0,
   "metadata": {
    "application/vnd.databricks.v1+cell": {
     "cellMetadata": {
      "byteLimit": 2048000,
      "rowLimit": 10000
     },
     "inputWidgets": {},
     "nuid": "a0446046-200d-4d0e-8f00-5636275b94a4",
     "showTitle": false,
     "tableResultSettingsMap": {},
     "title": ""
    }
   },
   "outputs": [],
   "source": [
    "cosmetic_df = add_predictor_features(cosmetic_df)"
   ]
  },
  {
   "cell_type": "code",
   "execution_count": 0,
   "metadata": {
    "application/vnd.databricks.v1+cell": {
     "cellMetadata": {
      "byteLimit": 2048000,
      "rowLimit": 10000
     },
     "inputWidgets": {},
     "nuid": "fc3e8285-6ddc-4920-b737-f2d06ac2c95b",
     "showTitle": false,
     "tableResultSettingsMap": {},
     "title": ""
    }
   },
   "outputs": [],
   "source": [
    "reviews_df.show(5)\n",
    "cosmetic_df.show(5)"
   ]
  },
  {
   "cell_type": "markdown",
   "metadata": {
    "application/vnd.databricks.v1+cell": {
     "cellMetadata": {
      "byteLimit": 2048000,
      "rowLimit": 10000
     },
     "inputWidgets": {},
     "nuid": "d4d42f92-ab1a-44f0-a708-af2ad0d50e12",
     "showTitle": false,
     "tableResultSettingsMap": {},
     "title": ""
    }
   },
   "source": [
    "## Data Transformation"
   ]
  },
  {
   "cell_type": "code",
   "execution_count": 0,
   "metadata": {
    "application/vnd.databricks.v1+cell": {
     "cellMetadata": {
      "byteLimit": 2048000,
      "rowLimit": 10000
     },
     "inputWidgets": {},
     "nuid": "42747ab9-aa9f-402b-8c2f-006d5b05cec4",
     "showTitle": false,
     "tableResultSettingsMap": {},
     "title": ""
    }
   },
   "outputs": [],
   "source": [
    "# Sometimes the scripts dont get updated here, so this should do it\n",
    "import importlib\n",
    "from scripts import data_transformation\n",
    "\n",
    "# Reload the module\n",
    "importlib.reload(data_transformation)\n",
    "from scripts.data_transformation import transform_cosmetic_data, transform_reviews_data, transform_mapping_data"
   ]
  },
  {
   "cell_type": "code",
   "execution_count": 0,
   "metadata": {
    "application/vnd.databricks.v1+cell": {
     "cellMetadata": {
      "byteLimit": 2048000,
      "rowLimit": 10000
     },
     "inputWidgets": {},
     "nuid": "9199935d-9842-4444-b809-1697f74cbd14",
     "showTitle": false,
     "tableResultSettingsMap": {},
     "title": ""
    }
   },
   "outputs": [],
   "source": [
    "cosmetic_df = transform_cosmetic_data(cosmetic_df)\n",
    "reviews_df = transform_reviews_data(reviews_df)\n",
    "mapping_df = transform_mapping_data(mapping_df)"
   ]
  },
  {
   "cell_type": "code",
   "execution_count": 0,
   "metadata": {
    "application/vnd.databricks.v1+cell": {
     "cellMetadata": {
      "byteLimit": 2048000,
      "rowLimit": 10000
     },
     "inputWidgets": {},
     "nuid": "e6edf2b9-2007-4597-8907-d247c38f5b8b",
     "showTitle": false,
     "tableResultSettingsMap": {},
     "title": ""
    }
   },
   "outputs": [],
   "source": [
    "cosmetic_df.show(5)\n",
    "reviews_df.show(5)\n",
    "mapping_df.show(5)"
   ]
  },
  {
   "cell_type": "markdown",
   "metadata": {
    "application/vnd.databricks.v1+cell": {
     "cellMetadata": {
      "byteLimit": 2048000,
      "rowLimit": 10000
     },
     "inputWidgets": {},
     "nuid": "975b3b50-b755-43ef-8a73-b1b155384953",
     "showTitle": false,
     "tableResultSettingsMap": {},
     "title": ""
    }
   },
   "source": [
    "## Baseline Model for Product Recommendation"
   ]
  },
  {
   "cell_type": "code",
   "execution_count": 0,
   "metadata": {
    "application/vnd.databricks.v1+cell": {
     "cellMetadata": {
      "byteLimit": 2048000,
      "rowLimit": 10000
     },
     "inputWidgets": {},
     "nuid": "b53a6033-0cf3-4837-8e11-19061c29ae07",
     "showTitle": false,
     "tableResultSettingsMap": {},
     "title": ""
    }
   },
   "outputs": [],
   "source": [
    "# Sometimes the scripts dont get updated here, so this should do it\n",
    "import importlib\n",
    "from scripts import baseline_model\n",
    "\n",
    "# Reload the module\n",
    "importlib.reload(baseline_model)\n",
    "from scripts.baseline_model import recommendations, run_fp_growth"
   ]
  },
  {
   "cell_type": "code",
   "execution_count": 0,
   "metadata": {
    "application/vnd.databricks.v1+cell": {
     "cellMetadata": {
      "byteLimit": 2048000,
      "rowLimit": 10000
     },
     "inputWidgets": {},
     "nuid": "831e28c3-8273-473a-bef9-97ea6c8a9e51",
     "showTitle": false,
     "tableResultSettingsMap": {},
     "title": ""
    }
   },
   "outputs": [],
   "source": [
    "purchase_df = cosmetic_df.filter(cosmetic_df['event_type'] == 'purchase')\n",
    "purchase_df = purchase_df.withColumn(\"product_quantity\", lit(1))"
   ]
  },
  {
   "cell_type": "code",
   "execution_count": 0,
   "metadata": {
    "application/vnd.databricks.v1+cell": {
     "cellMetadata": {
      "byteLimit": 2048000,
      "rowLimit": 10000
     },
     "inputWidgets": {},
     "nuid": "0b661208-275a-4fda-ab0b-ce6dfc84cae3",
     "showTitle": false,
     "tableResultSettingsMap": {},
     "title": ""
    }
   },
   "outputs": [],
   "source": [
    "# Convert PySpark DataFrame to pandas DataFrame\n",
    "purchase_df_pandas = purchase_df.toPandas()"
   ]
  },
  {
   "cell_type": "code",
   "execution_count": 0,
   "metadata": {
    "application/vnd.databricks.v1+cell": {
     "cellMetadata": {
      "byteLimit": 2048000,
      "rowLimit": 10000
     },
     "inputWidgets": {},
     "nuid": "cd2db492-d961-4e15-9bcf-db38584b6fee",
     "showTitle": false,
     "tableResultSettingsMap": {},
     "title": ""
    }
   },
   "outputs": [],
   "source": [
    "# Generate Recommendations\n",
    "prod_recs = recommendations(\n",
    "    df=purchase_df_pandas,\n",
    "    filename=\"product_recs_cosine_similarity.csv\",\n",
    "    rows=\"user_session\",\n",
    "    cols=\"cosmeticProductId\",\n",
    "    quantity=\"product_quantity\",\n",
    "    top=11\n",
    ")\n"
   ]
  },
  {
   "cell_type": "code",
   "execution_count": 0,
   "metadata": {
    "application/vnd.databricks.v1+cell": {
     "cellMetadata": {
      "byteLimit": 2048000,
      "rowLimit": 10000
     },
     "inputWidgets": {},
     "nuid": "d14c9a3e-2892-449c-9a95-aaea20296632",
     "showTitle": false,
     "tableResultSettingsMap": {},
     "title": ""
    }
   },
   "outputs": [],
   "source": [
    "# Generate FP-Growth\n",
    "frequent_itemsets, association_rules = run_fp_growth(\n",
    "    purchase_df,\n",
    "    min_support=0.001,\n",
    "    min_confidence=0.1\n",
    ")"
   ]
  },
  {
   "cell_type": "code",
   "execution_count": 0,
   "metadata": {
    "application/vnd.databricks.v1+cell": {
     "cellMetadata": {
      "byteLimit": 2048000,
      "rowLimit": 10000
     },
     "inputWidgets": {},
     "nuid": "c17a3665-60be-4716-9d73-54a9eb85a880",
     "showTitle": false,
     "tableResultSettingsMap": {},
     "title": ""
    }
   },
   "outputs": [],
   "source": [
    "# Display results\n",
    "print(prod_recs.head())\n",
    "print(frequent_itemsets.head())\n",
    "print(association_rules.head())\n"
   ]
  },
  {
   "cell_type": "markdown",
   "metadata": {
    "application/vnd.databricks.v1+cell": {
     "cellMetadata": {
      "byteLimit": 2048000,
      "rowLimit": 10000
     },
     "inputWidgets": {},
     "nuid": "f7ed5ab7-4e71-47dd-81ff-76fa2f235458",
     "showTitle": false,
     "tableResultSettingsMap": {},
     "title": ""
    }
   },
   "source": []
  }
 ],
 "metadata": {
  "application/vnd.databricks.v1+notebook": {
   "dashboards": [],
   "environmentMetadata": {
    "base_environment": "",
    "client": "1"
   },
   "language": "python",
   "notebookMetadata": {
    "pythonIndentUnit": 4
   },
   "notebookName": "Main_Notebook",
   "widgets": {}
  },
  "language_info": {
   "name": "python"
  }
 },
 "nbformat": 4,
 "nbformat_minor": 0
}

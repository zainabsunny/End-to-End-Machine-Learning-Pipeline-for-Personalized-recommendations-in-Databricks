{
 "cells": [
  {
   "cell_type": "markdown",
   "metadata": {
    "application/vnd.databricks.v1+cell": {
     "cellMetadata": {},
     "inputWidgets": {},
     "nuid": "180064a6-5c05-4f0b-b28f-ea594b1090bc",
     "showTitle": false,
     "tableResultSettingsMap": {},
     "title": ""
    }
   },
   "source": [
    "# Royal Cybers: End-to-End Machine Learning Pipeline for Personalized recommendations in Databricks "
   ]
  },
  {
   "cell_type": "markdown",
   "metadata": {
    "application/vnd.databricks.v1+cell": {
     "cellMetadata": {},
     "inputWidgets": {},
     "nuid": "fde9865a-173c-4a20-91c9-543e83fd5427",
     "showTitle": false,
     "tableResultSettingsMap": {},
     "title": ""
    }
   },
   "source": [
    "## THIS IS THE MAIN NOTEBOOK (not including EDA)"
   ]
  },
  {
   "cell_type": "code",
   "execution_count": 0,
   "metadata": {
    "application/vnd.databricks.v1+cell": {
     "cellMetadata": {
      "byteLimit": 2048000,
      "rowLimit": 10000
     },
     "inputWidgets": {},
     "nuid": "a2b5bbdc-bd78-4d24-9de3-d92cfcba4c1a",
     "showTitle": false,
     "tableResultSettingsMap": {},
     "title": ""
    }
   },
   "outputs": [],
   "source": [
    "\n",
    "import importlib\n",
    "from pyspark.sql import SparkSession\n",
    "from pyspark.sql.functions import lit\n",
    "from scripts.data_cleaning import clean_cosmetic_df, clean_reviews_df\n",
    "from scripts.feature_engineering import add_customer_engagement, add_predictor_features, process_reviews_df\n",
    "from scripts.data_transformation import transform_cosmetic_data, transform_reviews_data\n",
    "from pyspark.sql.functions import col\n",
    "from scripts.EDA import perform_eda\n",
    "!pip install mlxtend\n",
    "!pip install rapidfuzz\n",
    "from scripts.baseline_model import generate_cosine_sim_recs, run_fp_growth, run_als_recommender\n",
    "from delta.tables import DeltaTable\n",
    "from pyspark.sql.functions import size, substring\n",
    "from pyspark.sql.functions import lit\n",
    "from scripts.schema_definitions import (\n",
    "    expected_cosmetic_schema,\n",
    "    expected_reviews_schema,\n",
    "    expected_mapping_schema\n",
    ")\n",
    "from scripts.quality_check.data_quality_check import (\n",
    "    check_schema,\n",
    "    check_null_values,\n",
    "    check_duplicate_rows,\n",
    "    check_data_types,\n",
    "    check_row_count\n",
    ")\n",
    "from scripts.quality_check.baseline_model_quality_check import (\n",
    "    check_cosine_sim_recs_output,\n",
    "    check_fp_growth_output,\n",
    "    check_als_output\n",
    ")\n"
   ]
  },
  {
   "cell_type": "markdown",
   "metadata": {
    "application/vnd.databricks.v1+cell": {
     "cellMetadata": {},
     "inputWidgets": {},
     "nuid": "a00ee39e-6e56-4424-a2fa-ea7ad661acf5",
     "showTitle": false,
     "tableResultSettingsMap": {},
     "title": ""
    }
   },
   "source": [
    "## Load Dataset"
   ]
  },
  {
   "cell_type": "code",
   "execution_count": 0,
   "metadata": {
    "application/vnd.databricks.v1+cell": {
     "cellMetadata": {
      "byteLimit": 2048000,
      "rowLimit": 10000
     },
     "inputWidgets": {},
     "nuid": "a5eb5f13-0a85-4b43-a7a7-181b605cfbf1",
     "showTitle": false,
     "tableResultSettingsMap": {},
     "title": ""
    }
   },
   "outputs": [],
   "source": [
    "# Load Dataset from S3 Bucket\n",
    "spark = SparkSession.builder.appName(\"E-Commerce Pipeline\").getOrCreate()\n",
    "\n",
    "cosmetic_store_data_path = \"s3://e-commerce-pipeline-dataset/Cosmetic Store Website Data.csv\"\n",
    "reviews_data_path = \"s3://e-commerce-pipeline-dataset/nyka_top_brands_cosmetics_product_reviews.csv\"\n",
    "product_mapping_path = \"s3://e-commerce-pipeline-dataset/unique_product_id_pairings.csv\""
   ]
  },
  {
   "cell_type": "code",
   "execution_count": 0,
   "metadata": {
    "application/vnd.databricks.v1+cell": {
     "cellMetadata": {
      "byteLimit": 2048000,
      "rowLimit": 10000
     },
     "inputWidgets": {},
     "nuid": "d622a617-1377-45ae-ae57-72c858254e86",
     "showTitle": false,
     "tableResultSettingsMap": {},
     "title": ""
    }
   },
   "outputs": [],
   "source": [
    "cosmetic_df = spark.read.csv(cosmetic_store_data_path, header=True, inferSchema=True)\n",
    "reviews_df = spark.read.csv(reviews_data_path, header=True, inferSchema=True)\n",
    "mapping_df = spark.read.csv(product_mapping_path, header=True, inferSchema=True)"
   ]
  },
  {
   "cell_type": "markdown",
   "metadata": {
    "application/vnd.databricks.v1+cell": {
     "cellMetadata": {},
     "inputWidgets": {},
     "nuid": "71f879fa-00b3-43d2-a113-1d6895119cc2",
     "showTitle": false,
     "tableResultSettingsMap": {},
     "title": ""
    }
   },
   "source": [
    "## Data Check"
   ]
  },
  {
   "cell_type": "code",
   "execution_count": 0,
   "metadata": {
    "application/vnd.databricks.v1+cell": {
     "cellMetadata": {
      "byteLimit": 2048000,
      "rowLimit": 10000
     },
     "inputWidgets": {},
     "nuid": "33f1af45-f8e5-496d-a07f-526d28267500",
     "showTitle": false,
     "tableResultSettingsMap": {},
     "title": ""
    }
   },
   "outputs": [],
   "source": [
    "# ---------------------------------------------\n",
    "# Cosmetic DataFrame Checks\n",
    "# ---------------------------------------------\n",
    "print(\"=== Checking cosmetic_df ===\")\n",
    "schema_ok = check_schema(cosmetic_df, expected_cosmetic_schema)\n",
    "if schema_ok:\n",
    "    check_data_types(cosmetic_df, expected_cosmetic_schema)\n",
    "    check_null_values(cosmetic_df, threshold=0.5)\n",
    "    check_duplicate_rows(cosmetic_df, subset_columns=[\"event_time\", \"product_id\", \"user_id\"])\n",
    "    check_row_count(cosmetic_df, min_count=1)\n",
    "\n",
    "# ---------------------------------------------\n",
    "# Reviews DataFrame Checks\n",
    "# ---------------------------------------------\n",
    "print(\"\\n=== Checking reviews_df ===\")\n",
    "schema_ok = check_schema(reviews_df, expected_reviews_schema)\n",
    "if schema_ok:\n",
    "    check_data_types(reviews_df, expected_reviews_schema)\n",
    "    check_null_values(reviews_df, threshold=0.5)\n",
    "    check_duplicate_rows(reviews_df, subset_columns=[\"review_id\"])\n",
    "    check_row_count(reviews_df, min_count=1)\n",
    "\n",
    "# ---------------------------------------------\n",
    "# Mapping DataFrame Checks\n",
    "# ---------------------------------------------\n",
    "print(\"\\n=== Checking mapping_df ===\")\n",
    "schema_ok = check_schema(mapping_df, expected_mapping_schema)\n",
    "if schema_ok:\n",
    "    check_data_types(mapping_df, expected_mapping_schema)\n",
    "    check_null_values(mapping_df, threshold=0.5)\n",
    "    check_duplicate_rows(mapping_df, subset_columns=[\"product_id_events\", \"product_id_reviews\"])\n",
    "    check_row_count(mapping_df, min_count=1)"
   ]
  },
  {
   "cell_type": "markdown",
   "metadata": {
    "application/vnd.databricks.v1+cell": {
     "cellMetadata": {},
     "inputWidgets": {},
     "nuid": "db3d1271-965f-4243-b0e8-ed658af0ba98",
     "showTitle": false,
     "tableResultSettingsMap": {},
     "title": ""
    }
   },
   "source": [
    "## Clean Data"
   ]
  },
  {
   "cell_type": "code",
   "execution_count": 0,
   "metadata": {
    "application/vnd.databricks.v1+cell": {
     "cellMetadata": {
      "byteLimit": 2048000,
      "rowLimit": 10000
     },
     "inputWidgets": {},
     "nuid": "558f2191-6095-45c5-af20-96554892bd92",
     "showTitle": false,
     "tableResultSettingsMap": {},
     "title": ""
    }
   },
   "outputs": [],
   "source": [
    "# Sometimes the scripts dont get updated here, so this should do it\n",
    "import importlib\n",
    "from scripts import data_cleaning\n",
    "\n",
    "# Reload the module\n",
    "importlib.reload(data_cleaning)\n",
    "from scripts.data_cleaning import clean_cosmetic_df, clean_reviews_df"
   ]
  },
  {
   "cell_type": "code",
   "execution_count": 0,
   "metadata": {
    "application/vnd.databricks.v1+cell": {
     "cellMetadata": {
      "byteLimit": 2048000,
      "rowLimit": 10000
     },
     "inputWidgets": {},
     "nuid": "8302b898-30e5-412c-9172-bb378712782a",
     "showTitle": false,
     "tableResultSettingsMap": {},
     "title": ""
    }
   },
   "outputs": [],
   "source": [
    "cosmetic_df = clean_cosmetic_df(cosmetic_df)\n",
    "reviews_df = clean_reviews_df(reviews_df)"
   ]
  },
  {
   "cell_type": "code",
   "execution_count": 0,
   "metadata": {
    "application/vnd.databricks.v1+cell": {
     "cellMetadata": {
      "byteLimit": 2048000,
      "rowLimit": 10000
     },
     "inputWidgets": {},
     "nuid": "4dc90146-9080-49f7-8307-82ec0aa2e01f",
     "showTitle": false,
     "tableResultSettingsMap": {},
     "title": ""
    }
   },
   "outputs": [],
   "source": [
    "cosmetic_df.show(5)\n",
    "reviews_df.show(5)"
   ]
  },
  {
   "cell_type": "markdown",
   "metadata": {
    "application/vnd.databricks.v1+cell": {
     "cellMetadata": {},
     "inputWidgets": {},
     "nuid": "8e86357c-ec32-4f42-ab09-24d3e119b0a8",
     "showTitle": false,
     "tableResultSettingsMap": {},
     "title": ""
    }
   },
   "source": [
    "## Product Matching"
   ]
  },
  {
   "cell_type": "code",
   "execution_count": 0,
   "metadata": {
    "application/vnd.databricks.v1+cell": {
     "cellMetadata": {
      "byteLimit": 2048000,
      "rowLimit": 10000
     },
     "inputWidgets": {},
     "nuid": "c2295bc0-303a-4def-a565-1c6a9e22df43",
     "showTitle": false,
     "tableResultSettingsMap": {},
     "title": ""
    }
   },
   "outputs": [],
   "source": [
    "# Rename columns for consistency\n",
    "reviews_df = reviews_df.withColumnRenamed(\"product_id\", \"review_product_id\")\n",
    "cosmetic_df = cosmetic_df.withColumnRenamed(\"product_id\", \"cosmetic_product_id\")\n",
    "mapping_df = mapping_df.withColumnRenamed(\"product_id_reviews\", \"review_product_id\")\n",
    "mapping_df = mapping_df.withColumnRenamed(\"product_id_events\", \"cosmetic_product_id\")"
   ]
  },
  {
   "cell_type": "code",
   "execution_count": 0,
   "metadata": {
    "application/vnd.databricks.v1+cell": {
     "cellMetadata": {
      "byteLimit": 2048000,
      "rowLimit": 10000
     },
     "inputWidgets": {},
     "nuid": "caf38274-4383-477d-bec5-5ba7dec050c6",
     "showTitle": false,
     "tableResultSettingsMap": {},
     "title": ""
    }
   },
   "outputs": [],
   "source": [
    "# reviews_df = reviews_df.select(\"review_product_id\", \"review_title\", \"review_text\")\n",
    "# mapping_df = mapping_df.select(\"review_product_id\", \"cosmetic_product_id\")\n",
    "# cosmetic_df = cosmetic_df.select(\"cosmetic_product_id\", \"event_type\")"
   ]
  },
  {
   "cell_type": "code",
   "execution_count": 0,
   "metadata": {
    "application/vnd.databricks.v1+cell": {
     "cellMetadata": {
      "byteLimit": 2048000,
      "rowLimit": 10000
     },
     "inputWidgets": {},
     "nuid": "aac38300-99e0-4009-975e-0864003764b5",
     "showTitle": false,
     "tableResultSettingsMap": {},
     "title": ""
    }
   },
   "outputs": [],
   "source": [
    "reviews_mapped_df = reviews_df.join(mapping_df, [\"review_product_id\"], \"inner\")\n",
    "final_mapped_df = reviews_mapped_df.join(cosmetic_df, [\"cosmetic_product_id\"], \"inner\")"
   ]
  },
  {
   "cell_type": "code",
   "execution_count": 0,
   "metadata": {
    "application/vnd.databricks.v1+cell": {
     "cellMetadata": {
      "byteLimit": 2048000,
      "rowLimit": 10000
     },
     "inputWidgets": {},
     "nuid": "3705522b-dc47-4420-ad3d-a5994dc92b5c",
     "showTitle": false,
     "tableResultSettingsMap": {},
     "title": ""
    }
   },
   "outputs": [],
   "source": [
    "final_mapped_df = final_mapped_df.dropDuplicates([\"review_product_id\", \"cosmetic_product_id\"])"
   ]
  },
  {
   "cell_type": "code",
   "execution_count": 0,
   "metadata": {
    "application/vnd.databricks.v1+cell": {
     "cellMetadata": {
      "byteLimit": 2048000,
      "rowLimit": 10000
     },
     "inputWidgets": {},
     "nuid": "cf71cf27-dbc9-419c-a1fd-a2326c5da3cf",
     "showTitle": false,
     "tableResultSettingsMap": {},
     "title": ""
    }
   },
   "outputs": [],
   "source": [
    "# Check if the join worked\n",
    "print(f\"✅ Total Mapped Reviews: {reviews_mapped_df.count()}\")\n",
    "print(f\"✅ Total Mapped Final Products: {final_mapped_df.count()}\")\n",
    "final_mapped_df.show(5, truncate=False)"
   ]
  },
  {
   "cell_type": "markdown",
   "metadata": {
    "application/vnd.databricks.v1+cell": {
     "cellMetadata": {},
     "inputWidgets": {},
     "nuid": "1b811904-22d3-41fc-9a37-226fb18a2133",
     "showTitle": false,
     "tableResultSettingsMap": {},
     "title": ""
    }
   },
   "source": [
    "## Unity Catalog Paths"
   ]
  },
  {
   "cell_type": "code",
   "execution_count": 0,
   "metadata": {
    "application/vnd.databricks.v1+cell": {
     "cellMetadata": {
      "byteLimit": 2048000,
      "implicitDf": true,
      "rowLimit": 10000
     },
     "inputWidgets": {},
     "nuid": "bac0dd9b-dbc4-456b-9b1d-5e82d9e1c9fb",
     "showTitle": false,
     "tableResultSettingsMap": {},
     "title": ""
    }
   },
   "outputs": [],
   "source": [
    "%sql\n",
    "-- CREATE CATALOG ecommerces_catalog;\n",
    "-- CREATE SCHEMA ecommerces_catalog.recommendation_schema;"
   ]
  },
  {
   "cell_type": "code",
   "execution_count": 0,
   "metadata": {
    "application/vnd.databricks.v1+cell": {
     "cellMetadata": {
      "byteLimit": 2048000,
      "rowLimit": 10000
     },
     "inputWidgets": {},
     "nuid": "cce252ff-5e7d-44c7-9e8f-c0cc3ac906ae",
     "showTitle": false,
     "tableResultSettingsMap": {},
     "title": ""
    }
   },
   "outputs": [],
   "source": [
    "# Unity Catalog table names\n",
    "cosmetic_store_table = \"ecommerces_catalog.recommendation_schema.cosmetic_store_data\"\n",
    "reviews_table = \"ecommerces_catalog.recommendation_schema.product_reviews\"\n",
    "mapping_table = \"ecommerces_catalog.recommendation_schema.product_mapping\""
   ]
  },
  {
   "cell_type": "code",
   "execution_count": 0,
   "metadata": {
    "application/vnd.databricks.v1+cell": {
     "cellMetadata": {
      "byteLimit": 2048000,
      "rowLimit": 10000
     },
     "inputWidgets": {},
     "nuid": "4309f7d0-45af-4bf8-93b7-8d2fd0802184",
     "showTitle": false,
     "tableResultSettingsMap": {},
     "title": ""
    }
   },
   "outputs": [],
   "source": [
    "# Load Data into Unity Catalog\n",
    "cosmetic_df.write.format(\"delta\").mode(\"overwrite\").saveAsTable(cosmetic_store_table)\n",
    "reviews_df.write.format(\"delta\").mode(\"overwrite\").saveAsTable(reviews_table)\n",
    "mapping_df.write.format(\"delta\").mode(\"overwrite\").saveAsTable(mapping_table)"
   ]
  },
  {
   "cell_type": "code",
   "execution_count": 0,
   "metadata": {
    "application/vnd.databricks.v1+cell": {
     "cellMetadata": {
      "byteLimit": 2048000,
      "rowLimit": 10000
     },
     "inputWidgets": {},
     "nuid": "4d0f0497-7dac-4c59-a890-956e5f286332",
     "showTitle": false,
     "tableResultSettingsMap": {},
     "title": ""
    }
   },
   "outputs": [],
   "source": [
    "# Load data from Unity Catalog\n",
    "cosmetic_df = spark.read.table(cosmetic_store_table)\n",
    "reviews_df = spark.read.table(reviews_table)\n",
    "mapping_df = spark.read.table(mapping_table)"
   ]
  },
  {
   "cell_type": "markdown",
   "metadata": {
    "application/vnd.databricks.v1+cell": {
     "cellMetadata": {},
     "inputWidgets": {},
     "nuid": "d4d42f92-ab1a-44f0-a708-af2ad0d50e12",
     "showTitle": false,
     "tableResultSettingsMap": {},
     "title": ""
    }
   },
   "source": [
    "## Data Transformation"
   ]
  },
  {
   "cell_type": "code",
   "execution_count": 0,
   "metadata": {
    "application/vnd.databricks.v1+cell": {
     "cellMetadata": {
      "byteLimit": 2048000,
      "rowLimit": 10000
     },
     "inputWidgets": {},
     "nuid": "42747ab9-aa9f-402b-8c2f-006d5b05cec4",
     "showTitle": false,
     "tableResultSettingsMap": {},
     "title": ""
    }
   },
   "outputs": [],
   "source": [
    "# Sometimes the scripts dont get updated here, so this should do it\n",
    "import importlib\n",
    "from scripts import data_transformation\n",
    "\n",
    "# Reload the module\n",
    "importlib.reload(data_transformation)\n",
    "from scripts.data_transformation import transform_cosmetic_data, transform_reviews_data"
   ]
  },
  {
   "cell_type": "code",
   "execution_count": 0,
   "metadata": {
    "application/vnd.databricks.v1+cell": {
     "cellMetadata": {
      "byteLimit": 2048000,
      "rowLimit": 10000
     },
     "inputWidgets": {},
     "nuid": "9199935d-9842-4444-b809-1697f74cbd14",
     "showTitle": false,
     "tableResultSettingsMap": {},
     "title": ""
    }
   },
   "outputs": [],
   "source": [
    "transformed_cosmetic_df = transform_cosmetic_data(cosmetic_df)"
   ]
  },
  {
   "cell_type": "code",
   "execution_count": 0,
   "metadata": {
    "application/vnd.databricks.v1+cell": {
     "cellMetadata": {
      "byteLimit": 2048000,
      "rowLimit": 10000
     },
     "inputWidgets": {},
     "nuid": "92d65317-624e-4315-80cf-5b643f5dc91a",
     "showTitle": false,
     "tableResultSettingsMap": {},
     "title": ""
    }
   },
   "outputs": [],
   "source": [
    "transformed_cosmetic_df.write.format(\"delta\").mode(\"overwrite\").option(\"overwriteSchema\", \"true\").saveAsTable(cosmetic_store_table)"
   ]
  },
  {
   "cell_type": "code",
   "execution_count": 0,
   "metadata": {
    "application/vnd.databricks.v1+cell": {
     "cellMetadata": {
      "byteLimit": 2048000,
      "rowLimit": 10000
     },
     "inputWidgets": {},
     "nuid": "b0a94e9f-f879-4cdf-903f-01e246b4380a",
     "showTitle": false,
     "tableResultSettingsMap": {},
     "title": ""
    }
   },
   "outputs": [],
   "source": [
    "transformed_cosmetic_df.show(5)\n"
   ]
  },
  {
   "cell_type": "markdown",
   "metadata": {
    "application/vnd.databricks.v1+cell": {
     "cellMetadata": {},
     "inputWidgets": {},
     "nuid": "5be90d08-8f7b-44e6-add6-65e62a1de337",
     "showTitle": false,
     "tableResultSettingsMap": {},
     "title": ""
    }
   },
   "source": [
    "## Feature Engineering"
   ]
  },
  {
   "cell_type": "code",
   "execution_count": 0,
   "metadata": {
    "application/vnd.databricks.v1+cell": {
     "cellMetadata": {
      "byteLimit": 2048000,
      "rowLimit": 10000
     },
     "inputWidgets": {},
     "nuid": "59244d15-c7bc-49ea-ad4b-19acee8b3cf1",
     "showTitle": false,
     "tableResultSettingsMap": {},
     "title": ""
    }
   },
   "outputs": [],
   "source": [
    "# Sometimes the scripts dont get updated here, so this should do it\n",
    "import importlib\n",
    "from scripts import feature_engineering\n",
    "\n",
    "# Reload the module\n",
    "importlib.reload(feature_engineering)\n",
    "from scripts.feature_engineering import process_reviews_df, add_customer_engagement, add_predictor_features"
   ]
  },
  {
   "cell_type": "markdown",
   "metadata": {
    "application/vnd.databricks.v1+cell": {
     "cellMetadata": {},
     "inputWidgets": {},
     "nuid": "a2f35f35-7535-4579-bcc5-1ce0325db970",
     "showTitle": false,
     "tableResultSettingsMap": {},
     "title": ""
    }
   },
   "source": [
    "### Process unstructured data (reviews)"
   ]
  },
  {
   "cell_type": "code",
   "execution_count": 0,
   "metadata": {
    "application/vnd.databricks.v1+cell": {
     "cellMetadata": {
      "byteLimit": 2048000,
      "rowLimit": 10000
     },
     "inputWidgets": {},
     "nuid": "ae0e6e67-01cb-4486-97f0-eee0148f0034",
     "showTitle": false,
     "tableResultSettingsMap": {},
     "title": ""
    }
   },
   "outputs": [],
   "source": [
    "reviews_df = process_reviews_df(reviews_df)"
   ]
  },
  {
   "cell_type": "markdown",
   "metadata": {
    "application/vnd.databricks.v1+cell": {
     "cellMetadata": {},
     "inputWidgets": {},
     "nuid": "bf3acb0c-924c-4287-8c23-10ae3ca3ff1a",
     "showTitle": false,
     "tableResultSettingsMap": {},
     "title": ""
    }
   },
   "source": [
    "### Add outcome variable (Y)"
   ]
  },
  {
   "cell_type": "code",
   "execution_count": 0,
   "metadata": {
    "application/vnd.databricks.v1+cell": {
     "cellMetadata": {
      "byteLimit": 2048000,
      "rowLimit": 10000
     },
     "inputWidgets": {},
     "nuid": "bb357225-5294-40fb-9e23-b58bc9894497",
     "showTitle": false,
     "tableResultSettingsMap": {},
     "title": ""
    }
   },
   "outputs": [],
   "source": [
    "cosmetic_df = add_customer_engagement(cosmetic_df)"
   ]
  },
  {
   "cell_type": "markdown",
   "metadata": {
    "application/vnd.databricks.v1+cell": {
     "cellMetadata": {},
     "inputWidgets": {},
     "nuid": "57c334c6-d980-4bf9-96c5-d78eecab702f",
     "showTitle": false,
     "tableResultSettingsMap": {},
     "title": ""
    }
   },
   "source": [
    "### Add predictor variables (X)"
   ]
  },
  {
   "cell_type": "code",
   "execution_count": 0,
   "metadata": {
    "application/vnd.databricks.v1+cell": {
     "cellMetadata": {
      "byteLimit": 2048000,
      "rowLimit": 10000
     },
     "inputWidgets": {},
     "nuid": "a0446046-200d-4d0e-8f00-5636275b94a4",
     "showTitle": false,
     "tableResultSettingsMap": {},
     "title": ""
    }
   },
   "outputs": [],
   "source": [
    "cosmetic_df = add_predictor_features(cosmetic_df)"
   ]
  },
  {
   "cell_type": "markdown",
   "metadata": {
    "application/vnd.databricks.v1+cell": {
     "cellMetadata": {},
     "inputWidgets": {},
     "nuid": "975b3b50-b755-43ef-8a73-b1b155384953",
     "showTitle": false,
     "tableResultSettingsMap": {},
     "title": ""
    }
   },
   "source": [
    "## Baseline Model for Product Recommendation"
   ]
  },
  {
   "cell_type": "code",
   "execution_count": 0,
   "metadata": {
    "application/vnd.databricks.v1+cell": {
     "cellMetadata": {
      "byteLimit": 2048000,
      "rowLimit": 10000
     },
     "inputWidgets": {},
     "nuid": "b53a6033-0cf3-4837-8e11-19061c29ae07",
     "showTitle": false,
     "tableResultSettingsMap": {},
     "title": ""
    }
   },
   "outputs": [],
   "source": [
    "# Sometimes the scripts dont get updated here, so this should do it\n",
    "import importlib\n",
    "from scripts import baseline_model\n",
    "\n",
    "# Reload the module\n",
    "importlib.reload(baseline_model)\n",
    "from scripts.baseline_model import generate_cosine_sim_recs, run_fp_growth, run_als_recommender"
   ]
  },
  {
   "cell_type": "code",
   "execution_count": 0,
   "metadata": {
    "application/vnd.databricks.v1+cell": {
     "cellMetadata": {
      "byteLimit": 2048000,
      "rowLimit": 10000
     },
     "inputWidgets": {},
     "nuid": "831e28c3-8273-473a-bef9-97ea6c8a9e51",
     "showTitle": false,
     "tableResultSettingsMap": {},
     "title": ""
    }
   },
   "outputs": [],
   "source": [
    "purchase_df = transformed_cosmetic_df.filter(transformed_cosmetic_df['event_type'] == 'purchase')\n",
    "purchase_df = purchase_df.withColumn(\"product_quantity\", lit(1))"
   ]
  },
  {
   "cell_type": "code",
   "execution_count": 0,
   "metadata": {
    "application/vnd.databricks.v1+cell": {
     "cellMetadata": {
      "byteLimit": 2048000,
      "rowLimit": 10000
     },
     "inputWidgets": {},
     "nuid": "0b661208-275a-4fda-ab0b-ce6dfc84cae3",
     "showTitle": false,
     "tableResultSettingsMap": {},
     "title": ""
    }
   },
   "outputs": [],
   "source": [
    "# Convert PySpark DataFrame to pandas DataFrame\n",
    "purchase_df_pandas = purchase_df.toPandas()"
   ]
  },
  {
   "cell_type": "code",
   "execution_count": 0,
   "metadata": {
    "application/vnd.databricks.v1+cell": {
     "cellMetadata": {
      "byteLimit": 2048000,
      "rowLimit": 10000
     },
     "inputWidgets": {},
     "nuid": "cd2db492-d961-4e15-9bcf-db38584b6fee",
     "showTitle": false,
     "tableResultSettingsMap": {},
     "title": ""
    }
   },
   "outputs": [],
   "source": [
    "# Generate Cosine Similarity Recommendations\n",
    "prod_recs = generate_cosine_sim_recs(\n",
    "    df=purchase_df_pandas,\n",
    "    filename=\"product_recs_cosine_similarity.csv\",\n",
    "    rows=\"user_session\",\n",
    "    cols=\"cosmetic_product_id\",\n",
    "    quantity=\"product_quantity\",\n",
    "    top=11\n",
    ")\n"
   ]
  },
  {
   "cell_type": "code",
   "execution_count": 0,
   "metadata": {
    "application/vnd.databricks.v1+cell": {
     "cellMetadata": {
      "byteLimit": 2048000,
      "rowLimit": 10000
     },
     "inputWidgets": {},
     "nuid": "e93125a1-ccf5-49aa-a3eb-197f59b1b321",
     "showTitle": false,
     "tableResultSettingsMap": {},
     "title": ""
    }
   },
   "outputs": [],
   "source": [
    "# Quality Check\n",
    "check_cosine_sim_recs_output(prod_recs)"
   ]
  },
  {
   "cell_type": "code",
   "execution_count": 0,
   "metadata": {
    "application/vnd.databricks.v1+cell": {
     "cellMetadata": {
      "byteLimit": 2048000,
      "rowLimit": 10000
     },
     "inputWidgets": {},
     "nuid": "eedc3ca1-778d-404e-861c-d9c5b5b0688e",
     "showTitle": false,
     "tableResultSettingsMap": {},
     "title": ""
    }
   },
   "outputs": [],
   "source": [
    "# Save Recommendations to Unity Catalog\n",
    "prod_recs_spark = spark.createDataFrame(prod_recs)\n",
    "prod_recs_spark = prod_recs_spark.select(\n",
    "    *[col(c).alias(c.replace(\" \", \"_\").replace(\".\", \"_\")) for c in prod_recs_spark.columns]\n",
    ")\n",
    "\n",
    "prod_recs_spark.write.format(\"delta\").mode(\"overwrite\").saveAsTable(\"ecommerces_catalog.recommendation_schema.product_recommendations\")"
   ]
  },
  {
   "cell_type": "code",
   "execution_count": 0,
   "metadata": {
    "application/vnd.databricks.v1+cell": {
     "cellMetadata": {
      "byteLimit": 2048000,
      "rowLimit": 10000
     },
     "inputWidgets": {},
     "nuid": "d14c9a3e-2892-449c-9a95-aaea20296632",
     "showTitle": false,
     "tableResultSettingsMap": {},
     "title": ""
    }
   },
   "outputs": [],
   "source": [
    "# Generate FP-Growth\n",
    "frequent_itemsets, association_rules = run_fp_growth(\n",
    "    purchase_df,\n",
    "    min_support=0.001,\n",
    "    min_confidence=0.1\n",
    ")"
   ]
  },
  {
   "cell_type": "code",
   "execution_count": 0,
   "metadata": {
    "application/vnd.databricks.v1+cell": {
     "cellMetadata": {
      "byteLimit": 2048000,
      "rowLimit": 10000
     },
     "inputWidgets": {},
     "nuid": "529fbe79-6da6-4c79-8521-11c6636a28b4",
     "showTitle": false,
     "tableResultSettingsMap": {},
     "title": ""
    }
   },
   "outputs": [],
   "source": [
    "# Quality Check\n",
    "check_fp_growth_output(frequent_itemsets, association_rules)"
   ]
  },
  {
   "cell_type": "code",
   "execution_count": 0,
   "metadata": {
    "application/vnd.databricks.v1+cell": {
     "cellMetadata": {
      "byteLimit": 2048000,
      "rowLimit": 10000
     },
     "inputWidgets": {},
     "nuid": "3bde271a-730b-44ea-b98b-e594907e885d",
     "showTitle": false,
     "tableResultSettingsMap": {},
     "title": ""
    }
   },
   "outputs": [],
   "source": [
    "# Save Frequent Itemsets to Unity Catalog\n",
    "frequent_itemsets_spark = spark.createDataFrame(frequent_itemsets)\n",
    "frequent_itemsets_spark.write.format(\"delta\").mode(\"overwrite\").saveAsTable(\"ecommerces_catalog.recommendation_schema.frequent_itemsets\")\n",
    "\n",
    "# Save Association Rules to Unity Catalog\n",
    "association_rules_spark = spark.createDataFrame(association_rules)\n",
    "association_rules_spark.write.format(\"delta\").mode(\"overwrite\").saveAsTable(\"ecommerces_catalog.recommendation_schema.association_rules\")"
   ]
  },
  {
   "cell_type": "code",
   "execution_count": 0,
   "metadata": {
    "application/vnd.databricks.v1+cell": {
     "cellMetadata": {
      "byteLimit": 2048000,
      "rowLimit": 10000
     },
     "inputWidgets": {},
     "nuid": "6873cc9d-dbea-4c48-be04-b1473e4521ba",
     "showTitle": false,
     "tableResultSettingsMap": {},
     "title": ""
    }
   },
   "outputs": [],
   "source": [
    "# Gnerate ALS Recommendations\n",
    "als_model, user_recs, item_recs = run_als_recommender(purchase_df)"
   ]
  },
  {
   "cell_type": "code",
   "execution_count": 0,
   "metadata": {
    "application/vnd.databricks.v1+cell": {
     "cellMetadata": {
      "byteLimit": 2048000,
      "rowLimit": 10000
     },
     "inputWidgets": {},
     "nuid": "bb6ed0e4-73d8-493b-8153-7614a37f2227",
     "showTitle": false,
     "tableResultSettingsMap": {},
     "title": ""
    }
   },
   "outputs": [],
   "source": [
    "# Quality Check\n",
    "check_als_output(als_model, user_recs, item_recs)"
   ]
  },
  {
   "cell_type": "code",
   "execution_count": 0,
   "metadata": {
    "application/vnd.databricks.v1+cell": {
     "cellMetadata": {
      "byteLimit": 2048000,
      "rowLimit": 10000
     },
     "inputWidgets": {},
     "nuid": "d25d9839-728c-4f21-90cc-d7105c07cfd4",
     "showTitle": false,
     "tableResultSettingsMap": {},
     "title": ""
    }
   },
   "outputs": [],
   "source": [
    "# Save User Recommendations to Unity Catalog\n",
    "user_rec_spark = spark.createDataFrame(user_recs)\n",
    "user_rec_spark.write.format(\"delta\").mode(\"overwrite\").saveAsTable(\"ecommerces_catalog.recommendation_schema.als_user_recs\")\n",
    "\n",
    "# Save Item Recommendations to Unity Catalog\n",
    "item_recs_spark = spark.createDataFrame(item_recs)\n",
    "item_recs_spark.write.format(\"delta\").mode(\"overwrite\").saveAsTable(\"ecommerces_catalog.recommendation_schema.als_item_recs\")"
   ]
  },
  {
   "cell_type": "code",
   "execution_count": 0,
   "metadata": {
    "application/vnd.databricks.v1+cell": {
     "cellMetadata": {
      "byteLimit": 2048000,
      "rowLimit": 10000
     },
     "inputWidgets": {},
     "nuid": "c17a3665-60be-4716-9d73-54a9eb85a880",
     "showTitle": false,
     "tableResultSettingsMap": {},
     "title": ""
    }
   },
   "outputs": [],
   "source": [
    "# Display results\n",
    "print(prod_recs.head())\n",
    "print(frequent_itemsets.head())\n",
    "print(association_rules.head())\n",
    "print(user_recs.head())\n",
    "print(item_recs.head())"
   ]
  },
  {
   "cell_type": "markdown",
   "metadata": {
    "application/vnd.databricks.v1+cell": {
     "cellMetadata": {},
     "inputWidgets": {},
     "nuid": "8d9e497c-ac46-4db6-85a9-ee2c009799a3",
     "showTitle": false,
     "tableResultSettingsMap": {},
     "title": ""
    }
   },
   "source": [
    "## Baseline Model Evaluation"
   ]
  },
  {
   "cell_type": "code",
   "execution_count": 0,
   "metadata": {
    "application/vnd.databricks.v1+cell": {
     "cellMetadata": {
      "byteLimit": 2048000,
      "rowLimit": 10000
     },
     "inputWidgets": {},
     "nuid": "54819d58-a747-4dfb-9a2a-b6dbbe3e899d",
     "showTitle": false,
     "tableResultSettingsMap": {},
     "title": ""
    }
   },
   "outputs": [],
   "source": [
    "# Sometimes the scripts dont get updated here, so this should do it\n",
    "import importlib\n",
    "from scripts import baseline_evaluation\n",
    "\n",
    "# Reload the module\n",
    "importlib.reload(baseline_evaluation)\n",
    "from scripts.baseline_evaluation import evaluate_cosine_model, log_baseline_metrics, calculate_precision_recall_at_k, calculate_precision_recall_frequent_itemsets, evaluate_als_with_mapping"
   ]
  },
  {
   "cell_type": "code",
   "execution_count": 0,
   "metadata": {
    "application/vnd.databricks.v1+cell": {
     "cellMetadata": {
      "byteLimit": 2048000,
      "rowLimit": 10000
     },
     "inputWidgets": {},
     "nuid": "55de9472-c840-4c04-b9a5-458f84020db4",
     "showTitle": false,
     "tableResultSettingsMap": {},
     "title": ""
    }
   },
   "outputs": [],
   "source": [
    "# Evaluate Cosine Similarity Recommendations\n",
    "precision_cosine, recall_cosine = evaluate_cosine_model(\n",
    "    recs=prod_recs,\n",
    "    ground_truth=purchase_df_pandas,\n",
    "    model_name=\"Cosine Similarity\",\n",
    "    k=10\n",
    ")"
   ]
  },
  {
   "cell_type": "code",
   "execution_count": 0,
   "metadata": {
    "application/vnd.databricks.v1+cell": {
     "cellMetadata": {
      "byteLimit": 2048000,
      "rowLimit": 10000
     },
     "inputWidgets": {},
     "nuid": "a6f1d81a-9008-4685-b3ab-a97f3afc22cc",
     "showTitle": false,
     "tableResultSettingsMap": {},
     "title": ""
    }
   },
   "outputs": [],
   "source": [
    "print(f\"Precision: {precision_cosine:}\")\n",
    "print(f\"Recall: {recall_cosine:}\")"
   ]
  },
  {
   "cell_type": "code",
   "execution_count": 0,
   "metadata": {
    "application/vnd.databricks.v1+cell": {
     "cellMetadata": {
      "byteLimit": 2048000,
      "rowLimit": 10000
     },
     "inputWidgets": {},
     "nuid": "d60a4377-307e-4864-8971-5a69f03aeff7",
     "showTitle": false,
     "tableResultSettingsMap": {},
     "title": ""
    }
   },
   "outputs": [],
   "source": [
    "# Evaluate FP_Growth Recommendations\n",
    "ground_truth = purchase_df_pandas[[\"user_session\", \"cosmetic_product_id\"]]\n",
    "precision_fp_growth, recall_fp_growth = calculate_precision_recall_frequent_itemsets(\n",
    "    frequent_itemsets=frequent_itemsets,\n",
    "    ground_truth=ground_truth,\n",
    "    k=10\n",
    ")\n"
   ]
  },
  {
   "cell_type": "code",
   "execution_count": 0,
   "metadata": {
    "application/vnd.databricks.v1+cell": {
     "cellMetadata": {
      "byteLimit": 2048000,
      "rowLimit": 10000
     },
     "inputWidgets": {},
     "nuid": "93e7b0dc-7f9d-416c-98c7-ff5a41cf8ad3",
     "showTitle": false,
     "tableResultSettingsMap": {},
     "title": ""
    }
   },
   "outputs": [],
   "source": [
    "print(f\"FP-Growth Precision: {precision_fp_growth:}\")\n",
    "print(f\"FP-Growth Recall: {recall_fp_growth:}\")"
   ]
  },
  {
   "cell_type": "code",
   "execution_count": 0,
   "metadata": {
    "application/vnd.databricks.v1+cell": {
     "cellMetadata": {
      "byteLimit": 2048000,
      "rowLimit": 10000
     },
     "inputWidgets": {},
     "nuid": "75145799-abaf-4001-a510-98ec3b946bfc",
     "showTitle": false,
     "tableResultSettingsMap": {},
     "title": ""
    }
   },
   "outputs": [],
   "source": [
    "# Evaluate ALS Recommendations\n",
    "user_mapping = purchase_df_pandas[[\"user_session\"]].drop_duplicates().reset_index(drop=True)\n",
    "user_mapping[\"user_session_index\"] = user_mapping.index + 1 \n",
    "\n",
    "precision_als, recall_als = evaluate_als_with_mapping(\n",
    "    recs=user_recs,\n",
    "    ground_truth=purchase_df_pandas,\n",
    "    user_mapping=user_mapping,\n",
    "    k=10\n",
    ")"
   ]
  },
  {
   "cell_type": "code",
   "execution_count": 0,
   "metadata": {
    "application/vnd.databricks.v1+cell": {
     "cellMetadata": {
      "byteLimit": 2048000,
      "rowLimit": 10000
     },
     "inputWidgets": {},
     "nuid": "6b275652-b83f-4a32-9bc5-fe2affb82784",
     "showTitle": false,
     "tableResultSettingsMap": {},
     "title": ""
    }
   },
   "outputs": [],
   "source": [
    "print(f\"ALS Precision: {precision_als:}\")\n",
    "print(f\"ALS Recall: {recall_als:}\")"
   ]
  },
  {
   "cell_type": "markdown",
   "metadata": {
    "application/vnd.databricks.v1+cell": {
     "cellMetadata": {},
     "inputWidgets": {},
     "nuid": "56a9db51-62fb-4cc0-9e09-f0af8ba27f55",
     "showTitle": false,
     "tableResultSettingsMap": {},
     "title": ""
    }
   },
   "source": [
    "## Topic Sentiment Analysis"
   ]
  },
  {
   "cell_type": "code",
   "execution_count": 0,
   "metadata": {
    "application/vnd.databricks.v1+cell": {
     "cellMetadata": {
      "byteLimit": 2048000,
      "rowLimit": 10000
     },
     "inputWidgets": {},
     "nuid": "26179704-db31-4686-9c2a-10a4cc5e17a1",
     "showTitle": false,
     "tableResultSettingsMap": {},
     "title": ""
    }
   },
   "outputs": [],
   "source": [
    "# Sometimes the scripts dont get updated here, so this should do it\n",
    "import importlib\n",
    "from scripts import topic_sentiment_analysis\n",
    "\n",
    "# Reload the module\n",
    "importlib.reload(topic_sentiment_analysis)\n",
    "from scripts.topic_sentiment_analysis import process_reviews, analyze_topics"
   ]
  },
  {
   "cell_type": "code",
   "execution_count": 0,
   "metadata": {
    "application/vnd.databricks.v1+cell": {
     "cellMetadata": {
      "byteLimit": 2048000,
      "rowLimit": 10000
     },
     "inputWidgets": {},
     "nuid": "aa4b3e39-78dc-4e1f-b5e6-9f74415ff20d",
     "showTitle": false,
     "tableResultSettingsMap": {},
     "title": ""
    }
   },
   "outputs": [],
   "source": [
    "processed_df = process_reviews(final_mapped_df)"
   ]
  },
  {
   "cell_type": "code",
   "execution_count": 0,
   "metadata": {
    "application/vnd.databricks.v1+cell": {
     "cellMetadata": {
      "byteLimit": 2048000,
      "rowLimit": 10000
     },
     "inputWidgets": {},
     "nuid": "7804b3c6-e90e-4ded-a056-8a6b808daf91",
     "showTitle": false,
     "tableResultSettingsMap": {},
     "title": ""
    }
   },
   "outputs": [],
   "source": [
    "processed_df.select(\"review_text\", \"topics\", \"sentiment\").show(truncate=False)"
   ]
  },
  {
   "cell_type": "code",
   "execution_count": 0,
   "metadata": {
    "application/vnd.databricks.v1+cell": {
     "cellMetadata": {
      "byteLimit": 2048000,
      "rowLimit": 10000
     },
     "inputWidgets": {},
     "nuid": "b09eb801-8d54-45d0-bd84-fca7b6fd855b",
     "showTitle": false,
     "tableResultSettingsMap": {},
     "title": ""
    }
   },
   "outputs": [],
   "source": [
    "# Analyze topic engagement trends\n",
    "topic_analysis_df = analyze_topics(processed_df)"
   ]
  },
  {
   "cell_type": "code",
   "execution_count": 0,
   "metadata": {
    "application/vnd.databricks.v1+cell": {
     "cellMetadata": {
      "byteLimit": 2048000,
      "rowLimit": 10000
     },
     "inputWidgets": {},
     "nuid": "613bcc69-1a38-4f3e-adb5-4611a08e757b",
     "showTitle": false,
     "tableResultSettingsMap": {},
     "title": ""
    }
   },
   "outputs": [],
   "source": [
    "# Show topic trends\n",
    "display(topic_analysis_df.limit(5))"
   ]
  },
  {
   "cell_type": "markdown",
   "metadata": {
    "application/vnd.databricks.v1+cell": {
     "cellMetadata": {},
     "inputWidgets": {},
     "nuid": "42e33a6f-5a25-47c8-a816-7ab8a847d767",
     "showTitle": false,
     "tableResultSettingsMap": {},
     "title": ""
    }
   },
   "source": [
    "## Product Embedding"
   ]
  },
  {
   "cell_type": "code",
   "execution_count": 0,
   "metadata": {
    "application/vnd.databricks.v1+cell": {
     "cellMetadata": {
      "byteLimit": 2048000,
      "rowLimit": 10000
     },
     "inputWidgets": {},
     "nuid": "c430d9b8-c03b-4f49-a437-4b967a7fd09e",
     "showTitle": false,
     "tableResultSettingsMap": {},
     "title": ""
    }
   },
   "outputs": [],
   "source": [
    "# Sometimes the scripts dont get updated here, so this should do it\n",
    "import importlib\n",
    "from scripts import product_embedding\n",
    "\n",
    "# Reload the module\n",
    "importlib.reload(product_embedding)\n",
    "from scripts.product_embedding import (\n",
    "    generate_review_embeddings, \n",
    "    combine_review_embeddings, \n",
    "    generate_topic_sentiment_embeddings, \n",
    "    merge_embeddings, \n",
    "    clean_aggregated_embeddings\n",
    ")\n",
    "\n"
   ]
  },
  {
   "cell_type": "code",
   "execution_count": 0,
   "metadata": {
    "application/vnd.databricks.v1+cell": {
     "cellMetadata": {
      "byteLimit": 2048000,
      "rowLimit": 10000
     },
     "inputWidgets": {},
     "nuid": "d218c678-5d63-41ab-875b-f1b802341d24",
     "showTitle": false,
     "tableResultSettingsMap": {},
     "title": ""
    }
   },
   "outputs": [],
   "source": [
    "# Step 1: Generate review embeddings\n",
    "review_embedding_df = generate_review_embeddings(processed_df)"
   ]
  },
  {
   "cell_type": "code",
   "execution_count": 0,
   "metadata": {
    "application/vnd.databricks.v1+cell": {
     "cellMetadata": {
      "byteLimit": 2048000,
      "rowLimit": 10000
     },
     "inputWidgets": {},
     "nuid": "0fd04c13-6568-4f86-9430-f9bb0f96111a",
     "showTitle": false,
     "tableResultSettingsMap": {},
     "title": ""
    }
   },
   "outputs": [],
   "source": [
    "# Step 2: Combine review embeddings\n",
    "review__combine_embedding_df = combine_review_embeddings(review_embedding_df)"
   ]
  },
  {
   "cell_type": "code",
   "execution_count": 0,
   "metadata": {
    "application/vnd.databricks.v1+cell": {
     "cellMetadata": {
      "byteLimit": 2048000,
      "rowLimit": 10000
     },
     "inputWidgets": {},
     "nuid": "430d0978-9264-41c2-9aa0-4c050f1006e5",
     "showTitle": false,
     "tableResultSettingsMap": {},
     "title": ""
    }
   },
   "outputs": [],
   "source": [
    "# Step 3: Generate topic & sentiment embeddings\n",
    "topic_embedding_df = generate_topic_sentiment_embeddings(review__combine_embedding_df)\n"
   ]
  },
  {
   "cell_type": "code",
   "execution_count": 0,
   "metadata": {
    "application/vnd.databricks.v1+cell": {
     "cellMetadata": {
      "byteLimit": 2048000,
      "rowLimit": 10000
     },
     "inputWidgets": {},
     "nuid": "1fcbb3c6-0d9c-4877-8633-ac3658e91a72",
     "showTitle": false,
     "tableResultSettingsMap": {},
     "title": ""
    }
   },
   "outputs": [],
   "source": [
    "# Step 4: Merge all embeddings into `final_embedding`\n",
    "combine_embedding_df = merge_embeddings(topic_embedding_df)"
   ]
  },
  {
   "cell_type": "code",
   "execution_count": 0,
   "metadata": {
    "application/vnd.databricks.v1+cell": {
     "cellMetadata": {
      "byteLimit": 2048000,
      "rowLimit": 10000
     },
     "inputWidgets": {},
     "nuid": "a1ef6f0b-ae2a-4859-ae34-3d666ede22d5",
     "showTitle": false,
     "tableResultSettingsMap": {},
     "title": ""
    }
   },
   "outputs": [],
   "source": [
    "# Step 5: Clean final embeddings\n",
    "final_embedding_df = clean_aggregated_embeddings(combine_embedding_df)"
   ]
  },
  {
   "cell_type": "code",
   "execution_count": 0,
   "metadata": {
    "application/vnd.databricks.v1+cell": {
     "cellMetadata": {
      "byteLimit": 2048000,
      "rowLimit": 10000
     },
     "inputWidgets": {},
     "nuid": "8be5b8d9-3d31-43d9-b5ae-5ba8130963a4",
     "showTitle": false,
     "tableResultSettingsMap": {},
     "title": ""
    }
   },
   "outputs": [],
   "source": [
    "final_embedding_df.printSchema()"
   ]
  },
  {
   "cell_type": "code",
   "execution_count": 0,
   "metadata": {
    "application/vnd.databricks.v1+cell": {
     "cellMetadata": {
      "byteLimit": 2048000,
      "rowLimit": 10000
     },
     "inputWidgets": {},
     "nuid": "684d64ac-c9f3-48a5-910c-915e9f054c6e",
     "showTitle": false,
     "tableResultSettingsMap": {},
     "title": ""
    }
   },
   "outputs": [],
   "source": [
    "final_embedding_df.select(\"final_embedding\").show(5, truncate=False)"
   ]
  },
  {
   "cell_type": "code",
   "execution_count": 0,
   "metadata": {
    "application/vnd.databricks.v1+cell": {
     "cellMetadata": {
      "byteLimit": 2048000,
      "rowLimit": 10000
     },
     "inputWidgets": {},
     "nuid": "a11b4194-00d2-41f1-884b-84802974045b",
     "showTitle": false,
     "tableResultSettingsMap": {},
     "title": ""
    }
   },
   "outputs": [],
   "source": [
    "# Save embeddings to Unity Catalog\n",
    "final_embedding_df.write.format(\"delta\").mode(\"overwrite\").saveAsTable(\"ecommerces_catalog.recommendation_schema.topic_embeddings\")"
   ]
  },
  {
   "cell_type": "markdown",
   "metadata": {
    "application/vnd.databricks.v1+cell": {
     "cellMetadata": {},
     "inputWidgets": {},
     "nuid": "5ae47429-39ed-4b78-bb73-f6997d3d3c5f",
     "showTitle": false,
     "tableResultSettingsMap": {},
     "title": ""
    }
   },
   "source": [
    "## Add Product Embedding to Baseline Model for Improvements"
   ]
  },
  {
   "cell_type": "code",
   "execution_count": 0,
   "metadata": {
    "application/vnd.databricks.v1+cell": {
     "cellMetadata": {
      "byteLimit": 2048000,
      "rowLimit": 10000
     },
     "inputWidgets": {},
     "nuid": "aff38f13-8601-46c4-9794-924a7dcf26ae",
     "showTitle": false,
     "tableResultSettingsMap": {},
     "title": ""
    }
   },
   "outputs": [],
   "source": [
    "# Sometimes the scripts dont get updated here, so this should do it\n",
    "import importlib\n",
    "from scripts import recommendation_with_embeddings\n",
    "\n",
    "# Reload the module\n",
    "importlib.reload(recommendation_with_embeddings)\n",
    "from scripts.recommendation_with_embeddings import (\n",
    "    generate_cosine_sim_recs_with_embeddings,\n",
    "    rerank_fp_growth_rules,\n",
    "    run_als_recommender_with_embeddings\n",
    ")"
   ]
  },
  {
   "cell_type": "code",
   "execution_count": 0,
   "metadata": {
    "application/vnd.databricks.v1+cell": {
     "cellMetadata": {
      "byteLimit": 2048000,
      "rowLimit": 10000
     },
     "inputWidgets": {},
     "nuid": "e90a7a64-9648-40ee-8fd8-6ce76b37826d",
     "showTitle": false,
     "tableResultSettingsMap": {},
     "title": ""
    }
   },
   "outputs": [],
   "source": [
    "# Assuming reviews_combined is the DataFrame with combined embeddings\n",
    "product_embeddings_dict = {\n",
    "    row[\"review_product_id\"]: row[\"aggregated_embedding\"]\n",
    "    for row in cleaned_embeddings_df.collect()\n",
    "}\n"
   ]
  },
  {
   "cell_type": "code",
   "execution_count": 0,
   "metadata": {
    "application/vnd.databricks.v1+cell": {
     "cellMetadata": {
      "byteLimit": 2048000,
      "rowLimit": 10000
     },
     "inputWidgets": {},
     "nuid": "58afe8b4-a7aa-48e6-96df-25d80ac2f9c6",
     "showTitle": false,
     "tableResultSettingsMap": {},
     "title": ""
    }
   },
   "outputs": [],
   "source": [
    "# 1. Cosine Similarity Recommendations\n",
    "cosine_sim_recs = generate_cosine_sim_recs_with_embeddings(\n",
    "    product_embeddings_df=cleaned_embeddings_df.toPandas(),\n",
    "    filename=\"cosine_similarity_with_embeddings.csv\"\n",
    ")"
   ]
  },
  {
   "cell_type": "code",
   "execution_count": 0,
   "metadata": {
    "application/vnd.databricks.v1+cell": {
     "cellMetadata": {
      "byteLimit": 2048000,
      "rowLimit": 10000
     },
     "inputWidgets": {},
     "nuid": "66e256b6-5f75-4b32-9b7d-81bd9ab95583",
     "showTitle": false,
     "tableResultSettingsMap": {},
     "title": ""
    }
   },
   "outputs": [],
   "source": [
    "print(cosine_sim_recs)"
   ]
  },
  {
   "cell_type": "code",
   "execution_count": 0,
   "metadata": {
    "application/vnd.databricks.v1+cell": {
     "cellMetadata": {
      "byteLimit": 2048000,
      "rowLimit": 10000
     },
     "inputWidgets": {},
     "nuid": "e67d969e-8550-41b8-a039-f3268d96b6d8",
     "showTitle": false,
     "tableResultSettingsMap": {},
     "title": ""
    }
   },
   "outputs": [],
   "source": [
    "# 2. FP-Growth Recommendations with Reranking\n",
    "frequent_itemsets, association_rules = run_fp_growth(purchase_df) "
   ]
  },
  {
   "cell_type": "code",
   "execution_count": 0,
   "metadata": {
    "application/vnd.databricks.v1+cell": {
     "cellMetadata": {
      "byteLimit": 2048000,
      "rowLimit": 10000
     },
     "inputWidgets": {},
     "nuid": "2b431c2f-9a25-4548-97d1-22d89026b073",
     "showTitle": false,
     "tableResultSettingsMap": {},
     "title": ""
    }
   },
   "outputs": [],
   "source": [
    "reranked_rules = rerank_fp_growth_rules(association_rules, product_embeddings_dict)\n",
    "print(reranked_rules)"
   ]
  },
  {
   "cell_type": "code",
   "execution_count": 0,
   "metadata": {
    "application/vnd.databricks.v1+cell": {
     "cellMetadata": {
      "byteLimit": 2048000,
      "rowLimit": 10000
     },
     "inputWidgets": {},
     "nuid": "f4f4ec40-b475-441b-8e77-e723517de0de",
     "showTitle": false,
     "tableResultSettingsMap": {},
     "title": ""
    }
   },
   "outputs": [],
   "source": [
    "from pyspark.sql.functions import lit\n",
    "\n",
    "purchase_ids = purchase_df.select(\"cosmetic_product_id\").distinct()\n",
    "embedding_ids = cleaned_embeddings_df.select(\"review_product_id\").distinct()\n",
    "\n",
    "default_embedding = [0.0] * 384  # 384-dimensional zero vector\n",
    "missing_ids_df = purchase_ids.subtract(embedding_ids).withColumn(\"aggregated_embedding\", lit(default_embedding))\n",
    "\n",
    "# Combine missing IDs with cleaned_embeddings_df\n",
    "final_embeddings_df = cleaned_embeddings_df.union(missing_ids_df)"
   ]
  },
  {
   "cell_type": "markdown",
   "metadata": {
    "application/vnd.databricks.v1+cell": {
     "cellMetadata": {},
     "inputWidgets": {},
     "nuid": "22398ac6-f790-450b-9015-e2dc572a4e04",
     "showTitle": false,
     "tableResultSettingsMap": {},
     "title": ""
    }
   },
   "source": [
    "## Evaluation "
   ]
  },
  {
   "cell_type": "code",
   "execution_count": 0,
   "metadata": {
    "application/vnd.databricks.v1+cell": {
     "cellMetadata": {
      "byteLimit": 2048000,
      "rowLimit": 10000
     },
     "inputWidgets": {},
     "nuid": "35b8cd50-08af-4405-9fc9-9a67beda2931",
     "showTitle": false,
     "tableResultSettingsMap": {},
     "title": ""
    }
   },
   "outputs": [],
   "source": [
    "# Sometimes the scripts dont get updated here, so this should do it\n",
    "import importlib\n",
    "from scripts import embedding_evaluation\n",
    "\n",
    "# Reload the module\n",
    "importlib.reload(embedding_evaluation)\n",
    "from scripts.embedding_evaluation import evaluate_precision_recall"
   ]
  },
  {
   "cell_type": "code",
   "execution_count": 0,
   "metadata": {
    "application/vnd.databricks.v1+cell": {
     "cellMetadata": {
      "byteLimit": 2048000,
      "rowLimit": 10000
     },
     "inputWidgets": {},
     "nuid": "e8ac9c53-609a-4db4-b62c-3aae201a639b",
     "showTitle": false,
     "tableResultSettingsMap": {},
     "title": ""
    }
   },
   "outputs": [],
   "source": [
    "from pyspark.sql import functions as F\n",
    "\n",
    "# Filter actual purchases from the `purchase_df`\n",
    "actual_purchases = purchase_df.filter(F.col(\"event_type\") == \"purchase\")\n",
    "actual_purchases = actual_purchases.select(\"user_session\", \"cosmetic_product_id\").distinct()\n"
   ]
  },
  {
   "cell_type": "code",
   "execution_count": 0,
   "metadata": {
    "application/vnd.databricks.v1+cell": {
     "cellMetadata": {
      "byteLimit": 2048000,
      "rowLimit": 10000
     },
     "inputWidgets": {},
     "nuid": "53ab959e-d189-4aba-8266-0b27cf08ec4d",
     "showTitle": false,
     "tableResultSettingsMap": {},
     "title": ""
    }
   },
   "outputs": [],
   "source": [
    "from pyspark.sql.functions import col, explode\n",
    "\n",
    "# Convert `cosine_sim_recs` to PySpark DataFrame\n",
    "cosine_recs_df = spark.createDataFrame(cosine_sim_recs)\n",
    "\n",
    "# Explode recommendations\n",
    "cosine_recs_df = cosine_recs_df.select(\n",
    "    col(\"product_id\").alias(\"recommended_product_id\"),\n",
    "    explode(col(\"scores\")).alias(\"recommended_score\")\n",
    ")\n",
    "\n",
    "# Join with actual purchases\n",
    "cosine_eval = cosine_recs_df.join(\n",
    "    actual_purchases,\n",
    "    cosine_recs_df.recommended_product_id == actual_purchases.cosmetic_product_id,\n",
    "    \"left\"\n",
    ")\n",
    "\n",
    "# Calculate precision and recall\n",
    "cosine_precision = cosine_eval.filter(col(\"cosmetic_product_id\").isNotNull()).count() / cosine_eval.count()\n",
    "cosine_recall = cosine_eval.filter(col(\"cosmetic_product_id\").isNotNull()).count() / actual_purchases.count()\n"
   ]
  },
  {
   "cell_type": "code",
   "execution_count": 0,
   "metadata": {
    "application/vnd.databricks.v1+cell": {
     "cellMetadata": {
      "byteLimit": 2048000,
      "rowLimit": 10000
     },
     "inputWidgets": {},
     "nuid": "a2908f87-5d51-461c-afbe-6307732f2732",
     "showTitle": false,
     "tableResultSettingsMap": {},
     "title": ""
    }
   },
   "outputs": [],
   "source": [
    "# Convert `reranked_rules` to PySpark DataFrame\n",
    "fp_recs_df = spark.createDataFrame(reranked_rules)\n",
    "\n",
    "# Explode antecedent and consequent for comparison\n",
    "fp_recs_df = fp_recs_df.select(\n",
    "    explode(col(\"antecedent\")).alias(\"recommended_product_id\"),\n",
    "    col(\"embedding_similarity\")\n",
    ")\n",
    "\n",
    "# Join with actual purchases\n",
    "fp_eval = fp_recs_df.join(\n",
    "    actual_purchases,\n",
    "    fp_recs_df.recommended_product_id == actual_purchases.cosmetic_product_id,\n",
    "    \"left\"\n",
    ")\n",
    "\n",
    "# Calculate precision and recall\n",
    "fp_precision = fp_eval.filter(col(\"cosmetic_product_id\").isNotNull()).count() / fp_eval.count()\n",
    "fp_recall = fp_eval.filter(col(\"cosmetic_product_id\").isNotNull()).count() / actual_purchases.count()\n"
   ]
  },
  {
   "cell_type": "code",
   "execution_count": 0,
   "metadata": {
    "application/vnd.databricks.v1+cell": {
     "cellMetadata": {
      "byteLimit": 2048000,
      "rowLimit": 10000
     },
     "inputWidgets": {},
     "nuid": "376a22f2-924d-4d71-844a-4e8e43e9da26",
     "showTitle": false,
     "tableResultSettingsMap": {},
     "title": ""
    }
   },
   "outputs": [],
   "source": [
    "print(f\"Cosine Similarity - Precision: {cosine_precision:}, Recall: {cosine_recall:}\")\n",
    "print(f\"FP-Growth - Precision: {fp_precision:}, Recall: {fp_recall:}\")\n"
   ]
  }
 ],
 "metadata": {
  "application/vnd.databricks.v1+notebook": {
   "computePreferences": null,
   "dashboards": [],
   "environmentMetadata": {
    "base_environment": "",
    "client": "1"
   },
   "language": "python",
   "notebookMetadata": {
    "mostRecentlyExecutedCommandWithImplicitDF": {
     "commandId": -1,
     "dataframes": [
      "_sqldf"
     ]
    },
    "pythonIndentUnit": 4
   },
   "notebookName": "Main_Notebook",
   "widgets": {}
  },
  "language_info": {
   "name": "python"
  }
 },
 "nbformat": 4,
 "nbformat_minor": 0
}

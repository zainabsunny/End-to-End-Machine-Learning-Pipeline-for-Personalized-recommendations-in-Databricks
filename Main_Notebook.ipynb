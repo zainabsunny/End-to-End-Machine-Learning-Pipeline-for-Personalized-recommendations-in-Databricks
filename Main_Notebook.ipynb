{
 "cells": [
  {
   "cell_type": "markdown",
   "metadata": {
    "application/vnd.databricks.v1+cell": {
     "cellMetadata": {},
     "inputWidgets": {},
     "nuid": "180064a6-5c05-4f0b-b28f-ea594b1090bc",
     "showTitle": false,
     "tableResultSettingsMap": {},
     "title": ""
    }
   },
   "source": [
    "# Royal Cybers: End-to-End Machine Learning Pipeline for Personalized recommendations in Databricks "
   ]
  },
  {
   "cell_type": "markdown",
   "metadata": {
    "application/vnd.databricks.v1+cell": {
     "cellMetadata": {},
     "inputWidgets": {},
     "nuid": "fde9865a-173c-4a20-91c9-543e83fd5427",
     "showTitle": false,
     "tableResultSettingsMap": {},
     "title": ""
    }
   },
   "source": [
    "## THIS IS THE MAIN NOTEBOOK (not including EDA)"
   ]
  },
  {
   "cell_type": "code",
   "execution_count": 0,
   "metadata": {
    "application/vnd.databricks.v1+cell": {
     "cellMetadata": {
      "byteLimit": 2048000,
      "rowLimit": 10000
     },
     "inputWidgets": {},
     "nuid": "a2b5bbdc-bd78-4d24-9de3-d92cfcba4c1a",
     "showTitle": false,
     "tableResultSettingsMap": {},
     "title": ""
    }
   },
   "outputs": [],
   "source": [
    "\n",
    "import importlib\n",
    "from pyspark.sql import SparkSession\n",
    "from pyspark.sql.functions import lit\n",
    "from scripts.data_cleaning import clean_cosmetic_df, clean_mapping_df, clean_reviews_df\n",
    "from scripts.feature_engineering import add_customer_engagement, add_predictor_features, process_reviews_df\n",
    "from scripts.data_transformation import transform_cosmetic_data, transform_mapping_data, transform_reviews_data\n",
    "from pyspark.sql.functions import col\n",
    "from scripts.EDA import perform_eda\n",
    "!pip install mlxtend\n",
    "from scripts.baseline_model import generate_cosine_sim_recs, run_fp_growth, run_als_recommender\n",
    "from delta.tables import DeltaTable\n",
    "from pyspark.sql.functions import size, substring\n",
    "from pyspark.sql.functions import lit\n",
    "from scripts.product_embedding import generate_review_embeddings, combine_review_embeddings\n",
    "from scripts.schema_definitions import (\n",
    "    expected_cosmetic_schema,\n",
    "    expected_reviews_schema,\n",
    "    expected_mapping_schema\n",
    ")\n",
    "from scripts.quality_check.data_quality_check import (\n",
    "    check_schema,\n",
    "    check_null_values,\n",
    "    check_duplicate_rows,\n",
    "    check_data_types,\n",
    "    check_row_count\n",
    ")\n",
    "\n",
    "from scripts.quality_check.baseline_model_quality_check import (\n",
    "    check_cosine_sim_recs_output,\n",
    "    check_fp_growth_output,\n",
    "    check_als_output\n",
    ")\n"
   ]
  },
  {
   "cell_type": "markdown",
   "metadata": {
    "application/vnd.databricks.v1+cell": {
     "cellMetadata": {},
     "inputWidgets": {},
     "nuid": "a00ee39e-6e56-4424-a2fa-ea7ad661acf5",
     "showTitle": false,
     "tableResultSettingsMap": {},
     "title": ""
    }
   },
   "source": [
    "## Load Dataset"
   ]
  },
  {
   "cell_type": "code",
   "execution_count": 0,
   "metadata": {
    "application/vnd.databricks.v1+cell": {
     "cellMetadata": {
      "byteLimit": 2048000,
      "rowLimit": 10000
     },
     "inputWidgets": {},
     "nuid": "a5eb5f13-0a85-4b43-a7a7-181b605cfbf1",
     "showTitle": false,
     "tableResultSettingsMap": {},
     "title": ""
    }
   },
   "outputs": [],
   "source": [
    "# Load Dataset from S3 Bucket\n",
    "spark = SparkSession.builder.appName(\"E-Commerce Pipeline\").getOrCreate()\n",
    "\n",
    "cosmetic_store_data_path = \"s3://e-commerce-pipeline-dataset/Cosmetic Store Website Data.csv\"\n",
    "reviews_data_path = \"s3://e-commerce-pipeline-dataset/nyka_top_brands_cosmetics_product_reviews.csv\"\n",
    "product_mapping_path = \"s3://e-commerce-pipeline-dataset/unique_product_id_pairings.csv\""
   ]
  },
  {
   "cell_type": "code",
   "execution_count": 0,
   "metadata": {
    "application/vnd.databricks.v1+cell": {
     "cellMetadata": {
      "byteLimit": 2048000,
      "rowLimit": 10000
     },
     "inputWidgets": {},
     "nuid": "d622a617-1377-45ae-ae57-72c858254e86",
     "showTitle": false,
     "tableResultSettingsMap": {},
     "title": ""
    }
   },
   "outputs": [],
   "source": [
    "cosmetic_df = spark.read.csv(cosmetic_store_data_path, header=True, inferSchema=True)\n",
    "reviews_df = spark.read.csv(reviews_data_path, header=True, inferSchema=True)\n",
    "mapping_df = spark.read.csv(product_mapping_path, header=True, inferSchema=True)"
   ]
  },
  {
   "cell_type": "markdown",
   "metadata": {
    "application/vnd.databricks.v1+cell": {
     "cellMetadata": {},
     "inputWidgets": {},
     "nuid": "71f879fa-00b3-43d2-a113-1d6895119cc2",
     "showTitle": false,
     "tableResultSettingsMap": {},
     "title": ""
    }
   },
   "source": [
    "## Data Check"
   ]
  },
  {
   "cell_type": "code",
   "execution_count": 0,
   "metadata": {
    "application/vnd.databricks.v1+cell": {
     "cellMetadata": {
      "byteLimit": 2048000,
      "rowLimit": 10000
     },
     "inputWidgets": {},
     "nuid": "33f1af45-f8e5-496d-a07f-526d28267500",
     "showTitle": false,
     "tableResultSettingsMap": {},
     "title": ""
    }
   },
   "outputs": [],
   "source": [
    "# ---------------------------------------------\n",
    "# Cosmetic DataFrame Checks\n",
    "# ---------------------------------------------\n",
    "print(\"=== Checking cosmetic_df ===\")\n",
    "schema_ok = check_schema(cosmetic_df, expected_cosmetic_schema)\n",
    "if schema_ok:\n",
    "    check_data_types(cosmetic_df, expected_cosmetic_schema)\n",
    "    check_null_values(cosmetic_df, threshold=0.5)\n",
    "    check_duplicate_rows(cosmetic_df, subset_columns=[\"event_time\", \"product_id\", \"user_id\"])\n",
    "    check_row_count(cosmetic_df, min_count=1)\n",
    "\n",
    "# ---------------------------------------------\n",
    "# Reviews DataFrame Checks\n",
    "# ---------------------------------------------\n",
    "print(\"\\n=== Checking reviews_df ===\")\n",
    "schema_ok = check_schema(reviews_df, expected_reviews_schema)\n",
    "if schema_ok:\n",
    "    check_data_types(reviews_df, expected_reviews_schema)\n",
    "    check_null_values(reviews_df, threshold=0.5)\n",
    "    check_duplicate_rows(reviews_df, subset_columns=[\"review_id\"])\n",
    "    check_row_count(reviews_df, min_count=1)\n",
    "\n",
    "# ---------------------------------------------\n",
    "# Mapping DataFrame Checks\n",
    "# ---------------------------------------------\n",
    "print(\"\\n=== Checking mapping_df ===\")\n",
    "schema_ok = check_schema(mapping_df, expected_mapping_schema)\n",
    "if schema_ok:\n",
    "    check_data_types(mapping_df, expected_mapping_schema)\n",
    "    check_null_values(mapping_df, threshold=0.5)\n",
    "    check_duplicate_rows(mapping_df, subset_columns=[\"product_id_events\", \"product_id_reviews\"])\n",
    "    check_row_count(mapping_df, min_count=1)"
   ]
  },
  {
   "cell_type": "markdown",
   "metadata": {
    "application/vnd.databricks.v1+cell": {
     "cellMetadata": {},
     "inputWidgets": {},
     "nuid": "db3d1271-965f-4243-b0e8-ed658af0ba98",
     "showTitle": false,
     "tableResultSettingsMap": {},
     "title": ""
    }
   },
   "source": [
    "## Clean Data"
   ]
  },
  {
   "cell_type": "code",
   "execution_count": 0,
   "metadata": {
    "application/vnd.databricks.v1+cell": {
     "cellMetadata": {
      "byteLimit": 2048000,
      "rowLimit": 10000
     },
     "inputWidgets": {},
     "nuid": "558f2191-6095-45c5-af20-96554892bd92",
     "showTitle": false,
     "tableResultSettingsMap": {},
     "title": ""
    }
   },
   "outputs": [],
   "source": [
    "# Sometimes the scripts dont get updated here, so this should do it\n",
    "import importlib\n",
    "from scripts import data_cleaning\n",
    "\n",
    "# Reload the module\n",
    "importlib.reload(data_cleaning)\n",
    "from scripts.data_cleaning import clean_cosmetic_df, clean_mapping_df, clean_reviews_df"
   ]
  },
  {
   "cell_type": "code",
   "execution_count": 0,
   "metadata": {
    "application/vnd.databricks.v1+cell": {
     "cellMetadata": {
      "byteLimit": 2048000,
      "rowLimit": 10000
     },
     "inputWidgets": {},
     "nuid": "8302b898-30e5-412c-9172-bb378712782a",
     "showTitle": false,
     "tableResultSettingsMap": {},
     "title": ""
    }
   },
   "outputs": [],
   "source": [
    "cosmetic_df = clean_cosmetic_df(cosmetic_df)\n",
    "mapping_df = clean_mapping_df(mapping_df)\n",
    "reviews_df = clean_reviews_df(reviews_df)"
   ]
  },
  {
   "cell_type": "code",
   "execution_count": 0,
   "metadata": {
    "application/vnd.databricks.v1+cell": {
     "cellMetadata": {
      "byteLimit": 2048000,
      "rowLimit": 10000
     },
     "inputWidgets": {},
     "nuid": "4dc90146-9080-49f7-8307-82ec0aa2e01f",
     "showTitle": false,
     "tableResultSettingsMap": {},
     "title": ""
    }
   },
   "outputs": [],
   "source": [
    "cosmetic_df.show(5)\n",
    "mapping_df.show(5)\n",
    "reviews_df.show(5)"
   ]
  },
  {
   "cell_type": "markdown",
   "metadata": {
    "application/vnd.databricks.v1+cell": {
     "cellMetadata": {},
     "inputWidgets": {},
     "nuid": "1b811904-22d3-41fc-9a37-226fb18a2133",
     "showTitle": false,
     "tableResultSettingsMap": {},
     "title": ""
    }
   },
   "source": [
    "## Unity Catalog Paths"
   ]
  },
  {
   "cell_type": "code",
   "execution_count": 0,
   "metadata": {
    "application/vnd.databricks.v1+cell": {
     "cellMetadata": {
      "byteLimit": 2048000,
      "implicitDf": true,
      "rowLimit": 10000
     },
     "inputWidgets": {},
     "nuid": "bac0dd9b-dbc4-456b-9b1d-5e82d9e1c9fb",
     "showTitle": false,
     "tableResultSettingsMap": {},
     "title": ""
    }
   },
   "outputs": [],
   "source": [
    "%sql\n",
    "-- CREATE CATALOG ecommerces_catalog;\n",
    "-- CREATE SCHEMA ecommerces_catalog.recommendation_schema;"
   ]
  },
  {
   "cell_type": "code",
   "execution_count": 0,
   "metadata": {
    "application/vnd.databricks.v1+cell": {
     "cellMetadata": {
      "byteLimit": 2048000,
      "rowLimit": 10000
     },
     "inputWidgets": {},
     "nuid": "cce252ff-5e7d-44c7-9e8f-c0cc3ac906ae",
     "showTitle": false,
     "tableResultSettingsMap": {},
     "title": ""
    }
   },
   "outputs": [],
   "source": [
    "# Unity Catalog table names\n",
    "cosmetic_store_table = \"ecommerces_catalog.recommendation_schema.cosmetic_store_data\"\n",
    "reviews_table = \"ecommerces_catalog.recommendation_schema.product_reviews\"\n",
    "mapping_table = \"ecommerces_catalog.recommendation_schema.product_mapping\""
   ]
  },
  {
   "cell_type": "code",
   "execution_count": 0,
   "metadata": {
    "application/vnd.databricks.v1+cell": {
     "cellMetadata": {
      "byteLimit": 2048000,
      "rowLimit": 10000
     },
     "inputWidgets": {},
     "nuid": "4309f7d0-45af-4bf8-93b7-8d2fd0802184",
     "showTitle": false,
     "tableResultSettingsMap": {},
     "title": ""
    }
   },
   "outputs": [],
   "source": [
    "# Load Data into Unity Catalog\n",
    "cosmetic_df.write.format(\"delta\").mode(\"overwrite\").saveAsTable(cosmetic_store_table)\n",
    "reviews_df.write.format(\"delta\").mode(\"overwrite\").saveAsTable(reviews_table)\n",
    "mapping_df.write.format(\"delta\").mode(\"overwrite\").saveAsTable(mapping_table)"
   ]
  },
  {
   "cell_type": "code",
   "execution_count": 0,
   "metadata": {
    "application/vnd.databricks.v1+cell": {
     "cellMetadata": {
      "byteLimit": 2048000,
      "rowLimit": 10000
     },
     "inputWidgets": {},
     "nuid": "4d0f0497-7dac-4c59-a890-956e5f286332",
     "showTitle": false,
     "tableResultSettingsMap": {},
     "title": ""
    }
   },
   "outputs": [],
   "source": [
    "# Load data from Unity Catalog\n",
    "cosmetic_df = spark.read.table(cosmetic_store_table)\n",
    "reviews_df = spark.read.table(reviews_table)\n",
    "mapping_df = spark.read.table(mapping_table)"
   ]
  },
  {
   "cell_type": "markdown",
   "metadata": {
    "application/vnd.databricks.v1+cell": {
     "cellMetadata": {},
     "inputWidgets": {},
     "nuid": "d4d42f92-ab1a-44f0-a708-af2ad0d50e12",
     "showTitle": false,
     "tableResultSettingsMap": {},
     "title": ""
    }
   },
   "source": [
    "## Data Transformation"
   ]
  },
  {
   "cell_type": "code",
   "execution_count": 0,
   "metadata": {
    "application/vnd.databricks.v1+cell": {
     "cellMetadata": {
      "byteLimit": 2048000,
      "rowLimit": 10000
     },
     "inputWidgets": {},
     "nuid": "42747ab9-aa9f-402b-8c2f-006d5b05cec4",
     "showTitle": false,
     "tableResultSettingsMap": {},
     "title": ""
    }
   },
   "outputs": [],
   "source": [
    "# Sometimes the scripts dont get updated here, so this should do it\n",
    "import importlib\n",
    "from scripts import data_transformation\n",
    "\n",
    "# Reload the module\n",
    "importlib.reload(data_transformation)\n",
    "from scripts.data_transformation import transform_cosmetic_data, transform_reviews_data, transform_mapping_data"
   ]
  },
  {
   "cell_type": "code",
   "execution_count": 0,
   "metadata": {
    "application/vnd.databricks.v1+cell": {
     "cellMetadata": {
      "byteLimit": 2048000,
      "rowLimit": 10000
     },
     "inputWidgets": {},
     "nuid": "9199935d-9842-4444-b809-1697f74cbd14",
     "showTitle": false,
     "tableResultSettingsMap": {},
     "title": ""
    }
   },
   "outputs": [],
   "source": [
    "transformed_cosmetic_df = transform_cosmetic_data(cosmetic_df)\n",
    "transformed_reviews_df = transform_reviews_data(reviews_df)\n",
    "transformed_mapping_df = transform_mapping_data(mapping_df)"
   ]
  },
  {
   "cell_type": "code",
   "execution_count": 0,
   "metadata": {
    "application/vnd.databricks.v1+cell": {
     "cellMetadata": {},
     "inputWidgets": {},
     "nuid": "92d65317-624e-4315-80cf-5b643f5dc91a",
     "showTitle": false,
     "tableResultSettingsMap": {},
     "title": ""
    }
   },
   "outputs": [],
   "source": [
    "transformed_cosmetic_df.write.format(\"delta\").mode(\"overwrite\").option(\"overwriteSchema\", \"true\").saveAsTable(cosmetic_store_table)\n",
    "\n",
    "transformed_reviews_df.write.format(\"delta\").mode(\"overwrite\").option(\"overwriteSchema\", \"true\").saveAsTable(reviews_table)\n",
    "\n",
    "transformed_mapping_df.write.format(\"delta\").mode(\"overwrite\").option(\"overwriteSchema\", \"true\").saveAsTable(mapping_table)"
   ]
  },
  {
   "cell_type": "code",
   "execution_count": 0,
   "metadata": {
    "application/vnd.databricks.v1+cell": {
     "cellMetadata": {
      "byteLimit": 2048000,
      "rowLimit": 10000
     },
     "inputWidgets": {},
     "nuid": "b0a94e9f-f879-4cdf-903f-01e246b4380a",
     "showTitle": false,
     "tableResultSettingsMap": {},
     "title": ""
    }
   },
   "outputs": [],
   "source": [
    "transformed_cosmetic_df.show(5)\n",
    "transformed_mapping_df.show(5)\n",
    "transformed_reviews_df.show(5)\n"
   ]
  },
  {
   "cell_type": "markdown",
   "metadata": {
    "application/vnd.databricks.v1+cell": {
     "cellMetadata": {},
     "inputWidgets": {},
     "nuid": "5be90d08-8f7b-44e6-add6-65e62a1de337",
     "showTitle": false,
     "tableResultSettingsMap": {},
     "title": ""
    }
   },
   "source": [
    "## Feature Engineering"
   ]
  },
  {
   "cell_type": "code",
   "execution_count": 0,
   "metadata": {
    "application/vnd.databricks.v1+cell": {
     "cellMetadata": {
      "byteLimit": 2048000,
      "rowLimit": 10000
     },
     "inputWidgets": {},
     "nuid": "59244d15-c7bc-49ea-ad4b-19acee8b3cf1",
     "showTitle": false,
     "tableResultSettingsMap": {},
     "title": ""
    }
   },
   "outputs": [],
   "source": [
    "# Sometimes the scripts dont get updated here, so this should do it\n",
    "import importlib\n",
    "from scripts import feature_engineering\n",
    "\n",
    "# Reload the module\n",
    "importlib.reload(feature_engineering)\n",
    "from scripts.feature_engineering import process_reviews_df, add_customer_engagement, add_predictor_features"
   ]
  },
  {
   "cell_type": "markdown",
   "metadata": {
    "application/vnd.databricks.v1+cell": {
     "cellMetadata": {},
     "inputWidgets": {},
     "nuid": "a2f35f35-7535-4579-bcc5-1ce0325db970",
     "showTitle": false,
     "tableResultSettingsMap": {},
     "title": ""
    }
   },
   "source": [
    "### Process unstructured data (reviews)"
   ]
  },
  {
   "cell_type": "code",
   "execution_count": 0,
   "metadata": {
    "application/vnd.databricks.v1+cell": {
     "cellMetadata": {
      "byteLimit": 2048000,
      "rowLimit": 10000
     },
     "inputWidgets": {},
     "nuid": "ae0e6e67-01cb-4486-97f0-eee0148f0034",
     "showTitle": false,
     "tableResultSettingsMap": {},
     "title": ""
    }
   },
   "outputs": [],
   "source": [
    "reviews_df = process_reviews_df(reviews_df)"
   ]
  },
  {
   "cell_type": "markdown",
   "metadata": {
    "application/vnd.databricks.v1+cell": {
     "cellMetadata": {},
     "inputWidgets": {},
     "nuid": "bf3acb0c-924c-4287-8c23-10ae3ca3ff1a",
     "showTitle": false,
     "tableResultSettingsMap": {},
     "title": ""
    }
   },
   "source": [
    "### Add outcome variable (Y)"
   ]
  },
  {
   "cell_type": "code",
   "execution_count": 0,
   "metadata": {
    "application/vnd.databricks.v1+cell": {
     "cellMetadata": {
      "byteLimit": 2048000,
      "rowLimit": 10000
     },
     "inputWidgets": {},
     "nuid": "bb357225-5294-40fb-9e23-b58bc9894497",
     "showTitle": false,
     "tableResultSettingsMap": {},
     "title": ""
    }
   },
   "outputs": [],
   "source": [
    "cosmetic_df = add_customer_engagement(cosmetic_df)"
   ]
  },
  {
   "cell_type": "markdown",
   "metadata": {
    "application/vnd.databricks.v1+cell": {
     "cellMetadata": {},
     "inputWidgets": {},
     "nuid": "57c334c6-d980-4bf9-96c5-d78eecab702f",
     "showTitle": false,
     "tableResultSettingsMap": {},
     "title": ""
    }
   },
   "source": [
    "### Add predictor variables (X)"
   ]
  },
  {
   "cell_type": "code",
   "execution_count": 0,
   "metadata": {
    "application/vnd.databricks.v1+cell": {
     "cellMetadata": {
      "byteLimit": 2048000,
      "rowLimit": 10000
     },
     "inputWidgets": {},
     "nuid": "a0446046-200d-4d0e-8f00-5636275b94a4",
     "showTitle": false,
     "tableResultSettingsMap": {},
     "title": ""
    }
   },
   "outputs": [],
   "source": [
    "cosmetic_df = add_predictor_features(cosmetic_df)"
   ]
  },
  {
   "cell_type": "code",
   "execution_count": 0,
   "metadata": {
    "application/vnd.databricks.v1+cell": {
     "cellMetadata": {
      "byteLimit": 2048000,
      "rowLimit": 10000
     },
     "inputWidgets": {},
     "nuid": "fc3e8285-6ddc-4920-b737-f2d06ac2c95b",
     "showTitle": false,
     "tableResultSettingsMap": {},
     "title": ""
    }
   },
   "outputs": [],
   "source": [
    "reviews_df.show(5)\n",
    "cosmetic_df.show(5)"
   ]
  },
  {
   "cell_type": "markdown",
   "metadata": {
    "application/vnd.databricks.v1+cell": {
     "cellMetadata": {},
     "inputWidgets": {},
     "nuid": "975b3b50-b755-43ef-8a73-b1b155384953",
     "showTitle": false,
     "tableResultSettingsMap": {},
     "title": ""
    }
   },
   "source": [
    "## Baseline Model for Product Recommendation"
   ]
  },
  {
   "cell_type": "code",
   "execution_count": 0,
   "metadata": {
    "application/vnd.databricks.v1+cell": {
     "cellMetadata": {
      "byteLimit": 2048000,
      "rowLimit": 10000
     },
     "inputWidgets": {},
     "nuid": "b53a6033-0cf3-4837-8e11-19061c29ae07",
     "showTitle": false,
     "tableResultSettingsMap": {},
     "title": ""
    }
   },
   "outputs": [],
   "source": [
    "# Sometimes the scripts dont get updated here, so this should do it\n",
    "import importlib\n",
    "from scripts import baseline_model\n",
    "\n",
    "# Reload the module\n",
    "importlib.reload(baseline_model)\n",
    "from scripts.baseline_model import generate_cosine_sim_recs, run_fp_growth, run_als_recommender"
   ]
  },
  {
   "cell_type": "code",
   "execution_count": 0,
   "metadata": {
    "application/vnd.databricks.v1+cell": {
     "cellMetadata": {
      "byteLimit": 2048000,
      "rowLimit": 10000
     },
     "inputWidgets": {},
     "nuid": "831e28c3-8273-473a-bef9-97ea6c8a9e51",
     "showTitle": false,
     "tableResultSettingsMap": {},
     "title": ""
    }
   },
   "outputs": [],
   "source": [
    "purchase_df = transformed_cosmetic_df.filter(transformed_cosmetic_df['event_type'] == 'purchase')\n",
    "purchase_df = purchase_df.withColumn(\"product_quantity\", lit(1))"
   ]
  },
  {
   "cell_type": "code",
   "execution_count": 0,
   "metadata": {
    "application/vnd.databricks.v1+cell": {
     "cellMetadata": {
      "byteLimit": 2048000,
      "rowLimit": 10000
     },
     "inputWidgets": {},
     "nuid": "0b661208-275a-4fda-ab0b-ce6dfc84cae3",
     "showTitle": false,
     "tableResultSettingsMap": {},
     "title": ""
    }
   },
   "outputs": [],
   "source": [
    "# Convert PySpark DataFrame to pandas DataFrame\n",
    "purchase_df_pandas = purchase_df.toPandas()"
   ]
  },
  {
   "cell_type": "code",
   "execution_count": 0,
   "metadata": {
    "application/vnd.databricks.v1+cell": {
     "cellMetadata": {
      "byteLimit": 2048000,
      "rowLimit": 10000
     },
     "inputWidgets": {},
     "nuid": "cd2db492-d961-4e15-9bcf-db38584b6fee",
     "showTitle": false,
     "tableResultSettingsMap": {},
     "title": ""
    }
   },
   "outputs": [],
   "source": [
    "# Generate Cosine Similarity Recommendations\n",
    "prod_recs = generate_cosine_sim_recs(\n",
    "    df=purchase_df_pandas,\n",
    "    filename=\"product_recs_cosine_similarity.csv\",\n",
    "    rows=\"user_session\",\n",
    "    cols=\"cosmetic_product_id\",\n",
    "    quantity=\"product_quantity\",\n",
    "    top=11\n",
    ")\n"
   ]
  },
  {
   "cell_type": "code",
   "execution_count": 0,
   "metadata": {
    "application/vnd.databricks.v1+cell": {
     "cellMetadata": {},
     "inputWidgets": {},
     "nuid": "e93125a1-ccf5-49aa-a3eb-197f59b1b321",
     "showTitle": false,
     "tableResultSettingsMap": {},
     "title": ""
    }
   },
   "outputs": [],
   "source": [
    "check_cosine_sim_recs_output(prod_recs)"
   ]
  },
  {
   "cell_type": "code",
   "execution_count": 0,
   "metadata": {
    "application/vnd.databricks.v1+cell": {
     "cellMetadata": {
      "byteLimit": 2048000,
      "rowLimit": 10000
     },
     "inputWidgets": {},
     "nuid": "eedc3ca1-778d-404e-861c-d9c5b5b0688e",
     "showTitle": false,
     "tableResultSettingsMap": {},
     "title": ""
    }
   },
   "outputs": [],
   "source": [
    "# Save Recommendations to Unity Catalog\n",
    "prod_recs_spark = spark.createDataFrame(prod_recs)\n",
    "prod_recs_spark = prod_recs_spark.select(\n",
    "    *[col(c).alias(c.replace(\" \", \"_\").replace(\".\", \"_\")) for c in prod_recs_spark.columns]\n",
    ")\n",
    "\n",
    "prod_recs_spark.write.format(\"delta\").mode(\"overwrite\").saveAsTable(\"ecommerces_catalog.recommendation_schema.product_recommendations\")"
   ]
  },
  {
   "cell_type": "code",
   "execution_count": 0,
   "metadata": {
    "application/vnd.databricks.v1+cell": {
     "cellMetadata": {
      "byteLimit": 2048000,
      "rowLimit": 10000
     },
     "inputWidgets": {},
     "nuid": "d14c9a3e-2892-449c-9a95-aaea20296632",
     "showTitle": false,
     "tableResultSettingsMap": {},
     "title": ""
    }
   },
   "outputs": [],
   "source": [
    "# Generate FP-Growth\n",
    "frequent_itemsets, association_rules = run_fp_growth(\n",
    "    purchase_df,\n",
    "    min_support=0.001,\n",
    "    min_confidence=0.1\n",
    ")"
   ]
  },
  {
   "cell_type": "code",
   "execution_count": 0,
   "metadata": {
    "application/vnd.databricks.v1+cell": {
     "cellMetadata": {},
     "inputWidgets": {},
     "nuid": "529fbe79-6da6-4c79-8521-11c6636a28b4",
     "showTitle": false,
     "tableResultSettingsMap": {},
     "title": ""
    }
   },
   "outputs": [],
   "source": [
    "check_fp_growth_output(frequent_itemsets, association_rules)"
   ]
  },
  {
   "cell_type": "code",
   "execution_count": 0,
   "metadata": {
    "application/vnd.databricks.v1+cell": {
     "cellMetadata": {
      "byteLimit": 2048000,
      "rowLimit": 10000
     },
     "inputWidgets": {},
     "nuid": "3bde271a-730b-44ea-b98b-e594907e885d",
     "showTitle": false,
     "tableResultSettingsMap": {},
     "title": ""
    }
   },
   "outputs": [],
   "source": [
    "# Save Frequent Itemsets to Unity Catalog\n",
    "frequent_itemsets_spark = spark.createDataFrame(frequent_itemsets)\n",
    "frequent_itemsets_spark.write.format(\"delta\").mode(\"overwrite\").saveAsTable(\"ecommerces_catalog.recommendation_schema.frequent_itemsets\")\n",
    "\n",
    "# Save Association Rules to Unity Catalog\n",
    "association_rules_spark = spark.createDataFrame(association_rules)\n",
    "association_rules_spark.write.format(\"delta\").mode(\"overwrite\").saveAsTable(\"ecommerces_catalog.recommendation_schema.association_rules\")"
   ]
  },
  {
   "cell_type": "code",
   "execution_count": 0,
   "metadata": {
    "application/vnd.databricks.v1+cell": {
     "cellMetadata": {
      "byteLimit": 2048000,
      "rowLimit": 10000
     },
     "inputWidgets": {},
     "nuid": "49219cac-284a-4c9c-9ba2-9f023720cb68",
     "showTitle": false,
     "tableResultSettingsMap": {},
     "title": ""
    }
   },
   "outputs": [],
   "source": [
    "# Gnerate ALS recommender\n",
    "model, user_recs, item_recs = run_als_recommender(purchase_df)"
   ]
  },
  {
   "cell_type": "code",
   "execution_count": 0,
   "metadata": {
    "application/vnd.databricks.v1+cell": {
     "cellMetadata": {},
     "inputWidgets": {},
     "nuid": "bb6ed0e4-73d8-493b-8153-7614a37f2227",
     "showTitle": false,
     "tableResultSettingsMap": {},
     "title": ""
    }
   },
   "outputs": [],
   "source": [
    "check_als_output(model, user_recs, item_recs)"
   ]
  },
  {
   "cell_type": "code",
   "execution_count": 0,
   "metadata": {
    "application/vnd.databricks.v1+cell": {
     "cellMetadata": {
      "byteLimit": 2048000,
      "rowLimit": 10000
     },
     "inputWidgets": {},
     "nuid": "d25d9839-728c-4f21-90cc-d7105c07cfd4",
     "showTitle": false,
     "tableResultSettingsMap": {},
     "title": ""
    }
   },
   "outputs": [],
   "source": [
    "# Save User Recommendations to Unity Catalog\n",
    "user_rec_spark = spark.createDataFrame(user_recs)\n",
    "user_rec_spark.write.format(\"delta\").mode(\"overwrite\").saveAsTable(\"ecommerces_catalog.recommendation_schema.als_user_recs\")\n",
    "\n",
    "# Save Item Recommendations to Unity Catalog\n",
    "item_recs_spark = spark.createDataFrame(item_recs)\n",
    "item_recs_spark.write.format(\"delta\").mode(\"overwrite\").saveAsTable(\"ecommerces_catalog.recommendation_schema.als_item_recs\")"
   ]
  },
  {
   "cell_type": "code",
   "execution_count": 0,
   "metadata": {
    "application/vnd.databricks.v1+cell": {
     "cellMetadata": {
      "byteLimit": 2048000,
      "rowLimit": 10000
     },
     "inputWidgets": {},
     "nuid": "c17a3665-60be-4716-9d73-54a9eb85a880",
     "showTitle": false,
     "tableResultSettingsMap": {},
     "title": ""
    }
   },
   "outputs": [],
   "source": [
    "# Display results\n",
    "print(prod_recs.head())\n",
    "print(frequent_itemsets.head())\n",
    "print(association_rules.head())\n",
    "print(user_recs.head())\n",
    "print(item_recs.head())"
   ]
  },
  {
   "cell_type": "markdown",
   "metadata": {
    "application/vnd.databricks.v1+cell": {
     "cellMetadata": {},
     "inputWidgets": {},
     "nuid": "42e33a6f-5a25-47c8-a816-7ab8a847d767",
     "showTitle": false,
     "tableResultSettingsMap": {},
     "title": ""
    }
   },
   "source": [
    "## Product Embedding"
   ]
  },
  {
   "cell_type": "code",
   "execution_count": 0,
   "metadata": {
    "application/vnd.databricks.v1+cell": {
     "cellMetadata": {
      "byteLimit": 2048000,
      "rowLimit": 10000
     },
     "inputWidgets": {},
     "nuid": "c430d9b8-c03b-4f49-a437-4b967a7fd09e",
     "showTitle": false,
     "tableResultSettingsMap": {},
     "title": ""
    }
   },
   "outputs": [],
   "source": [
    "# Sometimes the scripts dont get updated here, so this should do it\n",
    "import importlib\n",
    "from scripts import product_embedding\n",
    "\n",
    "# Reload the module\n",
    "importlib.reload(product_embedding)\n",
    "from scripts.product_embedding import generate_review_embeddings, combine_review_embeddings, get_minilm_embeddings"
   ]
  },
  {
   "cell_type": "code",
   "execution_count": 0,
   "metadata": {
    "application/vnd.databricks.v1+cell": {
     "cellMetadata": {
      "byteLimit": 2048000,
      "rowLimit": 10000
     },
     "inputWidgets": {},
     "nuid": "430d0978-9264-41c2-9aa0-4c050f1006e5",
     "showTitle": false,
     "tableResultSettingsMap": {},
     "title": ""
    }
   },
   "outputs": [],
   "source": [
    "# Generate embeddings for reviews\n",
    "reviews_with_embeddings = generate_review_embeddings(reviews_df, use_gpu=True)\n"
   ]
  },
  {
   "cell_type": "code",
   "execution_count": 0,
   "metadata": {
    "application/vnd.databricks.v1+cell": {
     "cellMetadata": {
      "byteLimit": 2048000,
      "rowLimit": 10000
     },
     "inputWidgets": {},
     "nuid": "1fcbb3c6-0d9c-4877-8633-ac3658e91a72",
     "showTitle": false,
     "tableResultSettingsMap": {},
     "title": ""
    }
   },
   "outputs": [],
   "source": [
    "# Combine title and text embeddings\n",
    "reviews_with_combined_embeddings = combine_review_embeddings(reviews_with_embeddings)"
   ]
  },
  {
   "cell_type": "code",
   "execution_count": 0,
   "metadata": {
    "application/vnd.databricks.v1+cell": {
     "cellMetadata": {
      "byteLimit": 2048000,
      "rowLimit": 10000
     },
     "inputWidgets": {},
     "nuid": "18b159dc-bca4-4f14-9412-c6ace15f5eff",
     "showTitle": false,
     "tableResultSettingsMap": {},
     "title": ""
    }
   },
   "outputs": [],
   "source": [
    "# results of just Embedding\n",
    "embeddings_df = reviews_with_combined_embeddings.select(\n",
    "    \"review_title_embedding\", \n",
    "    \"review_text_embedding\", \n",
    "    \"combined_embedding\"\n",
    ").toPandas()\n",
    "\n",
    "print(embeddings_df)"
   ]
  },
  {
   "cell_type": "code",
   "execution_count": 0,
   "metadata": {
    "application/vnd.databricks.v1+cell": {
     "cellMetadata": {
      "byteLimit": 2048000,
      "rowLimit": 10000
     },
     "inputWidgets": {},
     "nuid": "0c814555-86f8-4bac-bc24-cd0f0f8aada3",
     "showTitle": false,
     "tableResultSettingsMap": {},
     "title": ""
    }
   },
   "outputs": [],
   "source": [
    "reviews_with_clean_display = reviews_with_combined_embeddings \\\n",
    "    .withColumn(\"title_embedding_length\", size(\"review_title_embedding\")) \\\n",
    "    .withColumn(\"text_embedding_length\", size(\"review_text_embedding\")) \\\n",
    "    .withColumn(\"combined_embedding_length\", size(\"combined_embedding\")) \\\n",
    "    .withColumn(\"short_title\", substring(\"review_title_clean\", 1, 50)) \\\n",
    "    .withColumn(\"short_text\", substring(\"review_text_clean\", 1, 100))\n",
    "\n",
    "columns_to_display = [\n",
    "    \"review_product_id\",\n",
    "    \"short_title\",\n",
    "    \"short_text\",\n",
    "    \"title_embedding_length\",\n",
    "    \"text_embedding_length\",\n",
    "    \"combined_embedding_length\"\n",
    "]\n",
    "\n",
    "# Cleaned-up results\n",
    "reviews_with_clean_display.select(columns_to_display).show(5, truncate=False)"
   ]
  },
  {
   "cell_type": "code",
   "execution_count": 0,
   "metadata": {
    "application/vnd.databricks.v1+cell": {
     "cellMetadata": {
      "byteLimit": 2048000,
      "rowLimit": 10000
     },
     "inputWidgets": {},
     "nuid": "a11b4194-00d2-41f1-884b-84802974045b",
     "showTitle": false,
     "tableResultSettingsMap": {},
     "title": ""
    }
   },
   "outputs": [],
   "source": [
    "# Step 3: Save embeddings to Unity Catalog\n",
    "reviews_with_combined_embeddings.write.format(\"delta\").mode(\"overwrite\").saveAsTable(\"ecommerces_catalog.recommendation_schema.product_embeddings\")"
   ]
  },
  {
   "cell_type": "markdown",
   "metadata": {
    "application/vnd.databricks.v1+cell": {
     "cellMetadata": {},
     "inputWidgets": {},
     "nuid": "f7ed5ab7-4e71-47dd-81ff-76fa2f235458",
     "showTitle": false,
     "tableResultSettingsMap": {},
     "title": ""
    }
   },
   "source": []
  }
 ],
 "metadata": {
  "application/vnd.databricks.v1+notebook": {
   "computePreferences": null,
   "dashboards": [],
   "environmentMetadata": {
    "base_environment": "",
    "client": "1"
   },
   "language": "python",
   "notebookMetadata": {
    "mostRecentlyExecutedCommandWithImplicitDF": {
     "commandId": 1697515968900715,
     "dataframes": [
      "_sqldf"
     ]
    },
    "pythonIndentUnit": 4
   },
   "notebookName": "Main_Notebook",
   "widgets": {}
  },
  "language_info": {
   "name": "python"
  }
 },
 "nbformat": 4,
 "nbformat_minor": 0
}

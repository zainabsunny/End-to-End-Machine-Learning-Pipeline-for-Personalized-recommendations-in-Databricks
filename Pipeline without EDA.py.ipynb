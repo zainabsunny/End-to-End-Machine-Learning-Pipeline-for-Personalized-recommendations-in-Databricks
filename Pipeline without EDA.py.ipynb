{
 "cells": [
  {
   "cell_type": "markdown",
   "metadata": {
    "application/vnd.databricks.v1+cell": {
     "cellMetadata": {
      "byteLimit": 2048000,
      "rowLimit": 10000
     },
     "inputWidgets": {},
     "nuid": "4877de4d-886a-41f9-975f-5a9fdc56e059",
     "showTitle": false,
     "tableResultSettingsMap": {},
     "title": ""
    }
   },
   "source": [
    "#Royal Cybers: End-to-End Machine Learning Pipeline for Personalized recommendations in Databricks "
   ]
  },
  {
   "cell_type": "markdown",
   "metadata": {
    "application/vnd.databricks.v1+cell": {
     "cellMetadata": {
      "byteLimit": 2048000,
      "rowLimit": 10000
     },
     "inputWidgets": {},
     "nuid": "bfb046b3-c3b2-4590-9352-9a777e64cdab",
     "showTitle": false,
     "tableResultSettingsMap": {},
     "title": ""
    }
   },
   "source": [
    "## Load Dataset"
   ]
  },
  {
   "cell_type": "code",
   "execution_count": 0,
   "metadata": {
    "application/vnd.databricks.v1+cell": {
     "cellMetadata": {
      "byteLimit": 2048000,
      "rowLimit": 10000
     },
     "inputWidgets": {},
     "nuid": "ed682441-c7e6-4c25-9533-eedb89afb21f",
     "showTitle": false,
     "tableResultSettingsMap": {},
     "title": ""
    }
   },
   "outputs": [],
   "source": [
    "# Load Dataset from S3 Bucket\n",
    "cosmetic_store_data_path = \"s3://e-commerce-pipeline-dataset/Cosmetic Store Website Data.csv\"\n",
    "reviews_data_path = \"s3://e-commerce-pipeline-dataset/nyka_top_brands_cosmetics_product_reviews.csv\"\n",
    "product_mapping_path = \"s3://e-commerce-pipeline-dataset/unique_product_id_pairings.csv\"\n",
    "\n",
    "cosmetic_df = spark.read.csv(cosmetic_store_data_path, header=True, inferSchema=True)\n",
    "reviews_df = spark.read.csv(reviews_data_path, header=True, inferSchema=True)\n",
    "mapping_df = spark.read.csv(product_mapping_path, header=True, inferSchema=True)"
   ]
  },
  {
   "cell_type": "code",
   "execution_count": 0,
   "metadata": {
    "application/vnd.databricks.v1+cell": {
     "cellMetadata": {
      "byteLimit": 2048000,
      "rowLimit": 10000
     },
     "inputWidgets": {},
     "nuid": "f971cc38-9231-4661-907c-4f7437e4a25a",
     "showTitle": false,
     "tableResultSettingsMap": {},
     "title": ""
    }
   },
   "outputs": [
    {
     "output_type": "stream",
     "name": "stdout",
     "output_type": "stream",
     "text": [
      "+-------------------+----------+----------+-------------------+-------------+--------+-----+---------+--------------------+\n|         event_time|event_type|product_id|        category_id|category_code|   brand|price|  user_id|        user_session|\n+-------------------+----------+----------+-------------------+-------------+--------+-----+---------+--------------------+\n|2020-01-01 00:00:00|      view|   5809910|1602943681873052386|         NULL| grattol| 5.24|595414620|4adb70bb-edbd-498...|\n|2020-01-01 00:00:09|      view|   5812943|1487580012121948301|         NULL|kinetics| 3.97|595414640|c8c5205d-be43-4f1...|\n|2020-01-01 00:00:19|      view|   5798924|1783999068867920626|         NULL|  zinger| 3.97|595412617|46a5010f-bd69-4fb...|\n|2020-01-01 00:00:24|      view|   5793052|1487580005754995573|         NULL|    NULL| 4.92|420652863|546f6af3-a517-475...|\n|2020-01-01 00:00:25|      view|   5899926|2115334439910245200|         NULL|    NULL| 3.92|484071203|cff70ddf-529e-4b0...|\n+-------------------+----------+----------+-------------------+-------------+--------+-----+---------+--------------------+\nonly showing top 5 rows\n\n"
     ]
    }
   ],
   "source": [
    "cosmetic_df.show(5)"
   ]
  },
  {
   "cell_type": "code",
   "execution_count": 0,
   "metadata": {
    "application/vnd.databricks.v1+cell": {
     "cellMetadata": {
      "byteLimit": 2048000,
      "rowLimit": 10000
     },
     "inputWidgets": {},
     "nuid": "a594749a-9e89-4402-8f34-55f56c361f8c",
     "showTitle": false,
     "tableResultSettingsMap": {},
     "title": ""
    }
   },
   "outputs": [
    {
     "output_type": "stream",
     "name": "stdout",
     "output_type": "stream",
     "text": [
      "+----------+----------+---------+--------------------+--------------------+--------------+-------------------+-------------+----------+--------+--------------+--------------------+----+-----+--------------+--------------------+------------+--------------------+\n|product_id|brand_name|review_id|        review_title|         review_text|        author|        review_date|review_rating|is_a_buyer|pro_user|  review_label|       product_title| mrp|price|product_rating|product_rating_count|product_tags|         product_url|\n+----------+----------+---------+--------------------+--------------------+--------------+-------------------+-------------+----------+--------+--------------+--------------------+----+-----+--------------+--------------------+------------+--------------------+\n|    781070|      Olay| 16752142|Worth buying 50g one|Works as it claim...| Ashton Dsouza|2021-01-23 15:17:18|          5.0|      True|   False|Verified Buyer|Olay Ultra Lightw...|1999| 1599|           4.1|                  43|        NULL|https://www.nykaa...|\n|    781070|      Olay| 14682550|Best cream to sta...|It does what it c...|  Amrit Neelam|2020-09-07 15:30:42|          5.0|      True|   False|Verified Buyer|Olay Ultra Lightw...|1999| 1599|           4.1|                  43|        NULL|https://www.nykaa...|\n|    781070|      Olay| 15618995|perfect for summe...|I have been using...|  Sanchi Gupta|2020-11-13 12:24:14|          4.0|      True|   False|Verified Buyer|Olay Ultra Lightw...|1999| 1599|           4.1|                  43|        NULL|https://www.nykaa...|\n|    781070|      Olay| 13474509|   Not a moisturizer|i have an oily sk...|    Ruchi Shah|2020-06-14 11:56:50|          3.0|      True|   False|Verified Buyer|Olay Ultra Lightw...|1999| 1599|           4.1|                  43|        NULL|https://www.nykaa...|\n|    781070|      Olay| 16338982|             Average|It's not that goo...|Sukanya Sarkar|2020-12-22 15:24:35|          2.0|      True|   False|Verified Buyer|Olay Ultra Lightw...|1999| 1599|           4.1|                  43|        NULL|https://www.nykaa...|\n+----------+----------+---------+--------------------+--------------------+--------------+-------------------+-------------+----------+--------+--------------+--------------------+----+-----+--------------+--------------------+------------+--------------------+\nonly showing top 5 rows\n\n"
     ]
    }
   ],
   "source": [
    "reviews_df.show(5)"
   ]
  },
  {
   "cell_type": "code",
   "execution_count": 0,
   "metadata": {
    "application/vnd.databricks.v1+cell": {
     "cellMetadata": {
      "byteLimit": 2048000,
      "rowLimit": 10000
     },
     "inputWidgets": {},
     "nuid": "d698ced0-0928-4031-b288-6cc39e8a5623",
     "showTitle": false,
     "tableResultSettingsMap": {},
     "title": ""
    }
   },
   "outputs": [
    {
     "output_type": "stream",
     "name": "stdout",
     "output_type": "stream",
     "text": [
      "+-----------------+------------------+\n|product_id_events|product_id_reviews|\n+-----------------+------------------+\n|            11719|            209281|\n|            15161|           2645330|\n|            16686|           3445855|\n|            27658|           4749403|\n|            34768|            995305|\n+-----------------+------------------+\nonly showing top 5 rows\n\n"
     ]
    }
   ],
   "source": [
    "mapping_df.show(5)"
   ]
  },
  {
   "cell_type": "markdown",
   "metadata": {
    "application/vnd.databricks.v1+cell": {
     "cellMetadata": {
      "byteLimit": 2048000,
      "rowLimit": 10000
     },
     "inputWidgets": {},
     "nuid": "fbcdf1c9-7002-4d0c-a457-a63988acc1a7",
     "showTitle": false,
     "tableResultSettingsMap": {},
     "title": ""
    }
   },
   "source": [
    "%md\n",
    "## Initial Data Cleaning"
   ]
  },
  {
   "cell_type": "code",
   "execution_count": 0,
   "metadata": {
    "application/vnd.databricks.v1+cell": {
     "cellMetadata": {
      "byteLimit": 2048000,
      "rowLimit": 10000
     },
     "inputWidgets": {},
     "nuid": "6393ad56-0b90-4952-a7e7-e9fa6270725e",
     "showTitle": false,
     "tableResultSettingsMap": {},
     "title": ""
    }
   },
   "outputs": [],
   "source": [
    "# Drop Duplicates\n",
    "cosmetic_df = cosmetic_df.dropDuplicates()\n",
    "reviews_df = reviews_df.dropDuplicates()\n",
    "mapping_df = mapping_df.dropDuplicates()"
   ]
  },
  {
   "cell_type": "code",
   "execution_count": 0,
   "metadata": {
    "application/vnd.databricks.v1+cell": {
     "cellMetadata": {
      "byteLimit": 2048000,
      "rowLimit": 10000
     },
     "inputWidgets": {},
     "nuid": "a2fb34e1-06cb-44ad-882e-a7bbe35c821d",
     "showTitle": false,
     "tableResultSettingsMap": {},
     "title": ""
    }
   },
   "outputs": [],
   "source": [
    "# Standardizing column names\n",
    "cosmetic_df = cosmetic_df.withColumnRenamed(\"product_id\", \"cosmeticProductId\") \\\n",
    "                         .withColumnRenamed(\"price\", \"cosmetic_price\") \n",
    "\n",
    "reviews_df = reviews_df.withColumnRenamed(\"product_id\", \"reviewProductId\") \\\n",
    "                       .withColumnRenamed(\"price\", \"review_price\")\n",
    "\n",
    "mapping_df = mapping_df.withColumnRenamed(\"product_id_events\", \"cosmeticProductId\") \\\n",
    "                       .withColumnRenamed(\"product_id_reviews\", \"reviewProductId\")"
   ]
  },
  {
   "cell_type": "code",
   "execution_count": 0,
   "metadata": {
    "application/vnd.databricks.v1+cell": {
     "cellMetadata": {
      "byteLimit": 2048000,
      "rowLimit": 10000
     },
     "inputWidgets": {},
     "nuid": "18657a06-e573-44a3-b8f3-0b1a02a82fbb",
     "showTitle": false,
     "tableResultSettingsMap": {},
     "title": ""
    }
   },
   "outputs": [],
   "source": [
    "# Drop unnecessary columns and fill missing values\n",
    "cosmetic_df = cosmetic_df.filter(cosmetic_df['cosmetic_price'] > 0)\n",
    "\n",
    "mapping_df = mapping_df.na.drop()"
   ]
  },
  {
   "cell_type": "code",
   "execution_count": 0,
   "metadata": {
    "application/vnd.databricks.v1+cell": {
     "cellMetadata": {
      "byteLimit": 2048000,
      "rowLimit": 10000
     },
     "inputWidgets": {},
     "nuid": "6741e548-671e-41d7-98e9-9613d3f33078",
     "showTitle": false,
     "tableResultSettingsMap": {},
     "title": ""
    }
   },
   "outputs": [],
   "source": [
    "from pyspark.sql.functions import udf\n",
    "from pyspark.sql.types import StringType\n",
    "import pandas as pd\n",
    "import re\n",
    "import nltk\n",
    "from nltk.corpus import stopwords"
   ]
  },
  {
   "cell_type": "code",
   "execution_count": 0,
   "metadata": {
    "application/vnd.databricks.v1+cell": {
     "cellMetadata": {
      "byteLimit": 2048000,
      "rowLimit": 10000
     },
     "inputWidgets": {},
     "nuid": "13270b75-5526-47a1-a2bc-277d0523e572",
     "showTitle": false,
     "tableResultSettingsMap": {},
     "title": ""
    }
   },
   "outputs": [
    {
     "output_type": "stream",
     "name": "stderr",
     "output_type": "stream",
     "text": [
      "[nltk_data] Downloading package stopwords to /root/nltk_data...\n[nltk_data]   Package stopwords is already up-to-date!\n"
     ]
    },
    {
     "output_type": "stream",
     "name": "stdout",
     "output_type": "stream",
     "text": [
      "+------------------+------------------+--------------------+--------------------+\n|      review_title|review_title_clean|         review_text|   review_text_clean|\n+------------------+------------------+--------------------+--------------------+\n|Invisible & Smooth|  invisible smooth|Wore these when I...|wore massive brea...|\n|              Nice|              nice|Works as it claim...|works claims smal...|\n|             Great|             great|It Won't let your...|wont let pimple g...|\n|          Easy fix|          easy fix|This is one easy ...|one easy fix redu...|\n|        Give a try|          give try|This is my first ...|first purchase tr...|\n+------------------+------------------+--------------------+--------------------+\nonly showing top 5 rows\n\n"
     ]
    }
   ],
   "source": [
    "nltk.download('stopwords')\n",
    "stop_words = set(stopwords.words('english'))\n",
    "\n",
    "def clean_text(text):\n",
    "    if isinstance(text, str):\n",
    "        text = text.lower()\n",
    "        text = text.replace('\\n', ' ')  # Remove new lines\n",
    "        text = text.replace('\\t', ' ')  # Remove tabs\n",
    "        text = text.replace('\\r', ' ')  # Remove returns\n",
    "        text = re.sub(r'[^a-z\\s]', '', text)  # Remove non-alphanumeric characters except spaces\n",
    "        words = text.split()  # Tokenize the text\n",
    "        words = [word for word in words if word not in stop_words]  # Remove stopwords\n",
    "        text = ' '.join(words)  # Combine words back into text\n",
    "        return text.strip()\n",
    "    return text  # Return original value if not a string (e.g., NaN)\n",
    "\n",
    "# Register the clean_text function as a UDF\n",
    "clean_text_udf = udf(clean_text, StringType())\n",
    "\n",
    "# Drop unnecessary columns and handle missing values\n",
    "reviews_df = reviews_df.drop(\"product_tags\")\n",
    "reviews_df = reviews_df.fillna({\n",
    "    'review_text': 'No review', \n",
    "    'brand_name': 'Unknown', \n",
    "    'review_label': 'No Label',\n",
    "    'product_title': 'Unknown Title'\n",
    "})\n",
    "\n",
    "# Apply the UDF to clean the review_title and review_text columns\n",
    "reviews_df = reviews_df.withColumn(\"review_title_clean\", clean_text_udf(reviews_df[\"review_title\"]))\n",
    "reviews_df = reviews_df.withColumn(\"review_text_clean\", clean_text_udf(reviews_df[\"review_text\"]))\n",
    "\n",
    "# Show the results\n",
    "reviews_df.select(\"review_title\", \"review_title_clean\", \"review_text\", \"review_text_clean\").show(5)\n",
    "\n"
   ]
  },
  {
   "cell_type": "code",
   "execution_count": 0,
   "metadata": {
    "application/vnd.databricks.v1+cell": {
     "cellMetadata": {
      "byteLimit": 2048000,
      "rowLimit": 10000
     },
     "inputWidgets": {},
     "nuid": "a696e1fa-17eb-4fc4-b762-20273538e2b9",
     "showTitle": false,
     "tableResultSettingsMap": {},
     "title": ""
    }
   },
   "outputs": [
    {
     "output_type": "stream",
     "name": "stdout",
     "output_type": "stream",
     "text": [
      "+----------------+-------+\n|      event_type|  count|\n+----------------+-------+\n|        purchase| 263570|\n|            view|2032076|\n|            cart|1126995|\n|remove_from_cart| 609461|\n+----------------+-------+\n\n"
     ]
    }
   ],
   "source": [
    "# Filtering our multi classificaiton \n",
    "valid_events = [\"view\", \"cart\", \"remove_from_cart\", \"purchase\"]\n",
    "cosmetic_df = cosmetic_df.filter(cosmetic_df.event_type.isin(valid_events))\n",
    "\n",
    "cosmetic_df.groupBy(\"event_type\").count().show()"
   ]
  },
  {
   "cell_type": "code",
   "execution_count": 0,
   "metadata": {
    "application/vnd.databricks.v1+cell": {
     "cellMetadata": {
      "byteLimit": 2048000,
      "rowLimit": 10000
     },
     "inputWidgets": {},
     "nuid": "c98559f4-3cb0-4970-a7f2-c6cae9e26d07",
     "showTitle": false,
     "tableResultSettingsMap": {},
     "title": ""
    }
   },
   "outputs": [
    {
     "output_type": "stream",
     "name": "stdout",
     "output_type": "stream",
     "text": [
      "+-------------------+----------+-----------------+-------------------+-------------+--------+--------------+---------+--------------------+\n|         event_time|event_type|cosmeticProductId|        category_id|category_code|   brand|cosmetic_price|  user_id|        user_session|\n+-------------------+----------+-----------------+-------------------+-------------+--------+--------------+---------+--------------------+\n|2020-01-01 00:00:19|      view|          5798924|1783999068867920626|         NULL|  zinger|          3.97|595412617|46a5010f-bd69-4fb...|\n|2020-01-01 00:00:25|      view|          5899926|2115334439910245200|         NULL|    NULL|          3.92|484071203|cff70ddf-529e-4b0...|\n|2020-01-01 00:00:24|      view|          5793052|1487580005754995573|         NULL|    NULL|          4.92|420652863|546f6af3-a517-475...|\n|2020-01-01 00:00:09|      view|          5812943|1487580012121948301|         NULL|kinetics|          3.97|595414640|c8c5205d-be43-4f1...|\n|2020-01-01 00:00:00|      view|          5809910|1602943681873052386|         NULL| grattol|          5.24|595414620|4adb70bb-edbd-498...|\n+-------------------+----------+-----------------+-------------------+-------------+--------+--------------+---------+--------------------+\nonly showing top 5 rows\n\n"
     ]
    }
   ],
   "source": [
    "cosmetic_df.show(5)"
   ]
  },
  {
   "cell_type": "code",
   "execution_count": 0,
   "metadata": {
    "application/vnd.databricks.v1+cell": {
     "cellMetadata": {
      "byteLimit": 2048000,
      "rowLimit": 10000
     },
     "inputWidgets": {},
     "nuid": "b3ef2641-fb77-420d-b755-7491fd838777",
     "showTitle": false,
     "tableResultSettingsMap": {},
     "title": ""
    }
   },
   "outputs": [
    {
     "output_type": "stream",
     "name": "stdout",
     "output_type": "stream",
     "text": [
      "+---------------+--------------+---------+------------------+--------------------+-----------------+-------------------+-------------+----------+--------+--------------+--------------------+---+------------+--------------+--------------------+--------------------+------------------+--------------------+\n|reviewProductId|    brand_name|review_id|      review_title|         review_text|           author|        review_date|review_rating|is_a_buyer|pro_user|  review_label|       product_title|mrp|review_price|product_rating|product_rating_count|         product_url|review_title_clean|   review_text_clean|\n+---------------+--------------+---------+------------------+--------------------+-----------------+-------------------+-------------+----------+--------+--------------+--------------------+---+------------+--------------+--------------------+--------------------+------------------+--------------------+\n|         785729|Nykaa Naturals| 27389259|Invisible & Smooth|Wore these when I...|       zeno hujon|2022-08-04 11:52:27|          5.0|      True|   False|Verified Buyer|Nykaa Skin Secret...|100|          90|           3.8|                8212|https://www.nykaa...|  invisible smooth|wore massive brea...|\n|         785729|Nykaa Naturals| 24414214|              Nice|Works as it claim...|Madhura Jayaraman|2022-04-29 01:10:30|          5.0|      True|   False|Verified Buyer|Nykaa Skin Secret...|100|          90|           3.8|                8212|https://www.nykaa...|              nice|works claims smal...|\n|         785729|Nykaa Naturals| 21447918|             Great|It Won't let your...|    sumi susmitha|2021-11-19 23:35:09|          5.0|      True|   False|Verified Buyer|Nykaa Skin Secret...|100|          90|           3.8|                8212|https://www.nykaa...|             great|wont let pimple g...|\n|         785729|Nykaa Naturals| 29187593|          Easy fix|This is one easy ...|          Latha P|2022-10-07 22:20:40|          5.0|      True|   False|Verified Buyer|Nykaa Skin Secret...|100|          90|           3.8|                8212|https://www.nykaa...|          easy fix|one easy fix redu...|\n|         785729|Nykaa Naturals| 25621869|        Give a try|This is my first ...|   Ramya Jennifer|2022-06-05 22:20:24|          5.0|      True|   False|Verified Buyer|Nykaa Skin Secret...|100|          90|           3.8|                8212|https://www.nykaa...|          give try|first purchase tr...|\n+---------------+--------------+---------+------------------+--------------------+-----------------+-------------------+-------------+----------+--------+--------------+--------------------+---+------------+--------------+--------------------+--------------------+------------------+--------------------+\nonly showing top 5 rows\n\n"
     ]
    }
   ],
   "source": [
    "reviews_df.show(5)"
   ]
  },
  {
   "cell_type": "code",
   "execution_count": 0,
   "metadata": {
    "application/vnd.databricks.v1+cell": {
     "cellMetadata": {
      "byteLimit": 2048000,
      "rowLimit": 10000
     },
     "inputWidgets": {},
     "nuid": "c419e841-8950-4076-be05-5ed8c39ddfe5",
     "showTitle": false,
     "tableResultSettingsMap": {},
     "title": ""
    }
   },
   "outputs": [
    {
     "output_type": "stream",
     "name": "stdout",
     "output_type": "stream",
     "text": [
      "+-----------------+---------------+\n|cosmeticProductId|reviewProductId|\n+-----------------+---------------+\n|            34768|         995305|\n|            15161|        2645330|\n|            16686|        3445855|\n|            19162|        3494214|\n|            11719|         209281|\n+-----------------+---------------+\nonly showing top 5 rows\n\n"
     ]
    }
   ],
   "source": [
    "mapping_df.show(5)"
   ]
  },
  {
   "cell_type": "markdown",
   "metadata": {
    "application/vnd.databricks.v1+cell": {
     "cellMetadata": {
      "byteLimit": 2048000,
      "rowLimit": 10000
     },
     "inputWidgets": {},
     "nuid": "5476b78b-c254-43ad-9c8a-3cb5b053e3a6",
     "showTitle": false,
     "tableResultSettingsMap": {},
     "title": ""
    }
   },
   "source": [
    "## Manage Delta Tables"
   ]
  },
  {
   "cell_type": "code",
   "execution_count": 0,
   "metadata": {
    "application/vnd.databricks.v1+cell": {
     "cellMetadata": {
      "byteLimit": 2048000,
      "rowLimit": 10000
     },
     "inputWidgets": {},
     "nuid": "ebb14923-b09d-43b1-ad60-28668be7fb92",
     "showTitle": false,
     "tableResultSettingsMap": {},
     "title": ""
    }
   },
   "outputs": [],
   "source": [
    "# dbutils.fs.rm(\"dbfs:/mnt/delta/cosmetic_store_data\", True)  # True for recursive delete\n",
    "# dbutils.fs.rm(\"dbfs:/mnt/delta/product_reviews\", True)  # True for recursive delete\n",
    "# dbutils.fs.rm(\"dbfs:/mnt/delta/product_mapping\", True)  # True for recursive delete"
   ]
  },
  {
   "cell_type": "code",
   "execution_count": 0,
   "metadata": {
    "application/vnd.databricks.v1+cell": {
     "cellMetadata": {
      "byteLimit": 2048000,
      "rowLimit": 10000
     },
     "inputWidgets": {},
     "nuid": "07248ca7-cc12-4c5e-8396-04f9a588c3ad",
     "showTitle": false,
     "tableResultSettingsMap": {},
     "title": ""
    }
   },
   "outputs": [],
   "source": [
    "cosmetic_delta_path = \"/mnt/delta/cosmetic_store_data\"\n",
    "reviews_delta_path = \"/mnt/delta/product_reviews\"\n",
    "mapping_delta_path = \"/mnt/delta/product_mapping\""
   ]
  },
  {
   "cell_type": "code",
   "execution_count": 0,
   "metadata": {
    "application/vnd.databricks.v1+cell": {
     "cellMetadata": {
      "byteLimit": 2048000,
      "rowLimit": 10000
     },
     "inputWidgets": {},
     "nuid": "53826c47-db77-49f2-823a-e2d513940525",
     "showTitle": false,
     "tableResultSettingsMap": {},
     "title": ""
    }
   },
   "outputs": [],
   "source": [
    "# Convert each cleaned DataFrame to Delta format\n",
    "cosmetic_df.write.format(\"delta\").mode(\"overwrite\").save(cosmetic_delta_path)\n",
    "reviews_df.write.format(\"delta\").mode(\"overwrite\").option(\"overwriteSchema\", \"true\").save(reviews_delta_path)\n",
    "mapping_df.write.format(\"delta\").mode(\"overwrite\").save(mapping_delta_path)\n"
   ]
  },
  {
   "cell_type": "code",
   "execution_count": 0,
   "metadata": {
    "application/vnd.databricks.v1+cell": {
     "cellMetadata": {
      "byteLimit": 2048000,
      "rowLimit": 10000
     },
     "inputWidgets": {},
     "nuid": "823b873f-05c2-4f54-9872-5cfc6938cf4c",
     "showTitle": false,
     "tableResultSettingsMap": {},
     "title": ""
    }
   },
   "outputs": [],
   "source": [
    "# Load Delta tables directly from paths\n",
    "cosmetic_df = spark.read.format(\"delta\").load(cosmetic_delta_path)\n",
    "reviews_df = spark.read.format(\"delta\").load(reviews_delta_path)\n",
    "mapping_df = spark.read.format(\"delta\").load(mapping_delta_path)\n"
   ]
  },
  {
   "cell_type": "markdown",
   "metadata": {
    "application/vnd.databricks.v1+cell": {
     "cellMetadata": {
      "byteLimit": 2048000,
      "rowLimit": 10000
     },
     "inputWidgets": {},
     "nuid": "de31f89c-b9db-4b9b-b30d-9c9e89936fd4",
     "showTitle": false,
     "tableResultSettingsMap": {},
     "title": ""
    }
   },
   "source": [
    "## Feature Engineering"
   ]
  },
  {
   "cell_type": "markdown",
   "metadata": {
    "application/vnd.databricks.v1+cell": {
     "cellMetadata": {
      "byteLimit": 2048000,
      "rowLimit": 10000
     },
     "inputWidgets": {},
     "nuid": "503e0c32-5f33-4a9c-b4bb-a9028a9cf3e2",
     "showTitle": false,
     "tableResultSettingsMap": {},
     "title": ""
    }
   },
   "source": [
    "### Unstucutred data "
   ]
  },
  {
   "cell_type": "code",
   "execution_count": 0,
   "metadata": {
    "application/vnd.databricks.v1+cell": {
     "cellMetadata": {
      "byteLimit": 2048000,
      "rowLimit": 10000
     },
     "inputWidgets": {},
     "nuid": "af81578c-fcfe-4766-9ee8-9dabe709642b",
     "showTitle": false,
     "tableResultSettingsMap": {},
     "title": ""
    }
   },
   "outputs": [],
   "source": [
    "from pyspark.sql.functions import udf\n",
    "from pyspark.sql.types import StringType\n",
    "from nltk.stem import PorterStemmer, WordNetLemmatizer\n",
    "from nltk.corpus import wordnet\n",
    "from nltk import pos_tag, word_tokenize\n",
    "import nltk"
   ]
  },
  {
   "cell_type": "code",
   "execution_count": 0,
   "metadata": {
    "application/vnd.databricks.v1+cell": {
     "cellMetadata": {
      "byteLimit": 2048000,
      "rowLimit": 10000
     },
     "inputWidgets": {},
     "nuid": "b8e6fc08-8199-4f30-bf21-e0f5552b8aba",
     "showTitle": false,
     "tableResultSettingsMap": {},
     "title": ""
    }
   },
   "outputs": [],
   "source": [
    "from pyspark.sql.functions import col\n",
    "from pyspark.sql.types import StringType\n",
    "\n",
    "reviews_df = reviews_df.withColumn(\"review_title_clean\", col(\"review_title_clean\").cast(StringType()))\n",
    "reviews_df = reviews_df.withColumn(\"review_text_clean\", col(\"review_text_clean\").cast(StringType()))\n"
   ]
  },
  {
   "cell_type": "code",
   "execution_count": 0,
   "metadata": {
    "application/vnd.databricks.v1+cell": {
     "cellMetadata": {
      "byteLimit": 2048000,
      "rowLimit": 10000
     },
     "inputWidgets": {},
     "nuid": "96263854-0642-42e1-9479-d8ab8131c05e",
     "showTitle": false,
     "tableResultSettingsMap": {},
     "title": ""
    }
   },
   "outputs": [],
   "source": [
    "reviews_df = reviews_df.fillna({'review_title_clean': 'No title', 'review_text_clean': 'No review'})"
   ]
  },
  {
   "cell_type": "code",
   "execution_count": 0,
   "metadata": {
    "application/vnd.databricks.v1+cell": {
     "cellMetadata": {
      "byteLimit": 2048000,
      "rowLimit": 10000
     },
     "inputWidgets": {},
     "nuid": "f91a199e-06b4-4058-9b2e-be17536f01e6",
     "showTitle": false,
     "tableResultSettingsMap": {},
     "title": ""
    }
   },
   "outputs": [
    {
     "output_type": "stream",
     "name": "stdout",
     "output_type": "stream",
     "text": [
      "Requirement already satisfied: spacy in /databricks/python3/lib/python3.11/site-packages (3.7.2)\nRequirement already satisfied: spacy-legacy<3.1.0,>=3.0.11 in /databricks/python3/lib/python3.11/site-packages (from spacy) (3.0.12)\nRequirement already satisfied: spacy-loggers<2.0.0,>=1.0.0 in /databricks/python3/lib/python3.11/site-packages (from spacy) (1.0.5)\nRequirement already satisfied: murmurhash<1.1.0,>=0.28.0 in /databricks/python3/lib/python3.11/site-packages (from spacy) (1.0.10)\nRequirement already satisfied: cymem<2.1.0,>=2.0.2 in /databricks/python3/lib/python3.11/site-packages (from spacy) (2.0.8)\nRequirement already satisfied: preshed<3.1.0,>=3.0.2 in /databricks/python3/lib/python3.11/site-packages (from spacy) (3.0.9)\nRequirement already satisfied: thinc<8.3.0,>=8.1.8 in /databricks/python3/lib/python3.11/site-packages (from spacy) (8.2.3)\nRequirement already satisfied: wasabi<1.2.0,>=0.9.1 in /databricks/python3/lib/python3.11/site-packages (from spacy) (1.1.2)\nRequirement already satisfied: srsly<3.0.0,>=2.4.3 in /databricks/python3/lib/python3.11/site-packages (from spacy) (2.4.8)\nRequirement already satisfied: catalogue<2.1.0,>=2.0.6 in /databricks/python3/lib/python3.11/site-packages (from spacy) (2.0.10)\nRequirement already satisfied: weasel<0.4.0,>=0.1.0 in /databricks/python3/lib/python3.11/site-packages (from spacy) (0.3.4)\nRequirement already satisfied: typer<0.10.0,>=0.3.0 in /databricks/python3/lib/python3.11/site-packages (from spacy) (0.9.4)\nRequirement already satisfied: smart-open<7.0.0,>=5.2.1 in /databricks/python3/lib/python3.11/site-packages (from spacy) (5.2.1)\nRequirement already satisfied: tqdm<5.0.0,>=4.38.0 in /databricks/python3/lib/python3.11/site-packages (from spacy) (4.65.0)\nRequirement already satisfied: requests<3.0.0,>=2.13.0 in /databricks/python3/lib/python3.11/site-packages (from spacy) (2.31.0)\nRequirement already satisfied: pydantic!=1.8,!=1.8.1,<3.0.0,>=1.7.4 in /databricks/python3/lib/python3.11/site-packages (from spacy) (1.10.6)\nRequirement already satisfied: jinja2 in /databricks/python3/lib/python3.11/site-packages (from spacy) (3.1.2)\nRequirement already satisfied: setuptools in /databricks/python3/lib/python3.11/site-packages (from spacy) (68.0.0)\nRequirement already satisfied: packaging>=20.0 in /databricks/python3/lib/python3.11/site-packages (from spacy) (23.2)\nRequirement already satisfied: langcodes<4.0.0,>=3.2.0 in /databricks/python3/lib/python3.11/site-packages (from spacy) (3.4.0)\nRequirement already satisfied: numpy>=1.19.0 in /databricks/python3/lib/python3.11/site-packages (from spacy) (1.23.5)\nRequirement already satisfied: language-data>=1.2 in /databricks/python3/lib/python3.11/site-packages (from langcodes<4.0.0,>=3.2.0->spacy) (1.2.0)\nRequirement already satisfied: typing-extensions>=4.2.0 in /databricks/python3/lib/python3.11/site-packages (from pydantic!=1.8,!=1.8.1,<3.0.0,>=1.7.4->spacy) (4.10.0)\nRequirement already satisfied: charset-normalizer<4,>=2 in /databricks/python3/lib/python3.11/site-packages (from requests<3.0.0,>=2.13.0->spacy) (2.0.4)\nRequirement already satisfied: idna<4,>=2.5 in /databricks/python3/lib/python3.11/site-packages (from requests<3.0.0,>=2.13.0->spacy) (3.4)\nRequirement already satisfied: urllib3<3,>=1.21.1 in /databricks/python3/lib/python3.11/site-packages (from requests<3.0.0,>=2.13.0->spacy) (1.26.16)\nRequirement already satisfied: certifi>=2017.4.17 in /databricks/python3/lib/python3.11/site-packages (from requests<3.0.0,>=2.13.0->spacy) (2023.7.22)\nRequirement already satisfied: blis<0.8.0,>=0.7.8 in /databricks/python3/lib/python3.11/site-packages (from thinc<8.3.0,>=8.1.8->spacy) (0.7.11)\nRequirement already satisfied: confection<1.0.0,>=0.0.1 in /databricks/python3/lib/python3.11/site-packages (from thinc<8.3.0,>=8.1.8->spacy) (0.1.4)\nRequirement already satisfied: click<9.0.0,>=7.1.1 in /databricks/python3/lib/python3.11/site-packages (from typer<0.10.0,>=0.3.0->spacy) (8.0.4)\nRequirement already satisfied: cloudpathlib<0.17.0,>=0.7.0 in /databricks/python3/lib/python3.11/site-packages (from weasel<0.4.0,>=0.1.0->spacy) (0.16.0)\nRequirement already satisfied: MarkupSafe>=2.0 in /databricks/python3/lib/python3.11/site-packages (from jinja2->spacy) (2.1.1)\nRequirement already satisfied: marisa-trie>=0.7.7 in /databricks/python3/lib/python3.11/site-packages (from language-data>=1.2->langcodes<4.0.0,>=3.2.0->spacy) (1.1.1)\n\u001B[43mNote: you may need to restart the kernel using %restart_python or dbutils.library.restartPython() to use updated packages.\u001B[0m\nCollecting en-core-web-sm==3.7.1\r\n  Downloading https://github.com/explosion/spacy-models/releases/download/en_core_web_sm-3.7.1/en_core_web_sm-3.7.1-py3-none-any.whl (12.8 MB)\r\n\u001B[?25l     \u001B[90m━━━━━━━━━━━━━━━━━━━━━━━━━━━━━━━━━━━━━━━━\u001B[0m \u001B[32m0.0/12.8 MB\u001B[0m \u001B[31m?\u001B[0m eta \u001B[36m-:--:--\u001B[0m\r\u001B[2K     \u001B[91m━\u001B[0m\u001B[90m╺\u001B[0m\u001B[90m━━━━━━━━━━━━━━━━━━━━━━━━━━━━━━━━━━━━━━\u001B[0m \u001B[32m0.4/12.8 MB\u001B[0m \u001B[31m11.5 MB/s\u001B[0m eta \u001B[36m0:00:02\u001B[0m\r\u001B[2K     \u001B[91m━━━━━━━━━━━━━━━━\u001B[0m\u001B[90m╺\u001B[0m\u001B[90m━━━━━━━━━━━━━━━━━━━━━━━\u001B[0m \u001B[32m5.2/12.8 MB\u001B[0m \u001B[31m75.7 MB/s\u001B[0m eta \u001B[36m0:00:01\u001B[0m\r\u001B[2K     \u001B[91m━━━━━━━━━━━━━━━━━━━━━━━━━━━━━━━━━\u001B[0m\u001B[90m╺\u001B[0m\u001B[90m━━━━━\u001B[0m \u001B[32m11.0/12.8 MB\u001B[0m \u001B[31m156.5 MB/s\u001B[0m eta \u001B[36m0:00:01\u001B[0m\r\u001B[2K     \u001B[91m━━━━━━━━━━━━━━━━━━━━━━━━━━━━━━━━━━━━━━\u001B[0m\u001B[91m╸\u001B[0m \u001B[32m12.8/12.8 MB\u001B[0m \u001B[31m174.0 MB/s\u001B[0m eta \u001B[36m0:00:01\u001B[0m\r\u001B[2K     \u001B[91m━━━━━━━━━━━━━━━━━━━━━━━━━━━━━━━━━━━━━━\u001B[0m\u001B[91m╸\u001B[0m \u001B[32m12.8/12.8 MB\u001B[0m \u001B[31m174.0 MB/s\u001B[0m eta \u001B[36m0:00:01\u001B[0m\r\u001B[2K     \u001B[90m━━━━━━━━━━━━━━━━━━━━━━━━━━━━━━━━━━━━━━━━\u001B[0m \u001B[32m12.8/12.8 MB\u001B[0m \u001B[31m81.0 MB/s\u001B[0m eta \u001B[36m0:00:00\u001B[0m\r\n\u001B[?25hRequirement already satisfied: spacy<3.8.0,>=3.7.2 in /databricks/python3/lib/python3.11/site-packages (from en-core-web-sm==3.7.1) (3.7.2)\r\nRequirement already satisfied: spacy-legacy<3.1.0,>=3.0.11 in /databricks/python3/lib/python3.11/site-packages (from spacy<3.8.0,>=3.7.2->en-core-web-sm==3.7.1) (3.0.12)\r\nRequirement already satisfied: spacy-loggers<2.0.0,>=1.0.0 in /databricks/python3/lib/python3.11/site-packages (from spacy<3.8.0,>=3.7.2->en-core-web-sm==3.7.1) (1.0.5)\r\nRequirement already satisfied: murmurhash<1.1.0,>=0.28.0 in /databricks/python3/lib/python3.11/site-packages (from spacy<3.8.0,>=3.7.2->en-core-web-sm==3.7.1) (1.0.10)\r\nRequirement already satisfied: cymem<2.1.0,>=2.0.2 in /databricks/python3/lib/python3.11/site-packages (from spacy<3.8.0,>=3.7.2->en-core-web-sm==3.7.1) (2.0.8)\r\nRequirement already satisfied: preshed<3.1.0,>=3.0.2 in /databricks/python3/lib/python3.11/site-packages (from spacy<3.8.0,>=3.7.2->en-core-web-sm==3.7.1) (3.0.9)\r\nRequirement already satisfied: thinc<8.3.0,>=8.1.8 in /databricks/python3/lib/python3.11/site-packages (from spacy<3.8.0,>=3.7.2->en-core-web-sm==3.7.1) (8.2.3)\r\nRequirement already satisfied: wasabi<1.2.0,>=0.9.1 in /databricks/python3/lib/python3.11/site-packages (from spacy<3.8.0,>=3.7.2->en-core-web-sm==3.7.1) (1.1.2)\r\nRequirement already satisfied: srsly<3.0.0,>=2.4.3 in /databricks/python3/lib/python3.11/site-packages (from spacy<3.8.0,>=3.7.2->en-core-web-sm==3.7.1) (2.4.8)\r\nRequirement already satisfied: catalogue<2.1.0,>=2.0.6 in /databricks/python3/lib/python3.11/site-packages (from spacy<3.8.0,>=3.7.2->en-core-web-sm==3.7.1) (2.0.10)\r\nRequirement already satisfied: weasel<0.4.0,>=0.1.0 in /databricks/python3/lib/python3.11/site-packages (from spacy<3.8.0,>=3.7.2->en-core-web-sm==3.7.1) (0.3.4)\r\nRequirement already satisfied: typer<0.10.0,>=0.3.0 in /databricks/python3/lib/python3.11/site-packages (from spacy<3.8.0,>=3.7.2->en-core-web-sm==3.7.1) (0.9.4)\r\nRequirement already satisfied: smart-open<7.0.0,>=5.2.1 in /databricks/python3/lib/python3.11/site-packages (from spacy<3.8.0,>=3.7.2->en-core-web-sm==3.7.1) (5.2.1)\r\nRequirement already satisfied: tqdm<5.0.0,>=4.38.0 in /databricks/python3/lib/python3.11/site-packages (from spacy<3.8.0,>=3.7.2->en-core-web-sm==3.7.1) (4.65.0)\r\nRequirement already satisfied: requests<3.0.0,>=2.13.0 in /databricks/python3/lib/python3.11/site-packages (from spacy<3.8.0,>=3.7.2->en-core-web-sm==3.7.1) (2.31.0)\r\nRequirement already satisfied: pydantic!=1.8,!=1.8.1,<3.0.0,>=1.7.4 in /databricks/python3/lib/python3.11/site-packages (from spacy<3.8.0,>=3.7.2->en-core-web-sm==3.7.1) (1.10.6)\r\nRequirement already satisfied: jinja2 in /databricks/python3/lib/python3.11/site-packages (from spacy<3.8.0,>=3.7.2->en-core-web-sm==3.7.1) (3.1.2)\r\nRequirement already satisfied: setuptools in /databricks/python3/lib/python3.11/site-packages (from spacy<3.8.0,>=3.7.2->en-core-web-sm==3.7.1) (68.0.0)\r\nRequirement already satisfied: packaging>=20.0 in /databricks/python3/lib/python3.11/site-packages (from spacy<3.8.0,>=3.7.2->en-core-web-sm==3.7.1) (23.2)\r\nRequirement already satisfied: langcodes<4.0.0,>=3.2.0 in /databricks/python3/lib/python3.11/site-packages (from spacy<3.8.0,>=3.7.2->en-core-web-sm==3.7.1) (3.4.0)\r\nRequirement already satisfied: numpy>=1.19.0 in /databricks/python3/lib/python3.11/site-packages (from spacy<3.8.0,>=3.7.2->en-core-web-sm==3.7.1) (1.23.5)\r\nRequirement already satisfied: language-data>=1.2 in /databricks/python3/lib/python3.11/site-packages (from langcodes<4.0.0,>=3.2.0->spacy<3.8.0,>=3.7.2->en-core-web-sm==3.7.1) (1.2.0)\r\nRequirement already satisfied: typing-extensions>=4.2.0 in /databricks/python3/lib/python3.11/site-packages (from pydantic!=1.8,!=1.8.1,<3.0.0,>=1.7.4->spacy<3.8.0,>=3.7.2->en-core-web-sm==3.7.1) (4.10.0)\r\nRequirement already satisfied: charset-normalizer<4,>=2 in /databricks/python3/lib/python3.11/site-packages (from requests<3.0.0,>=2.13.0->spacy<3.8.0,>=3.7.2->en-core-web-sm==3.7.1) (2.0.4)\r\nRequirement already satisfied: idna<4,>=2.5 in /databricks/python3/lib/python3.11/site-packages (from requests<3.0.0,>=2.13.0->spacy<3.8.0,>=3.7.2->en-core-web-sm==3.7.1) (3.4)\r\nRequirement already satisfied: urllib3<3,>=1.21.1 in /databricks/python3/lib/python3.11/site-packages (from requests<3.0.0,>=2.13.0->spacy<3.8.0,>=3.7.2->en-core-web-sm==3.7.1) (1.26.16)\r\nRequirement already satisfied: certifi>=2017.4.17 in /databricks/python3/lib/python3.11/site-packages (from requests<3.0.0,>=2.13.0->spacy<3.8.0,>=3.7.2->en-core-web-sm==3.7.1) (2023.7.22)\r\nRequirement already satisfied: blis<0.8.0,>=0.7.8 in /databricks/python3/lib/python3.11/site-packages (from thinc<8.3.0,>=8.1.8->spacy<3.8.0,>=3.7.2->en-core-web-sm==3.7.1) (0.7.11)\r\nRequirement already satisfied: confection<1.0.0,>=0.0.1 in /databricks/python3/lib/python3.11/site-packages (from thinc<8.3.0,>=8.1.8->spacy<3.8.0,>=3.7.2->en-core-web-sm==3.7.1) (0.1.4)\r\nRequirement already satisfied: click<9.0.0,>=7.1.1 in /databricks/python3/lib/python3.11/site-packages (from typer<0.10.0,>=0.3.0->spacy<3.8.0,>=3.7.2->en-core-web-sm==3.7.1) (8.0.4)\r\nRequirement already satisfied: cloudpathlib<0.17.0,>=0.7.0 in /databricks/python3/lib/python3.11/site-packages (from weasel<0.4.0,>=0.1.0->spacy<3.8.0,>=3.7.2->en-core-web-sm==3.7.1) (0.16.0)\r\nRequirement already satisfied: MarkupSafe>=2.0 in /databricks/python3/lib/python3.11/site-packages (from jinja2->spacy<3.8.0,>=3.7.2->en-core-web-sm==3.7.1) (2.1.1)\r\nRequirement already satisfied: marisa-trie>=0.7.7 in /databricks/python3/lib/python3.11/site-packages (from language-data>=1.2->langcodes<4.0.0,>=3.2.0->spacy<3.8.0,>=3.7.2->en-core-web-sm==3.7.1) (1.1.1)\r\nInstalling collected packages: en-core-web-sm\r\nSuccessfully installed en-core-web-sm-3.7.1\r\n\r\n\u001B[1m[\u001B[0m\u001B[34;49mnotice\u001B[0m\u001B[1;39;49m]\u001B[0m\u001B[39;49m A new release of pip is available: \u001B[0m\u001B[31;49m23.2.1\u001B[0m\u001B[39;49m -> \u001B[0m\u001B[32;49m24.3.1\u001B[0m\r\n\u001B[1m[\u001B[0m\u001B[34;49mnotice\u001B[0m\u001B[1;39;49m]\u001B[0m\u001B[39;49m To update, run: \u001B[0m\u001B[32;49mpip install --upgrade pip\u001B[0m\r\n\u001B[38;5;2m✔ Download and installation successful\u001B[0m\r\nYou can now load the package via spacy.load('en_core_web_sm')\r\n"
     ]
    }
   ],
   "source": [
    "!pip install spacy\n",
    "!python -m spacy download en_core_web_sm\n",
    "import spacy\n",
    "from pyspark.sql.functions import udf\n",
    "from pyspark.sql.types import StringType"
   ]
  },
  {
   "cell_type": "code",
   "execution_count": 0,
   "metadata": {
    "application/vnd.databricks.v1+cell": {
     "cellMetadata": {
      "byteLimit": 2048000,
      "rowLimit": 10000
     },
     "inputWidgets": {},
     "nuid": "778e93d3-4db7-4958-ba8e-bb46b7ec5e14",
     "showTitle": false,
     "tableResultSettingsMap": {},
     "title": ""
    }
   },
   "outputs": [
    {
     "output_type": "stream",
     "name": "stdout",
     "output_type": "stream",
     "text": [
      "+------------------+-------------+----------------+\n|review_title_clean|stemmed_title|lemmatized_title|\n+------------------+-------------+----------------+\n|        best cream|      bes cre|      good cream|\n|          good one|      goo one|        good one|\n|       rd purchase|       rd pur|     rd purchase|\n|        nykaa skin|      nyk ski|      nykaa skin|\n|     great product|      gre pro|   great product|\n+------------------+-------------+----------------+\nonly showing top 5 rows\n\n+--------------------+--------------------+--------------------+\n|   review_text_clean|        stemmed_text|     lemmatized_text|\n+--------------------+--------------------+--------------------+\n|literally best cr...| lit bes cre ant agi|literally good cr...|\n|                    |                    |                    |\n|rd purchase good ...|rd pur goo tim bu...|rd purchase good ...|\n|result awesome re...|res awe res see o...|result awesome re...|\n|seems small perfe...|     see sma per tra|seem small perfec...|\n+--------------------+--------------------+--------------------+\nonly showing top 5 rows\n\n"
     ]
    }
   ],
   "source": [
    "nlp = spacy.load(\"en_core_web_sm\")\n",
    "\n",
    "# Define the stemming and lemmatization functions\n",
    "def process_text_spacy(text):\n",
    "    try:\n",
    "        if isinstance(text, str) and text:\n",
    "            doc = nlp(text)\n",
    "            lemmatized = \" \".join([token.lemma_ for token in doc])  # Lemmatization using SpaCy\n",
    "            stemmed = \" \".join([token.text[:3] for token in doc])   # Simulated \"stemming\" by truncating words (example)\n",
    "            return stemmed, lemmatized\n",
    "        else:\n",
    "            return \"\", \"\"  # Handle invalid input gracefully\n",
    "    except Exception as e:\n",
    "        print(f\"Error processing text: {text} | Error: {e}\")\n",
    "        return \"\", \"\"\n",
    "\n",
    "# Register UDFs for stemming and lemmatization\n",
    "stem_udf = udf(lambda text: process_text_spacy(text)[0], StringType())\n",
    "lemmatize_udf = udf(lambda text: process_text_spacy(text)[1], StringType())\n",
    "\n",
    "# Fill missing values for relevant columns\n",
    "reviews_df = reviews_df.fillna({\n",
    "    \"review_title_clean\": \"No title\",\n",
    "    \"review_text_clean\": \"No review\"\n",
    "})\n",
    "\n",
    "# Apply UDFs to DataFrame columns\n",
    "reviews_df = reviews_df.withColumn(\"stemmed_title\", stem_udf(reviews_df[\"review_title_clean\"]))\n",
    "reviews_df = reviews_df.withColumn(\"lemmatized_title\", lemmatize_udf(reviews_df[\"review_title_clean\"]))\n",
    "reviews_df = reviews_df.withColumn(\"stemmed_text\", stem_udf(reviews_df[\"review_text_clean\"]))\n",
    "reviews_df = reviews_df.withColumn(\"lemmatized_text\", lemmatize_udf(reviews_df[\"review_text_clean\"]))\n",
    "\n",
    "# Show results for titles\n",
    "reviews_df.select(\"review_title_clean\", \"stemmed_title\", \"lemmatized_title\").show(5)\n",
    "\n",
    "# Show results for text\n",
    "reviews_df.select(\"review_text_clean\", \"stemmed_text\", \"lemmatized_text\").show(5)"
   ]
  },
  {
   "cell_type": "markdown",
   "metadata": {
    "application/vnd.databricks.v1+cell": {
     "cellMetadata": {
      "byteLimit": 2048000,
      "rowLimit": 10000
     },
     "inputWidgets": {},
     "nuid": "121521ff-219f-4e96-a1e6-4ae9591f6b9f",
     "showTitle": false,
     "tableResultSettingsMap": {},
     "title": ""
    }
   },
   "source": [
    "### Structured Data"
   ]
  },
  {
   "cell_type": "markdown",
   "metadata": {
    "application/vnd.databricks.v1+cell": {
     "cellMetadata": {
      "byteLimit": 2048000,
      "rowLimit": 10000
     },
     "inputWidgets": {},
     "nuid": "c34e8ae8-532b-40e0-a298-9cfb28227ea1",
     "showTitle": false,
     "tableResultSettingsMap": {},
     "title": ""
    }
   },
   "source": [
    "#### Outcome Variable (Y): Customer Engagement Level"
   ]
  },
  {
   "cell_type": "code",
   "execution_count": 0,
   "metadata": {
    "application/vnd.databricks.v1+cell": {
     "cellMetadata": {
      "byteLimit": 2048000,
      "rowLimit": 10000
     },
     "inputWidgets": {},
     "nuid": "1ad13633-7b4e-415e-b245-96fd08945c01",
     "showTitle": false,
     "tableResultSettingsMap": {},
     "title": ""
    }
   },
   "outputs": [],
   "source": [
    "from pyspark.sql.functions import datediff, current_date\n",
    "from pyspark.sql.functions import min, max\n",
    "from pyspark.sql.functions import countDistinct\n",
    "from pyspark.ml.feature import StringIndexer"
   ]
  },
  {
   "cell_type": "code",
   "execution_count": 0,
   "metadata": {
    "application/vnd.databricks.v1+cell": {
     "cellMetadata": {
      "byteLimit": 2048000,
      "rowLimit": 10000
     },
     "inputWidgets": {},
     "nuid": "3ef1dfb0-90e4-4854-acc7-caf4bb27d829",
     "showTitle": false,
     "tableResultSettingsMap": {},
     "title": ""
    }
   },
   "outputs": [
    {
     "output_type": "stream",
     "name": "stdout",
     "output_type": "stream",
     "text": [
      "+----------------+----------------+\n|      event_type|event_type_index|\n+----------------+----------------+\n|        purchase|             3.0|\n|            cart|             1.0|\n|            view|             0.0|\n|remove_from_cart|             2.0|\n+----------------+----------------+\n\n"
     ]
    }
   ],
   "source": [
    "#Encode event_type to map engagement levels\n",
    "cosmetic_df = cosmetic_df.drop(\"event_type_index\")\n",
    "\n",
    "indexer = StringIndexer(inputCol=\"event_type\", outputCol=\"event_type_index\")\n",
    "cosmetic_df = indexer.fit(cosmetic_df).transform(cosmetic_df)\n",
    "\n",
    "cosmetic_df.select(\"event_type\", \"event_type_index\").distinct().show()"
   ]
  },
  {
   "cell_type": "code",
   "execution_count": 0,
   "metadata": {
    "application/vnd.databricks.v1+cell": {
     "cellMetadata": {
      "byteLimit": 2048000,
      "rowLimit": 10000
     },
     "inputWidgets": {},
     "nuid": "0187d2ae-89a1-4d2a-ad86-253b1359d5ae",
     "showTitle": false,
     "tableResultSettingsMap": {},
     "title": ""
    }
   },
   "outputs": [
    {
     "output_type": "stream",
     "name": "stdout",
     "output_type": "stream",
     "text": [
      "+----------------+-------+\n|event_type_index|  count|\n+----------------+-------+\n|             0.0|2032076|\n|             1.0|1126995|\n|             3.0| 263570|\n|             2.0| 609461|\n+----------------+-------+\n\n"
     ]
    }
   ],
   "source": [
    "# Distribution of classes\n",
    "cosmetic_df.groupBy(\"event_type_index\").count().show()"
   ]
  },
  {
   "cell_type": "markdown",
   "metadata": {
    "application/vnd.databricks.v1+cell": {
     "cellMetadata": {
      "byteLimit": 2048000,
      "rowLimit": 10000
     },
     "inputWidgets": {},
     "nuid": "313fbdad-43ad-4415-9bc4-fc1dc4664416",
     "showTitle": false,
     "tableResultSettingsMap": {},
     "title": ""
    }
   },
   "source": [
    "#### Predictor Variables (X): Structured Features"
   ]
  },
  {
   "cell_type": "code",
   "execution_count": 0,
   "metadata": {
    "application/vnd.databricks.v1+cell": {
     "cellMetadata": {
      "byteLimit": 2048000,
      "rowLimit": 10000
     },
     "inputWidgets": {},
     "nuid": "4f3c162d-cdc5-485f-8af6-961065781f36",
     "showTitle": false,
     "tableResultSettingsMap": {},
     "title": ""
    }
   },
   "outputs": [],
   "source": [
    "from pyspark.sql.functions import datediff, current_date\n",
    "from pyspark.sql.functions import min, max\n",
    "from pyspark.sql.functions import countDistinct"
   ]
  },
  {
   "cell_type": "code",
   "execution_count": 0,
   "metadata": {
    "application/vnd.databricks.v1+cell": {
     "cellMetadata": {
      "byteLimit": 2048000,
      "rowLimit": 10000
     },
     "inputWidgets": {},
     "nuid": "ac3d5fde-fcf8-4181-b3cf-0b414e243366",
     "showTitle": false,
     "tableResultSettingsMap": {},
     "title": ""
    }
   },
   "outputs": [],
   "source": [
    "#Recency: Days since the last interaction\n",
    "\n",
    "cosmetic_df = cosmetic_df.withColumn(\"recency\", datediff(current_date(), col(\"event_time\")))"
   ]
  },
  {
   "cell_type": "code",
   "execution_count": 0,
   "metadata": {
    "application/vnd.databricks.v1+cell": {
     "cellMetadata": {
      "byteLimit": 2048000,
      "rowLimit": 10000
     },
     "inputWidgets": {},
     "nuid": "85919bd2-2e7b-4f7f-842c-43c365339004",
     "showTitle": false,
     "tableResultSettingsMap": {},
     "title": ""
    }
   },
   "outputs": [],
   "source": [
    "# Frequency: Total interactions per user session\n",
    "\n",
    "frequency_df = cosmetic_df.groupBy(\"user_session\").count().withColumnRenamed(\"count\", \"frequency\")\n",
    "cosmetic_df = cosmetic_df.join(frequency_df, on=\"user_session\", how=\"left\")"
   ]
  },
  {
   "cell_type": "code",
   "execution_count": 0,
   "metadata": {
    "application/vnd.databricks.v1+cell": {
     "cellMetadata": {
      "byteLimit": 2048000,
      "rowLimit": 10000
     },
     "inputWidgets": {},
     "nuid": "1690ea17-1e29-4258-8bc8-469cc4cd4381",
     "showTitle": false,
     "tableResultSettingsMap": {},
     "title": ""
    }
   },
   "outputs": [],
   "source": [
    "# Product Popularity: Number of purchases per product\n",
    "\n",
    "product_popularity = cosmetic_df.filter(col(\"event_type\") == \"purchase\").groupBy(\"cosmeticProductId\").count().withColumnRenamed(\"count\", \"popularity\")\n",
    "cosmetic_df = cosmetic_df.join(product_popularity, on=\"cosmeticProductId\", how=\"left\")"
   ]
  },
  {
   "cell_type": "code",
   "execution_count": 0,
   "metadata": {
    "application/vnd.databricks.v1+cell": {
     "cellMetadata": {
      "byteLimit": 2048000,
      "rowLimit": 10000
     },
     "inputWidgets": {},
     "nuid": "9e87281c-d071-44b3-99f5-c7df6a2cc0bb",
     "showTitle": false,
     "tableResultSettingsMap": {},
     "title": ""
    }
   },
   "outputs": [],
   "source": [
    "#Session Diversity: Number of unique product categories viewed in a session\n",
    "\n",
    "session_diversity = cosmetic_df.groupBy(\"user_session\").agg(countDistinct(\"category_code\").alias(\"session_diversity\"))\n",
    "cosmetic_df = cosmetic_df.join(session_diversity, on=\"user_session\", how=\"left\")"
   ]
  },
  {
   "cell_type": "markdown",
   "metadata": {
    "application/vnd.databricks.v1+cell": {
     "cellMetadata": {
      "byteLimit": 2048000,
      "rowLimit": 10000
     },
     "inputWidgets": {},
     "nuid": "9739984e-a1e7-4b01-9658-464335d00525",
     "showTitle": false,
     "tableResultSettingsMap": {},
     "title": ""
    }
   },
   "source": [
    "## Data Transformation"
   ]
  },
  {
   "cell_type": "code",
   "execution_count": 0,
   "metadata": {
    "application/vnd.databricks.v1+cell": {
     "cellMetadata": {
      "byteLimit": 2048000,
      "rowLimit": 10000
     },
     "inputWidgets": {},
     "nuid": "51b3284b-28c9-45a1-b263-70daf8597666",
     "showTitle": false,
     "tableResultSettingsMap": {},
     "title": ""
    }
   },
   "outputs": [],
   "source": [
    "from pyspark.ml.feature import StringIndexer, VectorAssembler, StandardScaler\n",
    "from pyspark.sql.functions import mean, stddev, col\n",
    "from pyspark.sql.types import DoubleType, IntegerType"
   ]
  },
  {
   "cell_type": "markdown",
   "metadata": {
    "application/vnd.databricks.v1+cell": {
     "cellMetadata": {
      "byteLimit": 2048000,
      "rowLimit": 10000
     },
     "inputWidgets": {},
     "nuid": "b77e286f-a2bf-4f9f-b1d3-1883873ef247",
     "showTitle": false,
     "tableResultSettingsMap": {},
     "title": ""
    }
   },
   "source": [
    "### Transform Cosmetic Data (Structured Interaction Data)"
   ]
  },
  {
   "cell_type": "code",
   "execution_count": 0,
   "metadata": {
    "application/vnd.databricks.v1+cell": {
     "cellMetadata": {
      "byteLimit": 2048000,
      "rowLimit": 10000
     },
     "inputWidgets": {},
     "nuid": "e4c4226e-d9d5-42f3-abf6-8f754bf79461",
     "showTitle": false,
     "tableResultSettingsMap": {},
     "title": ""
    }
   },
   "outputs": [],
   "source": [
    "# Scale `cosmetic_price` column\n",
    "assembler = VectorAssembler(inputCols=[\"cosmetic_price\"], outputCol=\"price_vec\")\n",
    "cosmetic_df = assembler.transform(cosmetic_df)\n",
    "\n",
    "scaler = StandardScaler(inputCol=\"price_vec\", outputCol=\"price_scaled\")\n",
    "cosmetic_df = scaler.fit(cosmetic_df).transform(cosmetic_df)"
   ]
  },
  {
   "cell_type": "markdown",
   "metadata": {
    "application/vnd.databricks.v1+cell": {
     "cellMetadata": {
      "byteLimit": 2048000,
      "rowLimit": 10000
     },
     "inputWidgets": {},
     "nuid": "481aba64-0921-43f8-991e-f5aa151f2847",
     "showTitle": false,
     "tableResultSettingsMap": {},
     "title": ""
    }
   },
   "source": [
    "### Transform Reviews Data with GPT Tokenizer (Unstructured Sentiment Data)"
   ]
  },
  {
   "cell_type": "code",
   "execution_count": 0,
   "metadata": {
    "application/vnd.databricks.v1+cell": {
     "cellMetadata": {
      "byteLimit": 2048000,
      "rowLimit": 10000
     },
     "inputWidgets": {},
     "nuid": "83e231fd-4a48-43ff-ac46-d1e6bcd46ede",
     "showTitle": false,
     "tableResultSettingsMap": {},
     "title": ""
    }
   },
   "outputs": [
    {
     "output_type": "stream",
     "name": "stderr",
     "output_type": "stream",
     "text": [
      "2024-11-24 02:24:23.294516: I external/local_tsl/tsl/cuda/cudart_stub.cc:32] Could not find cuda drivers on your machine, GPU will not be used.\n2024-11-24 02:24:23.350084: I external/local_tsl/tsl/cuda/cudart_stub.cc:32] Could not find cuda drivers on your machine, GPU will not be used.\n2024-11-24 02:24:23.580436: I tensorflow/core/platform/cpu_feature_guard.cc:210] This TensorFlow binary is optimized to use available CPU instructions in performance-critical operations.\nTo enable the following instructions: AVX2 FMA, in other operations, rebuild TensorFlow with the appropriate compiler flags.\n2024-11-24 02:24:25.916559: W tensorflow/compiler/tf2tensorrt/utils/py_utils.cc:38] TF-TRT Warning: Could not find TensorRT\n"
     ]
    },
    {
     "output_type": "stream",
     "name": "stdout",
     "output_type": "stream",
     "text": [
      "[[-0.16730331 -1.3368105  -0.01049148 ...  0.62573016  1.1977668\n  -1.2075031 ]]\n"
     ]
    },
    {
     "output_type": "stream",
     "name": "stderr",
     "output_type": "stream",
     "text": [
      "huggingface/tokenizers: The current process just got forked, after parallelism has already been used. Disabling parallelism to avoid deadlocks...\nTo disable this warning, you can either:\n\t- Avoid using `tokenizers` before the fork if possible\n\t- Explicitly set the environment variable TOKENIZERS_PARALLELISM=(true | false)\n"
     ]
    }
   ],
   "source": [
    "from transformers import AutoTokenizer, AutoModel\n",
    "\n",
    "# Load a pre-trained GPT-like model\n",
    "tokenizer = AutoTokenizer.from_pretrained(\"EleutherAI/gpt-neo-1.3B\")\n",
    "model = AutoModel.from_pretrained(\"EleutherAI/gpt-neo-1.3B\")\n",
    "\n",
    "# Encode text to embeddings\n",
    "text = \"This moisturizer is amazing for dry skin!\"\n",
    "inputs = tokenizer(text, return_tensors=\"pt\")\n",
    "outputs = model(**inputs)\n",
    "embeddings = outputs.last_hidden_state.mean(dim=1).detach().numpy()\n",
    "print(embeddings)"
   ]
  },
  {
   "cell_type": "code",
   "execution_count": 0,
   "metadata": {
    "application/vnd.databricks.v1+cell": {
     "cellMetadata": {
      "byteLimit": 2048000,
      "rowLimit": 10000
     },
     "inputWidgets": {},
     "nuid": "432832f0-9a59-4bba-a187-a0cc13e6b2af",
     "showTitle": false,
     "tableResultSettingsMap": {},
     "title": ""
    }
   },
   "outputs": [],
   "source": [
    "# Cast numerical columns to appropriate types\n",
    "reviews_df = reviews_df.withColumn(\"mrp\", reviews_df[\"mrp\"].cast(DoubleType())) \\\n",
    "    .withColumn(\"review_price\", reviews_df[\"review_price\"].cast(DoubleType())) \\\n",
    "    .withColumn(\"product_rating\", reviews_df[\"product_rating\"].cast(DoubleType())) \\\n",
    "    .withColumn(\"product_rating_count\", reviews_df[\"product_rating_count\"].cast(IntegerType()))"
   ]
  },
  {
   "cell_type": "markdown",
   "metadata": {
    "application/vnd.databricks.v1+cell": {
     "cellMetadata": {
      "byteLimit": 2048000,
      "rowLimit": 10000
     },
     "inputWidgets": {},
     "nuid": "54e175b4-4869-42a3-aa63-e558c5b90d3d",
     "showTitle": false,
     "tableResultSettingsMap": {},
     "title": ""
    }
   },
   "source": [
    "### Transform Mapping Data"
   ]
  },
  {
   "cell_type": "code",
   "execution_count": 0,
   "metadata": {
    "application/vnd.databricks.v1+cell": {
     "cellMetadata": {
      "byteLimit": 2048000,
      "rowLimit": 10000
     },
     "inputWidgets": {},
     "nuid": "56d9e78f-cee0-4128-8042-9a55d46ada13",
     "showTitle": false,
     "tableResultSettingsMap": {},
     "title": ""
    }
   },
   "outputs": [],
   "source": [
    "# Cast columns to IntegerType in `mapping_df`\n",
    "mapping_df = mapping_df.withColumn(\"cosmeticProductId\", mapping_df[\"cosmeticProductId\"].cast(IntegerType()))\n",
    "mapping_df = mapping_df.withColumn(\"reviewProductId\", mapping_df[\"reviewProductId\"].cast(IntegerType()))\n",
    "\n",
    "# Calculate mean and standard deviation for filtering outliers\n",
    "stats = mapping_df.select(\n",
    "    mean(\"reviewProductId\").alias(\"mean_reviews\"),\n",
    "    stddev(\"reviewProductId\").alias(\"stddev_reviews\")\n",
    ").collect()[0]\n",
    "\n",
    "mean_reviews = stats[\"mean_reviews\"]\n",
    "stddev_reviews = stats[\"stddev_reviews\"]\n",
    "\n",
    "# Filter out outliers beyond 3 standard deviations\n",
    "mapping_df = mapping_df.filter(\n",
    "    (col(\"reviewProductId\") > mean_reviews - 3 * stddev_reviews) &\n",
    "    (col(\"reviewProductId\") < mean_reviews + 3 * stddev_reviews)\n",
    ")\n",
    "\n",
    "# Scale `cosmeticProductId` and `reviewProductId` in `mapping_df`\n",
    "assembler = VectorAssembler(inputCols=[\"cosmeticProductId\", \"reviewProductId\"], outputCol=\"mapping_features_vec\")\n",
    "mapping_df = assembler.transform(mapping_df)\n",
    "\n",
    "scaler = StandardScaler(inputCol=\"mapping_features_vec\", outputCol=\"mapping_scaled_features\")\n",
    "mapping_df = scaler.fit(mapping_df).transform(mapping_df)"
   ]
  },
  {
   "cell_type": "markdown",
   "metadata": {
    "application/vnd.databricks.v1+cell": {
     "cellMetadata": {
      "byteLimit": 2048000,
      "rowLimit": 10000
     },
     "inputWidgets": {},
     "nuid": "b0f9e71d-cccf-4173-8e1c-d4ee298ce165",
     "showTitle": false,
     "tableResultSettingsMap": {},
     "title": ""
    }
   },
   "source": []
  }
 ],
 "metadata": {
  "application/vnd.databricks.v1+notebook": {
   "dashboards": [],
   "environmentMetadata": {
    "base_environment": "",
    "client": "1"
   },
   "language": "python",
   "notebookMetadata": {
    "mostRecentlyExecutedCommandWithImplicitDF": {
     "commandId": 429976835068099,
     "dataframes": [
      "_sqldf"
     ]
    },
    "pythonIndentUnit": 2
   },
   "notebookName": "Pipeline without EDA.py",
   "widgets": {}
  },
  "language_info": {
   "name": "python"
  }
 },
 "nbformat": 4,
 "nbformat_minor": 0
}
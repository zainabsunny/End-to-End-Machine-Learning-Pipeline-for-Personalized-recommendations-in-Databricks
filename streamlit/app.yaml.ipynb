{
 "cells": [
  {
   "cell_type": "code",
   "execution_count": 0,
   "metadata": {
    "application/vnd.databricks.v1+cell": {
     "cellMetadata": {},
     "inputWidgets": {},
     "nuid": "f3c23167-2c1f-4e30-8116-8aae69ea345d",
     "showTitle": false,
     "tableResultSettingsMap": {},
     "title": ""
    }
   },
   "outputs": [],
   "source": [
    "command: [\n",
    "  \"streamlit\", \n",
    "  \"run\",\n",
    "  \"app.py\"\n",
    "]\n",
    "\n",
    "env:\n",
    "  - name: \"DATABRICKS_WAREHOUSE_ID\"\n",
    "    valueFrom: \"sql-warehouse\"\n",
    "  - name: STREAMLIT_BROWSER_GATHER_USAGE_STATS\n",
    "    value: \"false\"\n"
   ]
  }
 ],
 "metadata": {
  "application/vnd.databricks.v1+notebook": {
   "computePreferences": null,
   "dashboards": [],
   "environmentMetadata": {
    "base_environment": "",
    "environment_version": "2"
   },
   "language": "python",
   "notebookMetadata": {
    "pythonIndentUnit": 4
   },
   "notebookName": "app.yaml",
   "widgets": {}
  },
  "language_info": {
   "name": "python"
  }
 },
 "nbformat": 4,
 "nbformat_minor": 0
}
